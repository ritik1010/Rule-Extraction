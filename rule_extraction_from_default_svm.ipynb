{
 "cells": [
  {
   "cell_type": "code",
   "execution_count": 1,
   "metadata": {},
   "outputs": [],
   "source": [
    "import pandas as pd\n",
    "import numpy as np\n",
    "from sklearn import svm\n",
    "import math"
   ]
  },
  {
   "cell_type": "code",
   "execution_count": 2,
   "metadata": {},
   "outputs": [],
   "source": [
    "pd.set_option('display.max_rows', None)"
   ]
  },
  {
   "cell_type": "code",
   "execution_count": 3,
   "metadata": {},
   "outputs": [],
   "source": [
    "##global variables\n",
    "tz=0\n",
    "tpr_by_fpr_min_thresh=0\n",
    "target_column_name='Outcome'"
   ]
  },
  {
   "cell_type": "code",
   "execution_count": 4,
   "metadata": {},
   "outputs": [],
   "source": [
    "data=pd.read_csv(\"datasets/diabetes.csv\")"
   ]
  },
  {
   "cell_type": "code",
   "execution_count": 5,
   "metadata": {},
   "outputs": [
    {
     "data": {
      "text/html": [
       "<div>\n",
       "<style scoped>\n",
       "    .dataframe tbody tr th:only-of-type {\n",
       "        vertical-align: middle;\n",
       "    }\n",
       "\n",
       "    .dataframe tbody tr th {\n",
       "        vertical-align: top;\n",
       "    }\n",
       "\n",
       "    .dataframe thead th {\n",
       "        text-align: right;\n",
       "    }\n",
       "</style>\n",
       "<table border=\"1\" class=\"dataframe\">\n",
       "  <thead>\n",
       "    <tr style=\"text-align: right;\">\n",
       "      <th></th>\n",
       "      <th>Pregnancies</th>\n",
       "      <th>Glucose</th>\n",
       "      <th>BloodPressure</th>\n",
       "      <th>SkinThickness</th>\n",
       "      <th>Insulin</th>\n",
       "      <th>BMI</th>\n",
       "      <th>DiabetesPedigreeFunction</th>\n",
       "      <th>Age</th>\n",
       "      <th>Outcome</th>\n",
       "    </tr>\n",
       "  </thead>\n",
       "  <tbody>\n",
       "    <tr>\n",
       "      <th>0</th>\n",
       "      <td>6</td>\n",
       "      <td>148</td>\n",
       "      <td>72</td>\n",
       "      <td>35</td>\n",
       "      <td>0</td>\n",
       "      <td>33.6</td>\n",
       "      <td>0.627</td>\n",
       "      <td>50</td>\n",
       "      <td>1</td>\n",
       "    </tr>\n",
       "    <tr>\n",
       "      <th>1</th>\n",
       "      <td>1</td>\n",
       "      <td>85</td>\n",
       "      <td>66</td>\n",
       "      <td>29</td>\n",
       "      <td>0</td>\n",
       "      <td>26.6</td>\n",
       "      <td>0.351</td>\n",
       "      <td>31</td>\n",
       "      <td>0</td>\n",
       "    </tr>\n",
       "    <tr>\n",
       "      <th>2</th>\n",
       "      <td>8</td>\n",
       "      <td>183</td>\n",
       "      <td>64</td>\n",
       "      <td>0</td>\n",
       "      <td>0</td>\n",
       "      <td>23.3</td>\n",
       "      <td>0.672</td>\n",
       "      <td>32</td>\n",
       "      <td>1</td>\n",
       "    </tr>\n",
       "    <tr>\n",
       "      <th>3</th>\n",
       "      <td>1</td>\n",
       "      <td>89</td>\n",
       "      <td>66</td>\n",
       "      <td>23</td>\n",
       "      <td>94</td>\n",
       "      <td>28.1</td>\n",
       "      <td>0.167</td>\n",
       "      <td>21</td>\n",
       "      <td>0</td>\n",
       "    </tr>\n",
       "    <tr>\n",
       "      <th>4</th>\n",
       "      <td>0</td>\n",
       "      <td>137</td>\n",
       "      <td>40</td>\n",
       "      <td>35</td>\n",
       "      <td>168</td>\n",
       "      <td>43.1</td>\n",
       "      <td>2.288</td>\n",
       "      <td>33</td>\n",
       "      <td>1</td>\n",
       "    </tr>\n",
       "  </tbody>\n",
       "</table>\n",
       "</div>"
      ],
      "text/plain": [
       "   Pregnancies  Glucose  BloodPressure  SkinThickness  Insulin   BMI  \\\n",
       "0            6      148             72             35        0  33.6   \n",
       "1            1       85             66             29        0  26.6   \n",
       "2            8      183             64              0        0  23.3   \n",
       "3            1       89             66             23       94  28.1   \n",
       "4            0      137             40             35      168  43.1   \n",
       "\n",
       "   DiabetesPedigreeFunction  Age  Outcome  \n",
       "0                     0.627   50        1  \n",
       "1                     0.351   31        0  \n",
       "2                     0.672   32        1  \n",
       "3                     0.167   21        0  \n",
       "4                     2.288   33        1  "
      ]
     },
     "execution_count": 5,
     "metadata": {},
     "output_type": "execute_result"
    }
   ],
   "source": [
    "data.head()"
   ]
  },
  {
   "cell_type": "markdown",
   "metadata": {},
   "source": []
  },
  {
   "cell_type": "code",
   "execution_count": 6,
   "metadata": {},
   "outputs": [],
   "source": [
    "traindt=data;\n",
    "test=data['Outcome']\n",
    "traindt.drop('Outcome',axis=1,inplace=True)"
   ]
  },
  {
   "cell_type": "code",
   "execution_count": 7,
   "metadata": {},
   "outputs": [],
   "source": [
    "from sklearn.model_selection import train_test_split\n",
    "\n",
    "# Split dataset into training set and test set\n",
    "X_train, X_test, y_train, y_test = train_test_split(traindt,test, test_size=0.25) # 70% training and 30% test"
   ]
  },
  {
   "cell_type": "code",
   "execution_count": 8,
   "metadata": {},
   "outputs": [],
   "source": [
    "clf = svm.SVC(kernel=\"linear\") # Linear Kernel"
   ]
  },
  {
   "cell_type": "code",
   "execution_count": 9,
   "metadata": {},
   "outputs": [
    {
     "data": {
      "text/plain": [
       "SVC(kernel='linear')"
      ]
     },
     "execution_count": 9,
     "metadata": {},
     "output_type": "execute_result"
    }
   ],
   "source": [
    "\n",
    "clf.fit(X_train, y_train)"
   ]
  },
  {
   "cell_type": "code",
   "execution_count": 10,
   "metadata": {},
   "outputs": [],
   "source": [
    "y_pred = clf.predict(X_test)"
   ]
  },
  {
   "cell_type": "code",
   "execution_count": 11,
   "metadata": {},
   "outputs": [
    {
     "name": "stdout",
     "output_type": "stream",
     "text": [
      "Accuracy: 0.7708333333333334\n"
     ]
    }
   ],
   "source": [
    "from sklearn import metrics\n",
    "print(\"Accuracy:\",metrics.accuracy_score(y_test, y_pred))"
   ]
  },
  {
   "cell_type": "code",
   "execution_count": 12,
   "metadata": {},
   "outputs": [],
   "source": [
    "import seaborn as sns\n",
    "import matplotlib.pyplot as plt     "
   ]
  },
  {
   "cell_type": "code",
   "execution_count": 13,
   "metadata": {},
   "outputs": [],
   "source": [
    "from sklearn.metrics import confusion_matrix"
   ]
  },
  {
   "cell_type": "code",
   "execution_count": 14,
   "metadata": {},
   "outputs": [
    {
     "data": {
      "text/plain": [
       "array([[104,  27],\n",
       "       [ 17,  44]], dtype=int64)"
      ]
     },
     "execution_count": 14,
     "metadata": {},
     "output_type": "execute_result"
    }
   ],
   "source": [
    "confusion_matrix(y_test,y_pred)"
   ]
  },
  {
   "cell_type": "code",
   "execution_count": 15,
   "metadata": {},
   "outputs": [],
   "source": [
    "# X_test"
   ]
  },
  {
   "cell_type": "code",
   "execution_count": 16,
   "metadata": {},
   "outputs": [],
   "source": [
    "test_df_final=pd.concat([X_test,y_test],axis=1)\n"
   ]
  },
  {
   "cell_type": "code",
   "execution_count": 17,
   "metadata": {},
   "outputs": [],
   "source": [
    "all_test=pd.concat([X_train,y_train],axis=1)"
   ]
  },
  {
   "cell_type": "code",
   "execution_count": 18,
   "metadata": {},
   "outputs": [],
   "source": [
    "all_test['Pred']=clf.predict(X_train)"
   ]
  },
  {
   "cell_type": "code",
   "execution_count": 19,
   "metadata": {},
   "outputs": [],
   "source": [
    "# all_test"
   ]
  },
  {
   "cell_type": "code",
   "execution_count": 20,
   "metadata": {},
   "outputs": [],
   "source": [
    "true_predictions=all_test.loc[all_test['Outcome']==all_test['Pred']]\n",
    "true_positive_predictions=true_predictions.loc[true_predictions['Pred']==1]\n",
    "# true_positive_predictions\n",
    "true_negative_predictons=true_predictions.loc[true_predictions['Pred']==0]\n",
    "# true_negative_predictons"
   ]
  },
  {
   "cell_type": "code",
   "execution_count": 23,
   "metadata": {},
   "outputs": [
    {
     "name": "stderr",
     "output_type": "stream",
     "text": [
      "c:\\Users\\acer\\AppData\\Local\\Programs\\Python\\Python37\\lib\\site-packages\\pandas\\core\\frame.py:4913: SettingWithCopyWarning: \n",
      "A value is trying to be set on a copy of a slice from a DataFrame\n",
      "\n",
      "See the caveats in the documentation: https://pandas.pydata.org/pandas-docs/stable/user_guide/indexing.html#returning-a-view-versus-a-copy\n",
      "  errors=errors,\n"
     ]
    }
   ],
   "source": [
    "true_positive_predictions.drop('Pred',axis=1,inplace=True)\n",
    "true_negative_predictons.drop('Pred',axis=1,inplace=True)"
   ]
  },
  {
   "cell_type": "markdown",
   "metadata": {},
   "source": [
    "<H1>3.Deleting features with 0 variance</H1>"
   ]
  },
  {
   "cell_type": "code",
   "execution_count": 24,
   "metadata": {},
   "outputs": [],
   "source": [
    "true_predictions_x=true_predictions.drop(['Outcome','Pred'],axis=1)\n",
    "true_predictions_y=true_predictions['Outcome']"
   ]
  },
  {
   "cell_type": "code",
   "execution_count": 25,
   "metadata": {},
   "outputs": [],
   "source": [
    "true_predictions_x= true_predictions_x.loc[:, (true_predictions_x != true_predictions_x.iloc[0]).any()] "
   ]
  },
  {
   "cell_type": "code",
   "execution_count": 26,
   "metadata": {},
   "outputs": [
    {
     "data": {
      "text/plain": [
       "['Pregnancies',\n",
       " 'Glucose',\n",
       " 'BloodPressure',\n",
       " 'SkinThickness',\n",
       " 'Insulin',\n",
       " 'BMI',\n",
       " 'DiabetesPedigreeFunction',\n",
       " 'Age']"
      ]
     },
     "execution_count": 26,
     "metadata": {},
     "output_type": "execute_result"
    }
   ],
   "source": [
    "list_of_features_with_non_0_var=list(true_predictions_x.columns)\n",
    "list_of_features_with_non_0_var"
   ]
  },
  {
   "cell_type": "code",
   "execution_count": 27,
   "metadata": {},
   "outputs": [
    {
     "data": {
      "text/plain": [
       "Index(['Pregnancies', 'Glucose', 'BloodPressure', 'SkinThickness', 'Insulin',\n",
       "       'BMI', 'DiabetesPedigreeFunction', 'Age', 'Outcome'],\n",
       "      dtype='object')"
      ]
     },
     "execution_count": 27,
     "metadata": {},
     "output_type": "execute_result"
    }
   ],
   "source": [
    "true_negative_predictons.columns"
   ]
  },
  {
   "cell_type": "code",
   "execution_count": 28,
   "metadata": {},
   "outputs": [],
   "source": [
    "true_negative_predictons=true_negative_predictons[list_of_features_with_non_0_var+['Outcome']]\n",
    "true_positive_predictions=true_positive_predictions[list_of_features_with_non_0_var+['Outcome']]\n"
   ]
  },
  {
   "cell_type": "markdown",
   "metadata": {},
   "source": [
    "<h1>4.For each feature, compute the means for STP  and STN.</h1>"
   ]
  },
  {
   "cell_type": "code",
   "execution_count": 29,
   "metadata": {},
   "outputs": [],
   "source": [
    "\n",
    "column_mean_for_STP_dict={}\n",
    "column_mean_for_STN_dict={}\n",
    "column_std_for_STP_dict={}\n",
    "column_std_for_STN_dict={}\n",
    "for column_name in list_of_features_with_non_0_var:\n",
    "    column_mean_for_STP_dict[column_name]=true_positive_predictions[column_name].mean()\n",
    "    column_mean_for_STN_dict[column_name]=true_negative_predictons[column_name].mean()\n",
    "    column_std_for_STN_dict[column_name]=true_positive_predictions[column_name].std()\n",
    "    column_std_for_STP_dict[column_name]=true_negative_predictons[column_name].std()\n",
    "\n",
    "\n",
    "\n"
   ]
  },
  {
   "cell_type": "code",
   "execution_count": 30,
   "metadata": {},
   "outputs": [
    {
     "data": {
      "text/plain": [
       "{'Pregnancies': 3.115501519756839,\n",
       " 'Glucose': 103.0273556231003,\n",
       " 'BloodPressure': 67.19452887537994,\n",
       " 'SkinThickness': 18.778115501519757,\n",
       " 'Insulin': 52.6838905775076,\n",
       " 'BMI': 28.82917933130699,\n",
       " 'DiabetesPedigreeFunction': 0.40693009118541035,\n",
       " 'Age': 30.4468085106383}"
      ]
     },
     "execution_count": 30,
     "metadata": {},
     "output_type": "execute_result"
    }
   ],
   "source": [
    "column_mean_for_STN_dict"
   ]
  },
  {
   "cell_type": "code",
   "execution_count": 31,
   "metadata": {},
   "outputs": [
    {
     "data": {
      "text/plain": [
       "{'Pregnancies': 5.222222222222222,\n",
       " 'Glucose': 158.76923076923077,\n",
       " 'BloodPressure': 72.11965811965813,\n",
       " 'SkinThickness': 23.965811965811966,\n",
       " 'Insulin': 128.77777777777777,\n",
       " 'BMI': 37.26581196581196,\n",
       " 'DiabetesPedigreeFunction': 0.5826581196581198,\n",
       " 'Age': 39.47008547008547}"
      ]
     },
     "execution_count": 31,
     "metadata": {},
     "output_type": "execute_result"
    }
   ],
   "source": [
    "column_mean_for_STP_dict"
   ]
  },
  {
   "cell_type": "code",
   "execution_count": 32,
   "metadata": {},
   "outputs": [
    {
     "data": {
      "text/plain": [
       "{'Pregnancies': 3.718803828613283,\n",
       " 'Glucose': 25.408179722620357,\n",
       " 'BloodPressure': 22.07829422179574,\n",
       " 'SkinThickness': 19.20395596096141,\n",
       " 'Insulin': 163.45030411629344,\n",
       " 'BMI': 6.6152796275399615,\n",
       " 'DiabetesPedigreeFunction': 0.4118342100809324,\n",
       " 'Age': 11.77707639615655}"
      ]
     },
     "execution_count": 32,
     "metadata": {},
     "output_type": "execute_result"
    }
   ],
   "source": [
    "column_std_for_STN_dict"
   ]
  },
  {
   "cell_type": "code",
   "execution_count": 33,
   "metadata": {},
   "outputs": [
    {
     "data": {
      "text/plain": [
       "{'Pregnancies': 2.823902194556039,\n",
       " 'Glucose': 21.75534373655603,\n",
       " 'BloodPressure': 18.390376439466696,\n",
       " 'SkinThickness': 14.372102298780742,\n",
       " 'Insulin': 69.68524891628483,\n",
       " 'BMI': 7.505294854223902,\n",
       " 'DiabetesPedigreeFunction': 0.27114814257119435,\n",
       " 'Age': 11.236281493249317}"
      ]
     },
     "execution_count": 33,
     "metadata": {},
     "output_type": "execute_result"
    }
   ],
   "source": [
    "column_std_for_STP_dict"
   ]
  },
  {
   "cell_type": "markdown",
   "metadata": {},
   "source": [
    "<h1>6.Compute the Z for the difference between the two means computed in step 5, and define the set of most discriminative features F as those with ðZ > tz Þ.</h1>"
   ]
  },
  {
   "cell_type": "markdown",
   "metadata": {},
   "source": []
  },
  {
   "cell_type": "code",
   "execution_count": null,
   "metadata": {},
   "outputs": [],
   "source": []
  },
  {
   "cell_type": "code",
   "execution_count": 34,
   "metadata": {},
   "outputs": [],
   "source": [
    "num_of_samples_in_STP=len(true_positive_predictions.columns)\n",
    "num_of_samples_in_STN=len(true_negative_predictons.columns)"
   ]
  },
  {
   "cell_type": "code",
   "execution_count": 35,
   "metadata": {},
   "outputs": [],
   "source": [
    "def getZmeanDiff(columnName):\n",
    "    num=column_mean_for_STN_dict[column_name]+column_mean_for_STP_dict[column_name]\n",
    "    dnum=((column_std_for_STN_dict[column_name]**2)/num_of_samples_in_STN)+((column_mean_for_STP_dict[column_name]**2)/num_of_samples_in_STP)\n",
    "    dnum=math.sqrt(dnum)\n",
    "    return num/dnum\n"
   ]
  },
  {
   "cell_type": "code",
   "execution_count": 36,
   "metadata": {},
   "outputs": [],
   "source": [
    "Z_diff_btw_two_means_dict={}\n",
    "for column_name in list_of_features_with_non_0_var:\n",
    "    Z_diff_btw_two_means_dict[column_name]=getZmeanDiff(column_name)"
   ]
  },
  {
   "cell_type": "code",
   "execution_count": 37,
   "metadata": {},
   "outputs": [
    {
     "data": {
      "text/plain": [
       "{'Pregnancies': 3.9015933041152624,\n",
       " 'Glucose': 4.884585429428148,\n",
       " 'BloodPressure': 5.541281720038652,\n",
       " 'SkinThickness': 4.175464718109048,\n",
       " 'Insulin': 2.6161558989082447,\n",
       " 'BMI': 5.238923839947316,\n",
       " 'DiabetesPedigreeFunction': 4.160783459562969,\n",
       " 'Age': 5.092315365839051}"
      ]
     },
     "execution_count": 37,
     "metadata": {},
     "output_type": "execute_result"
    }
   ],
   "source": [
    "Z_diff_btw_two_means_dict"
   ]
  },
  {
   "cell_type": "code",
   "execution_count": 38,
   "metadata": {},
   "outputs": [],
   "source": [
    "F=[]#\n",
    "for column_name in list_of_features_with_non_0_var:\n",
    "    if(Z_diff_btw_two_means_dict[column_name]>=tz):\n",
    "        F+=[column_name]"
   ]
  },
  {
   "cell_type": "code",
   "execution_count": 39,
   "metadata": {},
   "outputs": [
    {
     "data": {
      "text/plain": [
       "['Pregnancies',\n",
       " 'Glucose',\n",
       " 'BloodPressure',\n",
       " 'SkinThickness',\n",
       " 'Insulin',\n",
       " 'BMI',\n",
       " 'DiabetesPedigreeFunction',\n",
       " 'Age']"
      ]
     },
     "execution_count": 39,
     "metadata": {},
     "output_type": "execute_result"
    }
   ],
   "source": [
    "F"
   ]
  },
  {
   "cell_type": "markdown",
   "metadata": {},
   "source": [
    "<h1> 7.For each feature fi  F, find the threshold ðaibÞ that gives best TPR to FPR ratio over both STP and STN together. </h1>"
   ]
  },
  {
   "cell_type": "code",
   "execution_count": 40,
   "metadata": {},
   "outputs": [],
   "source": [
    "def get_tpr_to_fpr_ratio(df,column_name,thresh,target_column_name):\n",
    "    tp=0\n",
    "    fp=0\n",
    "    fn=0\n",
    "    tn=0\n",
    "    for index,row in df.iterrows():\n",
    "        if(row[column_name]>=thresh):\n",
    "            if(row[target_column_name]==1):\n",
    "                tp+=1\n",
    "            else:\n",
    "                fp+=1\n",
    "        else:\n",
    "            if(row[target_column_name]==0):\n",
    "                tn+=1\n",
    "            else:\n",
    "                fn+=1\n",
    "    tpr=tp/(fn+tp)\n",
    "    fpr=fp/(fn+tp)\n",
    "    if fpr==0:\n",
    "        fpr=10000000\n",
    "    print(\"TPR:\",tpr,\" Fpr:\",fpr)\n",
    "    return tpr/fpr\n",
    "\n",
    "        \n",
    "   \n",
    "def get_aib_for_feature(column_name,df,step,target_column_name):\n",
    "    myet=0\n",
    "    aib=-1\n",
    "    for poss_thres in range(int(math.floor(df[column_name].min())),int(math.ceil(df[column_name].max())),step):\n",
    "        val=get_tpr_to_fpr_ratio(df,column_name,poss_thres,target_column_name)\n",
    "        print(\"for thresh:\",poss_thres,\" val:\",val,\"myet:\", myet)\n",
    "        if(myet<val):\n",
    "            aib=poss_thres\n",
    "            myet=val\n",
    "    return aib\n",
    "\n",
    "\n",
    "\n"
   ]
  },
  {
   "cell_type": "code",
   "execution_count": 1,
   "metadata": {},
   "outputs": [
    {
     "ename": "NameError",
     "evalue": "name 'F' is not defined",
     "output_type": "error",
     "traceback": [
      "\u001b[1;31m---------------------------------------------------------------------------\u001b[0m",
      "\u001b[1;31mNameError\u001b[0m                                 Traceback (most recent call last)",
      "\u001b[1;32m~\\AppData\\Local\\Temp\\ipykernel_37232\\2339100472.py\u001b[0m in \u001b[0;36m<module>\u001b[1;34m\u001b[0m\n\u001b[0;32m      2\u001b[0m \u001b[0maib_dict_for_F\u001b[0m\u001b[1;33m=\u001b[0m\u001b[1;33m{\u001b[0m\u001b[1;33m}\u001b[0m\u001b[1;33m\u001b[0m\u001b[1;33m\u001b[0m\u001b[0m\n\u001b[0;32m      3\u001b[0m \u001b[0mbest_tpr_by_fpr_for_feature\u001b[0m\u001b[1;33m=\u001b[0m\u001b[1;33m{\u001b[0m\u001b[1;33m}\u001b[0m\u001b[1;33m\u001b[0m\u001b[1;33m\u001b[0m\u001b[0m\n\u001b[1;32m----> 4\u001b[1;33m \u001b[1;32mfor\u001b[0m \u001b[0mcolumn_name\u001b[0m \u001b[1;32min\u001b[0m \u001b[0mF\u001b[0m\u001b[1;33m:\u001b[0m\u001b[1;33m\u001b[0m\u001b[1;33m\u001b[0m\u001b[0m\n\u001b[0m\u001b[0;32m      5\u001b[0m     \u001b[0maib_dict_for_F\u001b[0m\u001b[1;33m[\u001b[0m\u001b[0mcolumn_name\u001b[0m\u001b[1;33m]\u001b[0m\u001b[1;33m=\u001b[0m\u001b[0mget_aib_for_feature\u001b[0m\u001b[1;33m(\u001b[0m\u001b[0mcolumn_name\u001b[0m\u001b[1;33m,\u001b[0m\u001b[0mtrue_predictions\u001b[0m\u001b[1;33m,\u001b[0m\u001b[1;36m1\u001b[0m\u001b[1;33m,\u001b[0m\u001b[0mtarget_column_name\u001b[0m\u001b[1;33m)\u001b[0m\u001b[1;33m\u001b[0m\u001b[1;33m\u001b[0m\u001b[0m\n\u001b[0;32m      6\u001b[0m     \u001b[0mbest_tpr_by_fpr_for_feature\u001b[0m\u001b[1;33m[\u001b[0m\u001b[0mcolumn_name\u001b[0m\u001b[1;33m]\u001b[0m\u001b[1;33m=\u001b[0m\u001b[0mget_tpr_to_fpr_ratio\u001b[0m\u001b[1;33m(\u001b[0m\u001b[0mtrue_predictions\u001b[0m\u001b[1;33m,\u001b[0m\u001b[0mcolumn_name\u001b[0m\u001b[1;33m,\u001b[0m\u001b[0maib_dict_for_F\u001b[0m\u001b[1;33m[\u001b[0m\u001b[0mcolumn_name\u001b[0m\u001b[1;33m]\u001b[0m\u001b[1;33m,\u001b[0m\u001b[0mtarget_column_name\u001b[0m\u001b[1;33m)\u001b[0m\u001b[1;33m\u001b[0m\u001b[1;33m\u001b[0m\u001b[0m\n",
      "\u001b[1;31mNameError\u001b[0m: name 'F' is not defined"
     ]
    }
   ],
   "source": [
    "# tempf=['Pregnancies']\n",
    "aib_dict_for_F={}\n",
    "best_tpr_by_fpr_for_feature={}\n",
    "for column_name in F:\n",
    "    aib_dict_for_F[column_name]=get_aib_for_feature(column_name,true_predictions,1,target_column_name)\n",
    "    best_tpr_by_fpr_for_feature[column_name]=get_tpr_to_fpr_ratio(true_predictions,column_name,aib_dict_for_F[column_name],target_column_name)"
   ]
  },
  {
   "cell_type": "code",
   "execution_count": 42,
   "metadata": {},
   "outputs": [
    {
     "data": {
      "text/plain": [
       "{'Pregnancies': 13,\n",
       " 'Glucose': 158,\n",
       " 'BloodPressure': 99,\n",
       " 'SkinThickness': 55,\n",
       " 'Insulin': 331,\n",
       " 'BMI': 46,\n",
       " 'DiabetesPedigreeFunction': 1,\n",
       " 'Age': 49}"
      ]
     },
     "execution_count": 42,
     "metadata": {},
     "output_type": "execute_result"
    }
   ],
   "source": [
    "aib_dict_for_F"
   ]
  },
  {
   "cell_type": "code",
   "execution_count": 43,
   "metadata": {},
   "outputs": [
    {
     "data": {
      "text/plain": [
       "{'Pregnancies': 4.0,\n",
       " 'Glucose': 65.0,\n",
       " 'BloodPressure': 1.3333333333333335,\n",
       " 'SkinThickness': 2.9999999999999996,\n",
       " 'Insulin': 10.0,\n",
       " 'BMI': 11.999999999999998,\n",
       " 'DiabetesPedigreeFunction': 1.6,\n",
       " 'Age': 1.2}"
      ]
     },
     "execution_count": 43,
     "metadata": {},
     "output_type": "execute_result"
    }
   ],
   "source": [
    "best_tpr_by_fpr_for_feature"
   ]
  },
  {
   "cell_type": "markdown",
   "metadata": {},
   "source": [
    "<h1>8.Rank the features based on the values of the TPR to FPR ratio computed in step 7.</h1>"
   ]
  },
  {
   "cell_type": "code",
   "execution_count": 44,
   "metadata": {},
   "outputs": [],
   "source": [
    "ranked_best_tpr_by_fpr_features=sorted(best_tpr_by_fpr_for_feature, key=lambda k: best_tpr_by_fpr_for_feature[k],reverse=True)"
   ]
  },
  {
   "cell_type": "code",
   "execution_count": 45,
   "metadata": {},
   "outputs": [
    {
     "data": {
      "text/plain": [
       "['Glucose',\n",
       " 'BMI',\n",
       " 'Insulin',\n",
       " 'Pregnancies',\n",
       " 'SkinThickness',\n",
       " 'DiabetesPedigreeFunction',\n",
       " 'BloodPressure',\n",
       " 'Age']"
      ]
     },
     "execution_count": 45,
     "metadata": {},
     "output_type": "execute_result"
    }
   ],
   "source": [
    "ranked_best_tpr_by_fpr_features"
   ]
  },
  {
   "cell_type": "markdown",
   "metadata": {},
   "source": [
    "<h1>9.For each feature fi from the ranked list in step 8, formulate a rule ri with fi and the corresponding threshold aib in the same order as that determined in step 8.</h1>"
   ]
  },
  {
   "cell_type": "code",
   "execution_count": 46,
   "metadata": {},
   "outputs": [
    {
     "data": {
      "text/plain": [
       "[{'column_name': 'Glucose', 'sign': '>', 'thresh': 158},\n",
       " {'column_name': 'BMI', 'sign': '>', 'thresh': 46},\n",
       " {'column_name': 'Insulin', 'sign': '>', 'thresh': 331},\n",
       " {'column_name': 'Pregnancies', 'sign': '>', 'thresh': 13},\n",
       " {'column_name': 'SkinThickness', 'sign': '>', 'thresh': 55},\n",
       " {'column_name': 'DiabetesPedigreeFunction', 'sign': '>', 'thresh': 1},\n",
       " {'column_name': 'BloodPressure', 'sign': '>', 'thresh': 99},\n",
       " {'column_name': 'Age', 'sign': '>', 'thresh': 49}]"
      ]
     },
     "execution_count": 46,
     "metadata": {},
     "output_type": "execute_result"
    }
   ],
   "source": [
    "all_rule_list=[]\n",
    "for column_name in ranked_best_tpr_by_fpr_features:\n",
    "    temp_dict={\n",
    "        \"column_name\":column_name,\n",
    "        \"sign\":\">\",\n",
    "        \"thresh\":aib_dict_for_F[column_name]\n",
    "    }\n",
    "    all_rule_list.append(temp_dict)\n",
    "all_rule_list"
   ]
  },
  {
   "cell_type": "code",
   "execution_count": 47,
   "metadata": {},
   "outputs": [],
   "source": [
    "def isRuleSatisfied(rule_list,row):\n",
    "    for rule in rule_list:\n",
    "        cname=rule['column_name']\n",
    "        if row[cname]<rule['thresh']:\n",
    "            return False\n",
    "    return True\n"
   ]
  },
  {
   "cell_type": "markdown",
   "metadata": {},
   "source": [
    " <h1>10.Starting with the first rule, compute the TPR from all STP that are correctly classified by that rule, as well as the FPR from all STN covered by this rule.</h1>"
   ]
  },
  {
   "cell_type": "code",
   "execution_count": 48,
   "metadata": {},
   "outputs": [],
   "source": [
    "def get_tpr_by_fpr_for_rule_list(rule_list,df,target_column_name):\n",
    "    tp=0\n",
    "    tn=0\n",
    "    fp=0\n",
    "    fn=0\n",
    "    for index,row in df.iterrows():\n",
    "        \n",
    "        if(isRuleSatisfied(rule_list,row)):\n",
    "            if(row[target_column_name]==1):\n",
    "                tp+=1\n",
    "            else:\n",
    "                fp+=1\n",
    "        else:\n",
    "            if(row[target_column_name]==0):\n",
    "                tn+=1\n",
    "            else:\n",
    "                fn+=1\n",
    "    tpr=tp/(fn+tp)\n",
    "    fpr=fp/(fn+tp)\n",
    "    print(\"tp:\",tp,\" fp:\",fp,\" tn:\",tn,\" fn:\",fn,\"TPR:\",tpr,\" Fpr:\",fpr)\n",
    "    if fpr==0:\n",
    "        return (tpr/2000000,0)\n",
    "   \n",
    "    return (tpr/fpr,fpr)\n",
    "    \n",
    "    \n",
    "    "
   ]
  },
  {
   "cell_type": "code",
   "execution_count": 49,
   "metadata": {},
   "outputs": [],
   "source": [
    "final_rule_list=[]"
   ]
  },
  {
   "cell_type": "code",
   "execution_count": 50,
   "metadata": {},
   "outputs": [],
   "source": [
    "# def add_rule_rec(df,all_rule_list,pres_ind,pres_rule_list,last_tpr_by_fpr_ratio,target_column_name):\n",
    "def delete_rows_satisfying_rule(df,rule_list,target_column_name):\n",
    "    list_of_ind_to_drop=[]\n",
    "    ind=0\n",
    "    for index,row in df.iterrows():\n",
    "        # print(\"ind:\",index)\n",
    "    \n",
    "        if(isRuleSatisfied(rule_list,row)):\n",
    "            if(row[target_column_name]==1):\n",
    "                list_of_ind_to_drop+=[ind]\n",
    "        else:\n",
    "            if(row[target_column_name]==0):\n",
    "                list_of_ind_to_drop+=[ind]\n",
    "        ind+=1\n",
    "    df.drop(df.index[[list_of_ind_to_drop]],inplace=True)\n",
    "    return df\n",
    "    \n",
    "\n"
   ]
  },
  {
   "cell_type": "code",
   "execution_count": 51,
   "metadata": {},
   "outputs": [
    {
     "name": "stdout",
     "output_type": "stream",
     "text": [
      "tp: 65  fp: 1  tn: 328  fn: 52 TPR: 0.5555555555555556  Fpr: 0.008547008547008548\n",
      "rule list: [{'column_name': 'Glucose', 'sign': '>', 'thresh': 158}]\n",
      "tpr/fppr: 65.0\n",
      "df shape:: (446, 10)\n",
      "tp: 65  fp: 1  tn: 328  fn: 52 TPR: 0.5555555555555556  Fpr: 0.008547008547008548\n",
      "tp: 3  fp: 0  tn: 329  fn: 114 TPR: 0.02564102564102564  Fpr: 0.0\n",
      "for ind: 1 new rat: 1.282051282051282e-08  fpr_for_list: 0\n",
      "tp: 7  fp: 0  tn: 329  fn: 110 TPR: 0.05982905982905983  Fpr: 0.0\n",
      "for ind: 2 new rat: 2.991452991452992e-08  fpr_for_list: 0\n",
      "tp: 0  fp: 0  tn: 329  fn: 117 TPR: 0.0  Fpr: 0.0\n",
      "for ind: 3 new rat: 0.0  fpr_for_list: 0\n",
      "tp: 3  fp: 0  tn: 329  fn: 114 TPR: 0.02564102564102564  Fpr: 0.0\n",
      "for ind: 4 new rat: 1.282051282051282e-08  fpr_for_list: 0\n",
      "tp: 9  fp: 0  tn: 329  fn: 108 TPR: 0.07692307692307693  Fpr: 0.0\n",
      "for ind: 5 new rat: 3.846153846153846e-08  fpr_for_list: 0\n",
      "tp: 3  fp: 0  tn: 329  fn: 114 TPR: 0.02564102564102564  Fpr: 0.0\n",
      "for ind: 6 new rat: 1.282051282051282e-08  fpr_for_list: 0\n",
      "tp: 17  fp: 1  tn: 328  fn: 100 TPR: 0.1452991452991453  Fpr: 0.008547008547008548\n",
      "for ind: 7 new rat: 17.0  fpr_for_list: 0.008547008547008548\n",
      "new tpr/fpr 17.0\n",
      "tp: 17  fp: 1  tn: 328  fn: 100 TPR: 0.1452991452991453  Fpr: 0.008547008547008548\n",
      "tp: 0  fp: 0  tn: 329  fn: 117 TPR: 0.0  Fpr: 0.0\n",
      "for ind: 1 new rat: 0.0  fpr_for_list: 0\n",
      "tp: 2  fp: 0  tn: 329  fn: 115 TPR: 0.017094017094017096  Fpr: 0.0\n",
      "for ind: 2 new rat: 8.547008547008548e-09  fpr_for_list: 0\n",
      "tp: 0  fp: 0  tn: 329  fn: 117 TPR: 0.0  Fpr: 0.0\n",
      "for ind: 3 new rat: 0.0  fpr_for_list: 0\n",
      "tp: 1  fp: 0  tn: 329  fn: 116 TPR: 0.008547008547008548  Fpr: 0.0\n",
      "for ind: 4 new rat: 4.273504273504274e-09  fpr_for_list: 0\n",
      "tp: 2  fp: 0  tn: 329  fn: 115 TPR: 0.017094017094017096  Fpr: 0.0\n",
      "for ind: 5 new rat: 8.547008547008548e-09  fpr_for_list: 0\n",
      "tp: 2  fp: 0  tn: 329  fn: 115 TPR: 0.017094017094017096  Fpr: 0.0\n",
      "for ind: 6 new rat: 8.547008547008548e-09  fpr_for_list: 0\n",
      "new tpr/fpr 0\n",
      "init rule list: [{'column_name': 'Glucose', 'sign': '>', 'thresh': 158}, {'column_name': 'Age', 'sign': '>', 'thresh': 49}]\n",
      "df shape: (101, 10)\n",
      "tp: 12  fp: 0  tn: 1  fn: 88 TPR: 0.12  Fpr: 0.0\n",
      "rule list: [{'column_name': 'BMI', 'sign': '>', 'thresh': 46}]\n",
      "tpr/fppr: 6e-08\n",
      "df shape:: (101, 10)\n",
      "tp: 12  fp: 0  tn: 1  fn: 88 TPR: 0.12  Fpr: 0.0\n",
      "tp: 3  fp: 0  tn: 1  fn: 97 TPR: 0.03  Fpr: 0.0\n",
      "for ind: 0 new rat: 1.5e-08  fpr_for_list: 0\n",
      "tp: 1  fp: 0  tn: 1  fn: 99 TPR: 0.01  Fpr: 0.0\n",
      "for ind: 2 new rat: 5e-09  fpr_for_list: 0\n",
      "tp: 0  fp: 0  tn: 1  fn: 100 TPR: 0.0  Fpr: 0.0\n",
      "for ind: 3 new rat: 0.0  fpr_for_list: 0\n",
      "tp: 2  fp: 0  tn: 1  fn: 98 TPR: 0.02  Fpr: 0.0\n",
      "for ind: 4 new rat: 1e-08  fpr_for_list: 0\n",
      "tp: 1  fp: 0  tn: 1  fn: 99 TPR: 0.01  Fpr: 0.0\n",
      "for ind: 5 new rat: 5e-09  fpr_for_list: 0\n",
      "tp: 1  fp: 0  tn: 1  fn: 99 TPR: 0.01  Fpr: 0.0\n",
      "for ind: 6 new rat: 5e-09  fpr_for_list: 0\n",
      "tp: 0  fp: 0  tn: 1  fn: 100 TPR: 0.0  Fpr: 0.0\n",
      "for ind: 7 new rat: 0.0  fpr_for_list: 0\n",
      "new tpr/fpr 0\n",
      "init rule list: [{'column_name': 'BMI', 'sign': '>', 'thresh': 46}]\n"
     ]
    },
    {
     "name": "stderr",
     "output_type": "stream",
     "text": [
      "c:\\Users\\acer\\AppData\\Local\\Programs\\Python\\Python37\\lib\\site-packages\\pandas\\core\\indexes\\base.py:4616: FutureWarning: Using a non-tuple sequence for multidimensional indexing is deprecated; use `arr[tuple(seq)]` instead of `arr[seq]`. In the future this will be interpreted as an array index, `arr[np.array(seq)]`, which will result either in an error or a different result.\n",
      "  result = getitem(key)\n"
     ]
    },
    {
     "name": "stdout",
     "output_type": "stream",
     "text": [
      "df shape: (88, 10)\n",
      "tp: 7  fp: 0  tn: 0  fn: 81 TPR: 0.07954545454545454  Fpr: 0.0\n",
      "rule list: [{'column_name': 'Insulin', 'sign': '>', 'thresh': 331}]\n",
      "tpr/fppr: 3.9772727272727275e-08\n",
      "df shape:: (88, 10)\n",
      "tp: 7  fp: 0  tn: 0  fn: 81 TPR: 0.07954545454545454  Fpr: 0.0\n",
      "tp: 5  fp: 0  tn: 0  fn: 83 TPR: 0.056818181818181816  Fpr: 0.0\n",
      "for ind: 0 new rat: 2.8409090909090908e-08  fpr_for_list: 0\n",
      "tp: 0  fp: 0  tn: 0  fn: 88 TPR: 0.0  Fpr: 0.0\n",
      "for ind: 1 new rat: 0.0  fpr_for_list: 0\n",
      "tp: 0  fp: 0  tn: 0  fn: 88 TPR: 0.0  Fpr: 0.0\n",
      "for ind: 3 new rat: 0.0  fpr_for_list: 0\n",
      "tp: 0  fp: 0  tn: 0  fn: 88 TPR: 0.0  Fpr: 0.0\n",
      "for ind: 4 new rat: 0.0  fpr_for_list: 0\n",
      "tp: 2  fp: 0  tn: 0  fn: 86 TPR: 0.022727272727272728  Fpr: 0.0\n",
      "for ind: 5 new rat: 1.1363636363636364e-08  fpr_for_list: 0\n",
      "tp: 0  fp: 0  tn: 0  fn: 88 TPR: 0.0  Fpr: 0.0\n",
      "for ind: 6 new rat: 0.0  fpr_for_list: 0\n",
      "tp: 0  fp: 0  tn: 0  fn: 88 TPR: 0.0  Fpr: 0.0\n",
      "for ind: 7 new rat: 0.0  fpr_for_list: 0\n",
      "new tpr/fpr 0\n",
      "init rule list: [{'column_name': 'Insulin', 'sign': '>', 'thresh': 331}]\n",
      "df shape: (81, 10)\n",
      "tp: 4  fp: 0  tn: 0  fn: 77 TPR: 0.04938271604938271  Fpr: 0.0\n",
      "rule list: [{'column_name': 'Pregnancies', 'sign': '>', 'thresh': 13}]\n",
      "tpr/fppr: 2.4691358024691355e-08\n",
      "df shape:: (81, 10)\n",
      "tp: 4  fp: 0  tn: 0  fn: 77 TPR: 0.04938271604938271  Fpr: 0.0\n",
      "tp: 0  fp: 0  tn: 0  fn: 81 TPR: 0.0  Fpr: 0.0\n",
      "for ind: 0 new rat: 0.0  fpr_for_list: 0\n",
      "tp: 0  fp: 0  tn: 0  fn: 81 TPR: 0.0  Fpr: 0.0\n",
      "for ind: 1 new rat: 0.0  fpr_for_list: 0\n",
      "tp: 0  fp: 0  tn: 0  fn: 81 TPR: 0.0  Fpr: 0.0\n",
      "for ind: 2 new rat: 0.0  fpr_for_list: 0\n",
      "tp: 0  fp: 0  tn: 0  fn: 81 TPR: 0.0  Fpr: 0.0\n",
      "for ind: 4 new rat: 0.0  fpr_for_list: 0\n",
      "tp: 0  fp: 0  tn: 0  fn: 81 TPR: 0.0  Fpr: 0.0\n",
      "for ind: 5 new rat: 0.0  fpr_for_list: 0\n",
      "tp: 0  fp: 0  tn: 0  fn: 81 TPR: 0.0  Fpr: 0.0\n",
      "for ind: 6 new rat: 0.0  fpr_for_list: 0\n",
      "tp: 0  fp: 0  tn: 0  fn: 81 TPR: 0.0  Fpr: 0.0\n",
      "for ind: 7 new rat: 0.0  fpr_for_list: 0\n",
      "new tpr/fpr 0\n",
      "init rule list: [{'column_name': 'Pregnancies', 'sign': '>', 'thresh': 13}]\n",
      "df shape: (77, 10)\n",
      "tp: 0  fp: 0  tn: 0  fn: 77 TPR: 0.0  Fpr: 0.0\n",
      "rule list: [{'column_name': 'SkinThickness', 'sign': '>', 'thresh': 55}]\n",
      "tpr/fppr: 0.0\n",
      "df shape:: (77, 10)\n",
      "tp: 0  fp: 0  tn: 0  fn: 77 TPR: 0.0  Fpr: 0.0\n",
      "init rule list: [{'column_name': 'SkinThickness', 'sign': '>', 'thresh': 55}]\n",
      "df shape: (77, 10)\n",
      "tp: 11  fp: 0  tn: 0  fn: 66 TPR: 0.14285714285714285  Fpr: 0.0\n",
      "rule list: [{'column_name': 'DiabetesPedigreeFunction', 'sign': '>', 'thresh': 1}]\n",
      "tpr/fppr: 7.142857142857142e-08\n",
      "df shape:: (77, 10)\n",
      "tp: 11  fp: 0  tn: 0  fn: 66 TPR: 0.14285714285714285  Fpr: 0.0\n",
      "tp: 4  fp: 0  tn: 0  fn: 73 TPR: 0.05194805194805195  Fpr: 0.0\n",
      "for ind: 0 new rat: 2.5974025974025976e-08  fpr_for_list: 0\n",
      "tp: 0  fp: 0  tn: 0  fn: 77 TPR: 0.0  Fpr: 0.0\n",
      "for ind: 1 new rat: 0.0  fpr_for_list: 0\n",
      "tp: 0  fp: 0  tn: 0  fn: 77 TPR: 0.0  Fpr: 0.0\n",
      "for ind: 2 new rat: 0.0  fpr_for_list: 0\n",
      "tp: 0  fp: 0  tn: 0  fn: 77 TPR: 0.0  Fpr: 0.0\n",
      "for ind: 3 new rat: 0.0  fpr_for_list: 0\n",
      "tp: 0  fp: 0  tn: 0  fn: 77 TPR: 0.0  Fpr: 0.0\n",
      "for ind: 4 new rat: 0.0  fpr_for_list: 0\n",
      "tp: 0  fp: 0  tn: 0  fn: 77 TPR: 0.0  Fpr: 0.0\n",
      "for ind: 6 new rat: 0.0  fpr_for_list: 0\n",
      "tp: 3  fp: 0  tn: 0  fn: 74 TPR: 0.03896103896103896  Fpr: 0.0\n",
      "for ind: 7 new rat: 1.948051948051948e-08  fpr_for_list: 0\n",
      "new tpr/fpr 0\n",
      "init rule list: [{'column_name': 'DiabetesPedigreeFunction', 'sign': '>', 'thresh': 1}]\n",
      "df shape: (66, 10)\n",
      "tp: 1  fp: 0  tn: 0  fn: 65 TPR: 0.015151515151515152  Fpr: 0.0\n",
      "rule list: [{'column_name': 'BloodPressure', 'sign': '>', 'thresh': 99}]\n",
      "tpr/fppr: 7.575757575757576e-09\n",
      "df shape:: (66, 10)\n",
      "tp: 1  fp: 0  tn: 0  fn: 65 TPR: 0.015151515151515152  Fpr: 0.0\n",
      "tp: 1  fp: 0  tn: 0  fn: 65 TPR: 0.015151515151515152  Fpr: 0.0\n",
      "for ind: 0 new rat: 7.575757575757576e-09  fpr_for_list: 0\n",
      "tp: 0  fp: 0  tn: 0  fn: 66 TPR: 0.0  Fpr: 0.0\n",
      "for ind: 1 new rat: 0.0  fpr_for_list: 0\n",
      "tp: 0  fp: 0  tn: 0  fn: 66 TPR: 0.0  Fpr: 0.0\n",
      "for ind: 2 new rat: 0.0  fpr_for_list: 0\n",
      "tp: 0  fp: 0  tn: 0  fn: 66 TPR: 0.0  Fpr: 0.0\n",
      "for ind: 3 new rat: 0.0  fpr_for_list: 0\n",
      "tp: 0  fp: 0  tn: 0  fn: 66 TPR: 0.0  Fpr: 0.0\n",
      "for ind: 4 new rat: 0.0  fpr_for_list: 0\n",
      "tp: 0  fp: 0  tn: 0  fn: 66 TPR: 0.0  Fpr: 0.0\n",
      "for ind: 5 new rat: 0.0  fpr_for_list: 0\n",
      "tp: 0  fp: 0  tn: 0  fn: 66 TPR: 0.0  Fpr: 0.0\n",
      "for ind: 7 new rat: 0.0  fpr_for_list: 0\n",
      "new tpr/fpr 0\n",
      "init rule list: [{'column_name': 'BloodPressure', 'sign': '>', 'thresh': 99}]\n",
      "df shape: (65, 10)\n",
      "tp: 10  fp: 0  tn: 0  fn: 55 TPR: 0.15384615384615385  Fpr: 0.0\n",
      "rule list: [{'column_name': 'Age', 'sign': '>', 'thresh': 49}]\n",
      "tpr/fppr: 7.692307692307692e-08\n",
      "df shape:: (65, 10)\n",
      "tp: 10  fp: 0  tn: 0  fn: 55 TPR: 0.15384615384615385  Fpr: 0.0\n",
      "tp: 0  fp: 0  tn: 0  fn: 65 TPR: 0.0  Fpr: 0.0\n",
      "for ind: 0 new rat: 0.0  fpr_for_list: 0\n",
      "tp: 0  fp: 0  tn: 0  fn: 65 TPR: 0.0  Fpr: 0.0\n",
      "for ind: 1 new rat: 0.0  fpr_for_list: 0\n",
      "tp: 0  fp: 0  tn: 0  fn: 65 TPR: 0.0  Fpr: 0.0\n",
      "for ind: 2 new rat: 0.0  fpr_for_list: 0\n",
      "tp: 0  fp: 0  tn: 0  fn: 65 TPR: 0.0  Fpr: 0.0\n",
      "for ind: 3 new rat: 0.0  fpr_for_list: 0\n",
      "tp: 0  fp: 0  tn: 0  fn: 65 TPR: 0.0  Fpr: 0.0\n",
      "for ind: 4 new rat: 0.0  fpr_for_list: 0\n",
      "tp: 0  fp: 0  tn: 0  fn: 65 TPR: 0.0  Fpr: 0.0\n",
      "for ind: 5 new rat: 0.0  fpr_for_list: 0\n",
      "tp: 0  fp: 0  tn: 0  fn: 65 TPR: 0.0  Fpr: 0.0\n",
      "for ind: 6 new rat: 0.0  fpr_for_list: 0\n",
      "new tpr/fpr 0\n",
      "init rule list: [{'column_name': 'Age', 'sign': '>', 'thresh': 49}]\n",
      "df shape: (55, 10)\n"
     ]
    }
   ],
   "source": [
    "result_rule_list=[]\n",
    "df=true_predictions.copy()\n",
    "for init_rule_ind in range(0,len(all_rule_list)):\n",
    "    init_rule_list=[all_rule_list[init_rule_ind]]\n",
    "    (init_tpr_by_fpr,_)=get_tpr_by_fpr_for_rule_list(init_rule_list,df,'Outcome')\n",
    "    print(\"rule list:\", init_rule_list)\n",
    "    print(\"tpr/fppr:\",init_tpr_by_fpr)\n",
    "    print(\"df shape::\",df.shape)\n",
    "    new_rule_list=init_rule_list.copy()\n",
    "    last_ratio=tpr_by_fpr_min_thresh\n",
    "    vis=[0]*len(all_rule_list)\n",
    "    vis[init_rule_ind]=1\n",
    "    max_tpr_fpr_ratio=init_tpr_by_fpr\n",
    "    max_tpr_fpr_ratio_ind=-1\n",
    "    while get_tpr_by_fpr_for_rule_list(new_rule_list,df,'Outcome')[0]> last_ratio:\n",
    "        init_rule_list=new_rule_list\n",
    "        max_tpr_fpr_ratio=0\n",
    "        max_tpr_fpr_ratio_ind=-1\n",
    "        for new_rule_ind in range(len(all_rule_list)):\n",
    "            if(vis[new_rule_ind]==1):\n",
    "                continue\n",
    "            temp_new_rule_list=new_rule_list.copy()\n",
    "            temp_new_rule_list+=[all_rule_list[new_rule_ind]]\n",
    "            (new_tpr_by_fpr,fpr_for_list)=get_tpr_by_fpr_for_rule_list(temp_new_rule_list,df,'Outcome')\n",
    "            print(\"for ind:\",new_rule_ind, \"new rat:\",new_tpr_by_fpr,\" fpr_for_list:\",fpr_for_list)\n",
    "            if new_tpr_by_fpr>max_tpr_fpr_ratio and fpr_for_list!=0:\n",
    "                max_tpr_fpr_ratio=new_tpr_by_fpr\n",
    "                max_tpr_fpr_ratio_ind=new_rule_ind\n",
    "        print(\"new tpr/fpr\",max_tpr_fpr_ratio)\n",
    "        if max_tpr_fpr_ratio_ind==-1:\n",
    "            break\n",
    "        # if max_tpr_fpr_ratio>tpr_by_fpr_min_thresh:\n",
    "        \n",
    "        vis[max_tpr_fpr_ratio_ind]=1\n",
    "        new_rule_list+=[all_rule_list[max_tpr_fpr_ratio_ind]]\n",
    "        \n",
    "    print( \"init rule list:\",init_rule_list)\n",
    "    result_rule_list.append(init_rule_list)\n",
    "    #removing rows from df which are already classified\n",
    "    # if max_tpr_fpr_ratio_ind==-1:\n",
    "    #     continue\n",
    "    df=delete_rows_satisfying_rule(df,new_rule_list,\"Outcome\")\n",
    "    print(\"df shape:\",df.shape)\n",
    "            \n",
    "        \n",
    "\n",
    "\n",
    "\n",
    "    \n",
    "\n"
   ]
  },
  {
   "cell_type": "code",
   "execution_count": 52,
   "metadata": {},
   "outputs": [
    {
     "data": {
      "text/plain": [
       "[[{'column_name': 'Glucose', 'sign': '>', 'thresh': 158},\n",
       "  {'column_name': 'Age', 'sign': '>', 'thresh': 49}],\n",
       " [{'column_name': 'BMI', 'sign': '>', 'thresh': 46}],\n",
       " [{'column_name': 'Insulin', 'sign': '>', 'thresh': 331}],\n",
       " [{'column_name': 'Pregnancies', 'sign': '>', 'thresh': 13}],\n",
       " [{'column_name': 'SkinThickness', 'sign': '>', 'thresh': 55}],\n",
       " [{'column_name': 'DiabetesPedigreeFunction', 'sign': '>', 'thresh': 1}],\n",
       " [{'column_name': 'BloodPressure', 'sign': '>', 'thresh': 99}],\n",
       " [{'column_name': 'Age', 'sign': '>', 'thresh': 49}]]"
      ]
     },
     "execution_count": 52,
     "metadata": {},
     "output_type": "execute_result"
    }
   ],
   "source": [
    "result_rule_list"
   ]
  },
  {
   "cell_type": "markdown",
   "metadata": {},
   "source": [
    "<h1> Post Pruning</h1>"
   ]
  },
  {
   "cell_type": "code",
   "execution_count": 53,
   "metadata": {},
   "outputs": [],
   "source": [
    "def get_rule_list_predictions(rule_list,df):\n",
    "    y_pred=[]\n",
    "    for index,row in df.iterrows():\n",
    "        for rule in rule_list:\n",
    "            if isRuleSatisfied(rule,row):\n",
    "                y_pred+=[1]\n",
    "                break\n",
    "        else:\n",
    "            y_pred+=[0]\n",
    "           \n",
    "    return y_pred\n",
    "\n",
    "                \n",
    "    "
   ]
  },
  {
   "cell_type": "code",
   "execution_count": 54,
   "metadata": {},
   "outputs": [],
   "source": [
    "from sklearn import metrics"
   ]
  },
  {
   "cell_type": "code",
   "execution_count": 80,
   "metadata": {},
   "outputs": [
    {
     "name": "stdout",
     "output_type": "stream",
     "text": [
      "pres auc 0.5711298158106668\n",
      "pres auc 0.6208921102538124\n",
      "pres auc 0.6492868833294365\n",
      "pres auc 0.6364663705089236\n",
      "pres auc 0.6208921102538124\n",
      "pres auc 0.6612500974203102\n",
      "pres auc 0.6609643311770971\n",
      "pres auc 0.6675109760216144\n"
     ]
    }
   ],
   "source": [
    "post_pruned_rule_list=[]\n",
    "last_auc_area=0\n",
    "for rule in result_rule_list:\n",
    "    temp_y_pred=get_rule_list_predictions(post_pruned_rule_list+[rule],true_predictions)\n",
    "    # print(temp_y_pred)\n",
    "    # print(true_predictions)\n",
    "    # print(\" pred len:\",len(temp_y_pred))\n",
    "    fpr, tpr, thresholds = metrics.roc_curve(true_predictions['Outcome'],temp_y_pred)\n",
    "    pres_auc=metrics.auc(fpr,tpr)\n",
    "    print(\"pres auc\",pres_auc)\n",
    "    if(pres_auc-last_auc_area>=0.04):\n",
    "        post_pruned_rule_list.append(rule)\n",
    "        last_auc_area=pres_auc"
   ]
  },
  {
   "cell_type": "code",
   "execution_count": 81,
   "metadata": {},
   "outputs": [
    {
     "data": {
      "text/plain": [
       "[[{'column_name': 'Glucose', 'sign': '>', 'thresh': 158},\n",
       "  {'column_name': 'Age', 'sign': '>', 'thresh': 49}],\n",
       " [{'column_name': 'BMI', 'sign': '>', 'thresh': 46}],\n",
       " [{'column_name': 'DiabetesPedigreeFunction', 'sign': '>', 'thresh': 1}]]"
      ]
     },
     "execution_count": 81,
     "metadata": {},
     "output_type": "execute_result"
    }
   ],
   "source": [
    "post_pruned_rule_list"
   ]
  },
  {
   "cell_type": "code",
   "execution_count": 82,
   "metadata": {},
   "outputs": [],
   "source": [
    "def check_accuracy_of_rules_for_dataframe(rule_list,df,target_column_name):\n",
    "    fp=0\n",
    "    fn=0\n",
    "    tp=0\n",
    "    tn=0\n",
    "    for index,row in df.iterrows():\n",
    "        for rule in rule_list:\n",
    "            if isRuleSatisfied(rule,row):\n",
    "                if row[target_column_name]==1:\n",
    "                    tp+=1\n",
    "                else:\n",
    "                    fp+=1\n",
    "                break\n",
    "        else:\n",
    "            if row[target_column_name]==0:\n",
    "                tn+=1\n",
    "            else:\n",
    "                fn+=1\n",
    "    return (tp,tn,fp,fn)"
   ]
  },
  {
   "cell_type": "code",
   "execution_count": 83,
   "metadata": {},
   "outputs": [],
   "source": [
    "(tp,tn,fp,fn)=check_accuracy_of_rules_for_dataframe(post_pruned_rule_list,test_df_final,'Outcome')"
   ]
  },
  {
   "cell_type": "code",
   "execution_count": 84,
   "metadata": {},
   "outputs": [
    {
     "name": "stdout",
     "output_type": "stream",
     "text": [
      "Accuracy of the rules: 0.6666666666666666\n"
     ]
    }
   ],
   "source": [
    "print(\"Accuracy of the rules:\",(tp+tn)/(tp+tn+fp+fn))"
   ]
  },
  {
   "cell_type": "code",
   "execution_count": 85,
   "metadata": {},
   "outputs": [
    {
     "data": {
      "text/plain": [
       "301"
      ]
     },
     "execution_count": 85,
     "metadata": {},
     "output_type": "execute_result"
    }
   ],
   "source": [
    "len(clf.support_vectors_)"
   ]
  },
  {
   "cell_type": "code",
   "execution_count": 86,
   "metadata": {},
   "outputs": [],
   "source": [
    "def print_rule_list(rule_list):\n",
    "    final_res=\"\\n\"\n",
    "    for rules in rule_list:\n",
    "        res=\"IF \"\n",
    "        # print(\"r:\",rules[0])\n",
    "        for i in range(0,len(rules)):\n",
    "            if i>0:\n",
    "                res+=\" AND \"\n",
    "            res+=rules[i]['column_name']\n",
    "            res+=\" \"\n",
    "            res+=rules[i]['sign']\n",
    "            res+=\" \"\n",
    "            res+=str(rules[i]['thresh'])\n",
    "        res+=\" THEN OUTCOME IS 1\"\n",
    "        # print(\"res:\",res)\n",
    "        final_res+=\"\\n\"\n",
    "        final_res+=res\n",
    "    print(final_res)        "
   ]
  },
  {
   "cell_type": "code",
   "execution_count": 87,
   "metadata": {},
   "outputs": [
    {
     "name": "stdout",
     "output_type": "stream",
     "text": [
      "\n",
      "\n",
      "IF Glucose > 158 AND Age > 49 THEN OUTCOME IS 1\n",
      "IF BMI > 46 THEN OUTCOME IS 1\n",
      "IF DiabetesPedigreeFunction > 1 THEN OUTCOME IS 1\n"
     ]
    }
   ],
   "source": [
    "print_rule_list(post_pruned_rule_list)"
   ]
  },
  {
   "cell_type": "code",
   "execution_count": null,
   "metadata": {},
   "outputs": [],
   "source": []
  }
 ],
 "metadata": {
  "kernelspec": {
   "display_name": "Python 3.7.9 64-bit",
   "language": "python",
   "name": "python3"
  },
  "language_info": {
   "codemirror_mode": {
    "name": "ipython",
    "version": 3
   },
   "file_extension": ".py",
   "mimetype": "text/x-python",
   "name": "python",
   "nbconvert_exporter": "python",
   "pygments_lexer": "ipython3",
   "version": "3.7.9"
  },
  "orig_nbformat": 4,
  "vscode": {
   "interpreter": {
    "hash": "e63ba49aebc988b646e1dbf99c75ebbbe79a20618136c52c827b2893e897d8ad"
   }
  }
 },
 "nbformat": 4,
 "nbformat_minor": 2
}
