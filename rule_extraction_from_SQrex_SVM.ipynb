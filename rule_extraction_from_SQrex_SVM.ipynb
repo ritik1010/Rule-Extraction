{
 "cells": [
  {
   "cell_type": "code",
   "execution_count": 188,
   "metadata": {},
   "outputs": [],
   "source": [
    "import pandas as pd\n",
    "import numpy as np\n",
    "from sklearn import svm\n",
    "import math"
   ]
  },
  {
   "cell_type": "code",
   "execution_count": 189,
   "metadata": {},
   "outputs": [],
   "source": [
    "pd.set_option('display.max_rows', None)"
   ]
  },
  {
   "cell_type": "code",
   "execution_count": 190,
   "metadata": {},
   "outputs": [],
   "source": [
    "##global variables\n",
    "tz=7\n",
    "tpr_by_fpr_min_thresh=0\n",
    "\n",
    "tc=400\n",
    "target_column_name='income'"
   ]
  },
  {
   "cell_type": "code",
   "execution_count": 191,
   "metadata": {},
   "outputs": [],
   "source": [
    "data=pd.read_csv(\"datasets/adult.csv\")\n",
    "# data=data[:1000]"
   ]
  },
  {
   "cell_type": "code",
   "execution_count": 192,
   "metadata": {},
   "outputs": [
    {
     "data": {
      "text/html": [
       "<div>\n",
       "<style scoped>\n",
       "    .dataframe tbody tr th:only-of-type {\n",
       "        vertical-align: middle;\n",
       "    }\n",
       "\n",
       "    .dataframe tbody tr th {\n",
       "        vertical-align: top;\n",
       "    }\n",
       "\n",
       "    .dataframe thead th {\n",
       "        text-align: right;\n",
       "    }\n",
       "</style>\n",
       "<table border=\"1\" class=\"dataframe\">\n",
       "  <thead>\n",
       "    <tr style=\"text-align: right;\">\n",
       "      <th></th>\n",
       "      <th>age</th>\n",
       "      <th>workclass</th>\n",
       "      <th>fnlwgt</th>\n",
       "      <th>education</th>\n",
       "      <th>education.num</th>\n",
       "      <th>marital.status</th>\n",
       "      <th>occupation</th>\n",
       "      <th>relationship</th>\n",
       "      <th>race</th>\n",
       "      <th>sex</th>\n",
       "      <th>capital.gain</th>\n",
       "      <th>capital.loss</th>\n",
       "      <th>hours.per.week</th>\n",
       "      <th>native.country</th>\n",
       "      <th>income</th>\n",
       "    </tr>\n",
       "  </thead>\n",
       "  <tbody>\n",
       "    <tr>\n",
       "      <th>0</th>\n",
       "      <td>90</td>\n",
       "      <td>?</td>\n",
       "      <td>77053</td>\n",
       "      <td>HS-grad</td>\n",
       "      <td>9</td>\n",
       "      <td>Widowed</td>\n",
       "      <td>?</td>\n",
       "      <td>Not-in-family</td>\n",
       "      <td>White</td>\n",
       "      <td>Female</td>\n",
       "      <td>0</td>\n",
       "      <td>4356</td>\n",
       "      <td>40</td>\n",
       "      <td>United-States</td>\n",
       "      <td>&lt;=50K</td>\n",
       "    </tr>\n",
       "    <tr>\n",
       "      <th>1</th>\n",
       "      <td>82</td>\n",
       "      <td>Private</td>\n",
       "      <td>132870</td>\n",
       "      <td>HS-grad</td>\n",
       "      <td>9</td>\n",
       "      <td>Widowed</td>\n",
       "      <td>Exec-managerial</td>\n",
       "      <td>Not-in-family</td>\n",
       "      <td>White</td>\n",
       "      <td>Female</td>\n",
       "      <td>0</td>\n",
       "      <td>4356</td>\n",
       "      <td>18</td>\n",
       "      <td>United-States</td>\n",
       "      <td>&lt;=50K</td>\n",
       "    </tr>\n",
       "    <tr>\n",
       "      <th>2</th>\n",
       "      <td>66</td>\n",
       "      <td>?</td>\n",
       "      <td>186061</td>\n",
       "      <td>Some-college</td>\n",
       "      <td>10</td>\n",
       "      <td>Widowed</td>\n",
       "      <td>?</td>\n",
       "      <td>Unmarried</td>\n",
       "      <td>Black</td>\n",
       "      <td>Female</td>\n",
       "      <td>0</td>\n",
       "      <td>4356</td>\n",
       "      <td>40</td>\n",
       "      <td>United-States</td>\n",
       "      <td>&lt;=50K</td>\n",
       "    </tr>\n",
       "    <tr>\n",
       "      <th>3</th>\n",
       "      <td>54</td>\n",
       "      <td>Private</td>\n",
       "      <td>140359</td>\n",
       "      <td>7th-8th</td>\n",
       "      <td>4</td>\n",
       "      <td>Divorced</td>\n",
       "      <td>Machine-op-inspct</td>\n",
       "      <td>Unmarried</td>\n",
       "      <td>White</td>\n",
       "      <td>Female</td>\n",
       "      <td>0</td>\n",
       "      <td>3900</td>\n",
       "      <td>40</td>\n",
       "      <td>United-States</td>\n",
       "      <td>&lt;=50K</td>\n",
       "    </tr>\n",
       "    <tr>\n",
       "      <th>4</th>\n",
       "      <td>41</td>\n",
       "      <td>Private</td>\n",
       "      <td>264663</td>\n",
       "      <td>Some-college</td>\n",
       "      <td>10</td>\n",
       "      <td>Separated</td>\n",
       "      <td>Prof-specialty</td>\n",
       "      <td>Own-child</td>\n",
       "      <td>White</td>\n",
       "      <td>Female</td>\n",
       "      <td>0</td>\n",
       "      <td>3900</td>\n",
       "      <td>40</td>\n",
       "      <td>United-States</td>\n",
       "      <td>&lt;=50K</td>\n",
       "    </tr>\n",
       "  </tbody>\n",
       "</table>\n",
       "</div>"
      ],
      "text/plain": [
       "   age workclass  fnlwgt     education  education.num marital.status  \\\n",
       "0   90         ?   77053       HS-grad              9        Widowed   \n",
       "1   82   Private  132870       HS-grad              9        Widowed   \n",
       "2   66         ?  186061  Some-college             10        Widowed   \n",
       "3   54   Private  140359       7th-8th              4       Divorced   \n",
       "4   41   Private  264663  Some-college             10      Separated   \n",
       "\n",
       "          occupation   relationship   race     sex  capital.gain  \\\n",
       "0                  ?  Not-in-family  White  Female             0   \n",
       "1    Exec-managerial  Not-in-family  White  Female             0   \n",
       "2                  ?      Unmarried  Black  Female             0   \n",
       "3  Machine-op-inspct      Unmarried  White  Female             0   \n",
       "4     Prof-specialty      Own-child  White  Female             0   \n",
       "\n",
       "   capital.loss  hours.per.week native.country income  \n",
       "0          4356              40  United-States  <=50K  \n",
       "1          4356              18  United-States  <=50K  \n",
       "2          4356              40  United-States  <=50K  \n",
       "3          3900              40  United-States  <=50K  \n",
       "4          3900              40  United-States  <=50K  "
      ]
     },
     "execution_count": 192,
     "metadata": {},
     "output_type": "execute_result"
    }
   ],
   "source": [
    "data.head()"
   ]
  },
  {
   "cell_type": "code",
   "execution_count": 193,
   "metadata": {},
   "outputs": [
    {
     "data": {
      "text/plain": [
       "(32561, 15)"
      ]
     },
     "execution_count": 193,
     "metadata": {},
     "output_type": "execute_result"
    }
   ],
   "source": [
    "##encoding catagorical variables\n",
    "data.shape"
   ]
  },
  {
   "cell_type": "code",
   "execution_count": 194,
   "metadata": {},
   "outputs": [],
   "source": [
    "data['income'].replace(['<=50K', '>50K'],\n",
    "                        [0, 1], inplace=True)"
   ]
  },
  {
   "cell_type": "code",
   "execution_count": 195,
   "metadata": {},
   "outputs": [],
   "source": [
    "#getting all the column names \n",
    "# cols = data.columns\n",
    "# num_cols = data._get_numeric_data().columns\n",
    "# list_of_catagorical_vars=list(set(cols) - set(num_cols))\n",
    "list_of_catagorical_vars=['workclass','education',\n",
    "       'marital.status', 'occupation', 'relationship', 'race', 'sex', 'native.country',\n",
    "]\n"
   ]
  },
  {
   "cell_type": "code",
   "execution_count": 196,
   "metadata": {},
   "outputs": [],
   "source": [
    "from sklearn.preprocessing import LabelEncoder\n",
    "encoded_to_orig_dict={}\n",
    "for col_name in list_of_catagorical_vars:\n",
    "    le = LabelEncoder()\n",
    "    le.fit(data[col_name])\n",
    "    data[col_name]=le.transform(data[col_name])\n",
    "    \n",
    "\n",
    "    encoded_to_orig_dict[col_name]= dict((v,k) for k,v in dict(zip(le.classes_, le.transform(le.classes_))).items())\n",
    "# print(encoded_to_orig_dict)"
   ]
  },
  {
   "cell_type": "code",
   "execution_count": 197,
   "metadata": {},
   "outputs": [
    {
     "data": {
      "text/plain": [
       "{'workclass': {0: '?',\n",
       "  1: 'Federal-gov',\n",
       "  2: 'Local-gov',\n",
       "  3: 'Never-worked',\n",
       "  4: 'Private',\n",
       "  5: 'Self-emp-inc',\n",
       "  6: 'Self-emp-not-inc',\n",
       "  7: 'State-gov',\n",
       "  8: 'Without-pay'},\n",
       " 'education': {0: '10th',\n",
       "  1: '11th',\n",
       "  2: '12th',\n",
       "  3: '1st-4th',\n",
       "  4: '5th-6th',\n",
       "  5: '7th-8th',\n",
       "  6: '9th',\n",
       "  7: 'Assoc-acdm',\n",
       "  8: 'Assoc-voc',\n",
       "  9: 'Bachelors',\n",
       "  10: 'Doctorate',\n",
       "  11: 'HS-grad',\n",
       "  12: 'Masters',\n",
       "  13: 'Preschool',\n",
       "  14: 'Prof-school',\n",
       "  15: 'Some-college'},\n",
       " 'marital.status': {0: 'Divorced',\n",
       "  1: 'Married-AF-spouse',\n",
       "  2: 'Married-civ-spouse',\n",
       "  3: 'Married-spouse-absent',\n",
       "  4: 'Never-married',\n",
       "  5: 'Separated',\n",
       "  6: 'Widowed'},\n",
       " 'occupation': {0: '?',\n",
       "  1: 'Adm-clerical',\n",
       "  2: 'Armed-Forces',\n",
       "  3: 'Craft-repair',\n",
       "  4: 'Exec-managerial',\n",
       "  5: 'Farming-fishing',\n",
       "  6: 'Handlers-cleaners',\n",
       "  7: 'Machine-op-inspct',\n",
       "  8: 'Other-service',\n",
       "  9: 'Priv-house-serv',\n",
       "  10: 'Prof-specialty',\n",
       "  11: 'Protective-serv',\n",
       "  12: 'Sales',\n",
       "  13: 'Tech-support',\n",
       "  14: 'Transport-moving'},\n",
       " 'relationship': {0: 'Husband',\n",
       "  1: 'Not-in-family',\n",
       "  2: 'Other-relative',\n",
       "  3: 'Own-child',\n",
       "  4: 'Unmarried',\n",
       "  5: 'Wife'},\n",
       " 'race': {0: 'Amer-Indian-Eskimo',\n",
       "  1: 'Asian-Pac-Islander',\n",
       "  2: 'Black',\n",
       "  3: 'Other',\n",
       "  4: 'White'},\n",
       " 'sex': {0: 'Female', 1: 'Male'},\n",
       " 'native.country': {0: '?',\n",
       "  1: 'Cambodia',\n",
       "  2: 'Canada',\n",
       "  3: 'China',\n",
       "  4: 'Columbia',\n",
       "  5: 'Cuba',\n",
       "  6: 'Dominican-Republic',\n",
       "  7: 'Ecuador',\n",
       "  8: 'El-Salvador',\n",
       "  9: 'England',\n",
       "  10: 'France',\n",
       "  11: 'Germany',\n",
       "  12: 'Greece',\n",
       "  13: 'Guatemala',\n",
       "  14: 'Haiti',\n",
       "  15: 'Holand-Netherlands',\n",
       "  16: 'Honduras',\n",
       "  17: 'Hong',\n",
       "  18: 'Hungary',\n",
       "  19: 'India',\n",
       "  20: 'Iran',\n",
       "  21: 'Ireland',\n",
       "  22: 'Italy',\n",
       "  23: 'Jamaica',\n",
       "  24: 'Japan',\n",
       "  25: 'Laos',\n",
       "  26: 'Mexico',\n",
       "  27: 'Nicaragua',\n",
       "  28: 'Outlying-US(Guam-USVI-etc)',\n",
       "  29: 'Peru',\n",
       "  30: 'Philippines',\n",
       "  31: 'Poland',\n",
       "  32: 'Portugal',\n",
       "  33: 'Puerto-Rico',\n",
       "  34: 'Scotland',\n",
       "  35: 'South',\n",
       "  36: 'Taiwan',\n",
       "  37: 'Thailand',\n",
       "  38: 'Trinadad&Tobago',\n",
       "  39: 'United-States',\n",
       "  40: 'Vietnam',\n",
       "  41: 'Yugoslavia'}}"
      ]
     },
     "execution_count": 197,
     "metadata": {},
     "output_type": "execute_result"
    }
   ],
   "source": [
    "encoded_to_orig_dict"
   ]
  },
  {
   "cell_type": "code",
   "execution_count": 198,
   "metadata": {},
   "outputs": [
    {
     "data": {
      "text/plain": [
       "(32561, 15)"
      ]
     },
     "execution_count": 198,
     "metadata": {},
     "output_type": "execute_result"
    }
   ],
   "source": [
    "data.shape"
   ]
  },
  {
   "cell_type": "code",
   "execution_count": 199,
   "metadata": {},
   "outputs": [
    {
     "data": {
      "text/plain": [
       "Index(['age', 'workclass', 'fnlwgt', 'education', 'education.num',\n",
       "       'marital.status', 'occupation', 'relationship', 'race', 'sex',\n",
       "       'capital.gain', 'capital.loss', 'hours.per.week', 'native.country',\n",
       "       'income'],\n",
       "      dtype='object')"
      ]
     },
     "execution_count": 199,
     "metadata": {},
     "output_type": "execute_result"
    }
   ],
   "source": [
    "data.columns"
   ]
  },
  {
   "cell_type": "code",
   "execution_count": 200,
   "metadata": {},
   "outputs": [],
   "source": [
    "traindt=data;\n",
    "test=data[target_column_name]\n",
    "traindt.drop(target_column_name,axis=1,inplace=True)"
   ]
  },
  {
   "cell_type": "code",
   "execution_count": 201,
   "metadata": {},
   "outputs": [],
   "source": [
    "from sklearn.model_selection import train_test_split\n",
    "\n",
    "# Split dataset into training set and test set\n",
    "X_train, X_test, y_train, y_test = train_test_split(traindt,test, test_size=0.25) # 70% training and 30% test"
   ]
  },
  {
   "cell_type": "code",
   "execution_count": 202,
   "metadata": {},
   "outputs": [],
   "source": [
    "clf = svm.SVC(kernel=\"linear\") # Linear Kernel"
   ]
  },
  {
   "cell_type": "code",
   "execution_count": 203,
   "metadata": {},
   "outputs": [
    {
     "data": {
      "text/plain": [
       "SVC(kernel='linear')"
      ]
     },
     "execution_count": 203,
     "metadata": {},
     "output_type": "execute_result"
    }
   ],
   "source": [
    "clf.fit(X_train, y_train)"
   ]
  },
  {
   "cell_type": "code",
   "execution_count": 204,
   "metadata": {},
   "outputs": [],
   "source": [
    "y_pred = clf.predict(X_test)"
   ]
  },
  {
   "cell_type": "code",
   "execution_count": 205,
   "metadata": {},
   "outputs": [
    {
     "name": "stdout",
     "output_type": "stream",
     "text": [
      "Accuracy: 0.8054293084387667\n"
     ]
    }
   ],
   "source": [
    "from sklearn import metrics\n",
    "print(\"Accuracy:\",metrics.accuracy_score(y_test, y_pred))"
   ]
  },
  {
   "cell_type": "code",
   "execution_count": 206,
   "metadata": {},
   "outputs": [],
   "source": [
    "import seaborn as sns\n",
    "import matplotlib.pyplot as plt     "
   ]
  },
  {
   "cell_type": "code",
   "execution_count": 207,
   "metadata": {},
   "outputs": [],
   "source": [
    "from sklearn.metrics import confusion_matrix"
   ]
  },
  {
   "cell_type": "code",
   "execution_count": 208,
   "metadata": {},
   "outputs": [
    {
     "data": {
      "text/plain": [
       "array([[6005,  255],\n",
       "       [1329,  552]], dtype=int64)"
      ]
     },
     "execution_count": 208,
     "metadata": {},
     "output_type": "execute_result"
    }
   ],
   "source": [
    "confusion_matrix(y_test,y_pred)"
   ]
  },
  {
   "cell_type": "code",
   "execution_count": 209,
   "metadata": {},
   "outputs": [],
   "source": [
    "test_df_final=pd.concat([X_test,y_test],axis=1)"
   ]
  },
  {
   "cell_type": "code",
   "execution_count": 210,
   "metadata": {},
   "outputs": [],
   "source": [
    "all_test=pd.concat([X_train,y_train],axis=1)"
   ]
  },
  {
   "cell_type": "code",
   "execution_count": 211,
   "metadata": {},
   "outputs": [],
   "source": [
    "all_test['Pred']=clf.predict(X_train)"
   ]
  },
  {
   "cell_type": "code",
   "execution_count": 212,
   "metadata": {},
   "outputs": [],
   "source": [
    "true_predictions=all_test.loc[all_test[target_column_name]==all_test['Pred']]\n",
    "true_positive_predictions=true_predictions.loc[true_predictions['Pred']==1]\n",
    "# true_positive_predictions\n",
    "true_negative_predictons=true_predictions.loc[true_predictions['Pred']==0]"
   ]
  },
  {
   "cell_type": "code",
   "execution_count": 213,
   "metadata": {},
   "outputs": [
    {
     "name": "stderr",
     "output_type": "stream",
     "text": [
      "c:\\Users\\acer\\AppData\\Local\\Programs\\Python\\Python37\\lib\\site-packages\\pandas\\core\\frame.py:4913: SettingWithCopyWarning: \n",
      "A value is trying to be set on a copy of a slice from a DataFrame\n",
      "\n",
      "See the caveats in the documentation: https://pandas.pydata.org/pandas-docs/stable/user_guide/indexing.html#returning-a-view-versus-a-copy\n",
      "  errors=errors,\n"
     ]
    }
   ],
   "source": [
    "true_positive_predictions.drop('Pred',axis=1,inplace=True)\n",
    "true_negative_predictons.drop('Pred',axis=1,inplace=True)"
   ]
  },
  {
   "cell_type": "markdown",
   "metadata": {},
   "source": [
    "<H1>3.Deleting features with 0 variance</H1>"
   ]
  },
  {
   "cell_type": "code",
   "execution_count": 214,
   "metadata": {},
   "outputs": [],
   "source": [
    "true_predictions_x=true_predictions.drop([target_column_name,'Pred'],axis=1)\n",
    "true_predictions_y=true_predictions[target_column_name]"
   ]
  },
  {
   "cell_type": "code",
   "execution_count": 215,
   "metadata": {},
   "outputs": [],
   "source": [
    "true_predictions_x= true_predictions_x.loc[:, (true_predictions_x != true_predictions_x.iloc[0]).any()] "
   ]
  },
  {
   "cell_type": "code",
   "execution_count": 216,
   "metadata": {},
   "outputs": [
    {
     "data": {
      "text/plain": [
       "['age',\n",
       " 'workclass',\n",
       " 'fnlwgt',\n",
       " 'education',\n",
       " 'education.num',\n",
       " 'marital.status',\n",
       " 'occupation',\n",
       " 'relationship',\n",
       " 'race',\n",
       " 'sex',\n",
       " 'capital.gain',\n",
       " 'capital.loss',\n",
       " 'hours.per.week',\n",
       " 'native.country']"
      ]
     },
     "execution_count": 216,
     "metadata": {},
     "output_type": "execute_result"
    }
   ],
   "source": [
    "list_of_features_with_non_0_var=list(true_predictions_x.columns)\n",
    "list_of_features_with_non_0_var"
   ]
  },
  {
   "cell_type": "code",
   "execution_count": 217,
   "metadata": {},
   "outputs": [
    {
     "data": {
      "text/plain": [
       "Index(['age', 'workclass', 'fnlwgt', 'education', 'education.num',\n",
       "       'marital.status', 'occupation', 'relationship', 'race', 'sex',\n",
       "       'capital.gain', 'capital.loss', 'hours.per.week', 'native.country',\n",
       "       'income'],\n",
       "      dtype='object')"
      ]
     },
     "execution_count": 217,
     "metadata": {},
     "output_type": "execute_result"
    }
   ],
   "source": [
    "true_negative_predictons.columns"
   ]
  },
  {
   "cell_type": "code",
   "execution_count": 218,
   "metadata": {},
   "outputs": [
    {
     "data": {
      "text/plain": [
       "['age',\n",
       " 'workclass',\n",
       " 'fnlwgt',\n",
       " 'education',\n",
       " 'education.num',\n",
       " 'marital.status',\n",
       " 'occupation',\n",
       " 'relationship',\n",
       " 'race',\n",
       " 'sex',\n",
       " 'capital.gain',\n",
       " 'capital.loss',\n",
       " 'hours.per.week',\n",
       " 'native.country']"
      ]
     },
     "execution_count": 218,
     "metadata": {},
     "output_type": "execute_result"
    }
   ],
   "source": [
    "list_of_features_with_non_0_var"
   ]
  },
  {
   "cell_type": "code",
   "execution_count": 219,
   "metadata": {},
   "outputs": [],
   "source": [
    "true_negative_predictons=true_negative_predictons[list_of_features_with_non_0_var+[target_column_name]]\n",
    "true_positive_predictions=true_positive_predictions[list_of_features_with_non_0_var+[target_column_name]]\n"
   ]
  },
  {
   "cell_type": "markdown",
   "metadata": {},
   "source": [
    "<h1>4.For each feature, compute the means for STP  and STN.</h1>"
   ]
  },
  {
   "cell_type": "code",
   "execution_count": 220,
   "metadata": {},
   "outputs": [
    {
     "name": "stdout",
     "output_type": "stream",
     "text": [
      "age\n",
      "fnlwgt\n",
      "education.num\n",
      "capital.gain\n",
      "capital.loss\n",
      "hours.per.week\n"
     ]
    }
   ],
   "source": [
    "\n",
    "column_mean_for_STP_dict={}\n",
    "column_mean_for_STN_dict={}\n",
    "column_std_for_STP_dict={}\n",
    "column_std_for_STN_dict={}\n",
    "for column_name in list_of_features_with_non_0_var:\n",
    "    if column_name not in list_of_catagorical_vars:\n",
    "        print(column_name)\n",
    "        column_mean_for_STP_dict[column_name]=true_positive_predictions[column_name].mean()\n",
    "        column_mean_for_STN_dict[column_name]=true_negative_predictons[column_name].mean()\n",
    "        column_std_for_STN_dict[column_name]=true_positive_predictions[column_name].std()\n",
    "        column_std_for_STP_dict[column_name]=true_negative_predictons[column_name].std()\n",
    "\n",
    "\n",
    "\n"
   ]
  },
  {
   "cell_type": "code",
   "execution_count": 221,
   "metadata": {},
   "outputs": [
    {
     "data": {
      "text/plain": [
       "{'age': 36.07892340958234,\n",
       " 'fnlwgt': 194908.58000455218,\n",
       " 'education.num': 9.554739956754297,\n",
       " 'capital.gain': 77.94964151587573,\n",
       " 'capital.loss': 34.26163650847843,\n",
       " 'hours.per.week': 38.21981336064641}"
      ]
     },
     "execution_count": 221,
     "metadata": {},
     "output_type": "execute_result"
    }
   ],
   "source": [
    "column_mean_for_STN_dict"
   ]
  },
  {
   "cell_type": "code",
   "execution_count": 222,
   "metadata": {},
   "outputs": [
    {
     "data": {
      "text/plain": [
       "{'age': 47.01696770662288,\n",
       " 'fnlwgt': 152354.75205254517,\n",
       " 'education.num': 12.145593869731801,\n",
       " 'capital.gain': 12310.059113300493,\n",
       " 'capital.loss': 440.83415435139574,\n",
       " 'hours.per.week': 48.24356869184455}"
      ]
     },
     "execution_count": 222,
     "metadata": {},
     "output_type": "execute_result"
    }
   ],
   "source": [
    "column_mean_for_STP_dict"
   ]
  },
  {
   "cell_type": "code",
   "execution_count": 223,
   "metadata": {},
   "outputs": [
    {
     "data": {
      "text/plain": [
       "{'age': 11.299237487506229,\n",
       " 'fnlwgt': 87213.64747708164,\n",
       " 'education.num': 2.384836180817895,\n",
       " 'capital.gain': 23227.346154381783,\n",
       " 'capital.loss': 846.8913629827823,\n",
       " 'hours.per.week': 12.666084197588429}"
      ]
     },
     "execution_count": 223,
     "metadata": {},
     "output_type": "execute_result"
    }
   ],
   "source": [
    "column_std_for_STN_dict"
   ]
  },
  {
   "cell_type": "code",
   "execution_count": 224,
   "metadata": {},
   "outputs": [
    {
     "data": {
      "text/plain": [
       "{'age': 13.707356616224923,\n",
       " 'fnlwgt': 106420.10771253497,\n",
       " 'education.num': 2.425124567432364,\n",
       " 'capital.gain': 504.11843283369075,\n",
       " 'capital.loss': 242.6964437712887,\n",
       " 'hours.per.week': 11.668981609052212}"
      ]
     },
     "execution_count": 224,
     "metadata": {},
     "output_type": "execute_result"
    }
   ],
   "source": [
    "\n",
    "column_std_for_STP_dict"
   ]
  },
  {
   "cell_type": "markdown",
   "metadata": {},
   "source": [
    "<h1>6.Compute the Z for the difference between the two means computed in step 5, and define the set of most discriminative features F as those with ðZ > tz Þ.</h1>"
   ]
  },
  {
   "cell_type": "code",
   "execution_count": 225,
   "metadata": {},
   "outputs": [],
   "source": [
    "num_of_samples_in_STP=len(true_positive_predictions.columns)\n",
    "num_of_samples_in_STN=len(true_negative_predictons.columns)"
   ]
  },
  {
   "cell_type": "code",
   "execution_count": 226,
   "metadata": {},
   "outputs": [],
   "source": [
    "def getZmeanDiff(columnName):\n",
    "    num=column_mean_for_STN_dict[column_name]+column_mean_for_STP_dict[column_name]\n",
    "    dnum=((column_std_for_STN_dict[column_name]**2)/num_of_samples_in_STN)+((column_mean_for_STP_dict[column_name]**2)/num_of_samples_in_STP)\n",
    "    dnum=math.sqrt(dnum)\n",
    "    return num/dnum\n"
   ]
  },
  {
   "cell_type": "code",
   "execution_count": null,
   "metadata": {},
   "outputs": [],
   "source": []
  },
  {
   "cell_type": "code",
   "execution_count": null,
   "metadata": {},
   "outputs": [],
   "source": []
  },
  {
   "cell_type": "code",
   "execution_count": 227,
   "metadata": {},
   "outputs": [],
   "source": [
    "from math import exp\n",
    "from sklearn.utils import resample\n",
    "\n",
    "\n",
    "def getChiSquaredTest(columnName):\n",
    "    expected_dict={}\n",
    "    obs_dict={}\n",
    "    unique_val_in_stp=list(true_positive_predictions[column_name].unique())\n",
    "    unique_val_in_stn=list(true_negative_predictons[col_name].unique())\n",
    "    # print(unique_val_in_stp,\" \",unique_val_in_stn)\n",
    "    obs_freq={}\n",
    "    exp_freq={}\n",
    "    for val in (unique_val_in_stn+ unique_val_in_stp) :\n",
    "        obs_freq[val]=0\n",
    "        exp_freq[val]=0\n",
    "    # print(obs_freq)\n",
    "    # print(exp_freq)\n",
    "    tndict=pd.value_counts(true_negative_predictons[col_name]).to_dict()\n",
    "    tpdict=pd.value_counts(true_positive_predictions[col_name]).to_dict()\n",
    "    res=0\n",
    "    # print(\"Res:\",res)\n",
    "    # print(obs_freq.keys())\n",
    "    # print(exp_freq.keys())\n",
    "    for val in (unique_val_in_stn+unique_val_in_stp):\n",
    "        if val in tpdict.keys():\n",
    "            obs_freq[val]=(tpdict[val]/ true_positive_predictions.shape[1])\n",
    "        if val in tndict.keys():\n",
    "            exp_freq[val]=(tndict[val]/ true_negative_predictons.shape[1])\n",
    "        # print(obs_dic/t[val])\n",
    "        # print(exp_)\n",
    "        if exp_freq[val]==0:\n",
    "            exp_freq[val]=0.2\n",
    "        res+=((obs_freq[val]-exp_freq[val])**2)/exp_freq[val]\n",
    "    return res\n",
    "    \n",
    "    \n",
    "    \n",
    "\n",
    "\n",
    "    "
   ]
  },
  {
   "cell_type": "code",
   "execution_count": 228,
   "metadata": {},
   "outputs": [
    {
     "data": {
      "text/plain": [
       "['age',\n",
       " 'workclass',\n",
       " 'fnlwgt',\n",
       " 'education',\n",
       " 'education.num',\n",
       " 'marital.status',\n",
       " 'occupation',\n",
       " 'relationship',\n",
       " 'race',\n",
       " 'sex',\n",
       " 'capital.gain',\n",
       " 'capital.loss',\n",
       " 'hours.per.week',\n",
       " 'native.country']"
      ]
     },
     "execution_count": 228,
     "metadata": {},
     "output_type": "execute_result"
    }
   ],
   "source": [
    "list_of_features_with_non_0_var"
   ]
  },
  {
   "cell_type": "code",
   "execution_count": 229,
   "metadata": {},
   "outputs": [],
   "source": [
    "# getChiSquaredTest('education')\n"
   ]
  },
  {
   "cell_type": "code",
   "execution_count": 230,
   "metadata": {},
   "outputs": [],
   "source": [
    "Z_diff_btw_two_means_dict={}\n",
    "chi_squared_dict={}\n",
    "for column_name in list_of_features_with_non_0_var:\n",
    "    # print(\"cn:\",column_name)\n",
    "    if column_name not in list_of_catagorical_vars:\n",
    "        Z_diff_btw_two_means_dict[column_name]=getZmeanDiff(column_name)\n",
    "    else:\n",
    "        chi_squared_dict[column_name]=getChiSquaredTest(column_name)"
   ]
  },
  {
   "cell_type": "code",
   "execution_count": 231,
   "metadata": {},
   "outputs": [
    {
     "data": {
      "text/plain": [
       "{'age': 6.655459332724423,\n",
       " 'fnlwgt': 7.661273877974568,\n",
       " 'education.num': 6.790137357624858,\n",
       " 'capital.gain': 1.8251278342886872,\n",
       " 'capital.loss': 1.9272331008519688,\n",
       " 'hours.per.week': 6.713729922765618}"
      ]
     },
     "execution_count": 231,
     "metadata": {},
     "output_type": "execute_result"
    }
   ],
   "source": [
    "Z_diff_btw_two_means_dict"
   ]
  },
  {
   "cell_type": "code",
   "execution_count": 232,
   "metadata": {},
   "outputs": [
    {
     "data": {
      "text/plain": [
       "{'workclass': 971.672486300583,\n",
       " 'education': 987.185342178455,\n",
       " 'marital.status': 972.4768634049601,\n",
       " 'occupation': 987.0592815723944,\n",
       " 'relationship': 969.0089621703922,\n",
       " 'race': 965.6041136855438,\n",
       " 'sex': 957.8039790054091,\n",
       " 'native.country': 1868.3169875466826}"
      ]
     },
     "execution_count": 232,
     "metadata": {},
     "output_type": "execute_result"
    }
   ],
   "source": [
    "chi_squared_dict"
   ]
  },
  {
   "cell_type": "code",
   "execution_count": 233,
   "metadata": {},
   "outputs": [],
   "source": [
    "F=[]#\n",
    "for column_name in list_of_features_with_non_0_var:\n",
    "    if( column_name not in list_of_catagorical_vars and  Z_diff_btw_two_means_dict[column_name]>=tz):\n",
    "        F+=[column_name]\n",
    "    elif (column_name in list_of_catagorical_vars and chi_squared_dict[col_name]>=tc):\n",
    "        F+=[column_name]"
   ]
  },
  {
   "cell_type": "code",
   "execution_count": 234,
   "metadata": {},
   "outputs": [
    {
     "data": {
      "text/plain": [
       "['workclass',\n",
       " 'fnlwgt',\n",
       " 'education',\n",
       " 'marital.status',\n",
       " 'occupation',\n",
       " 'relationship',\n",
       " 'race',\n",
       " 'sex',\n",
       " 'native.country']"
      ]
     },
     "execution_count": 234,
     "metadata": {},
     "output_type": "execute_result"
    }
   ],
   "source": [
    "\n",
    "F"
   ]
  },
  {
   "cell_type": "code",
   "execution_count": 235,
   "metadata": {},
   "outputs": [
    {
     "data": {
      "text/plain": [
       "9"
      ]
     },
     "execution_count": 235,
     "metadata": {},
     "output_type": "execute_result"
    }
   ],
   "source": [
    "len(F)"
   ]
  },
  {
   "cell_type": "markdown",
   "metadata": {},
   "source": [
    "<h1> 7.For each feature fi  F, find the threshold ðaibÞ that gives best TPR to FPR ratio over both STP and STN together. </h1>"
   ]
  },
  {
   "cell_type": "code",
   "execution_count": 236,
   "metadata": {},
   "outputs": [],
   "source": [
    "def get_tpr_to_fpr_ratio(df,column_name,thresh,target_column_name, iscategorical=0):\n",
    "    tp=0\n",
    "    fp=0\n",
    "    fn=0\n",
    "    tn=0\n",
    "    if iscategorical==0:\n",
    "        for index,row in df.iterrows():\n",
    "            if(row[column_name]>=thresh):\n",
    "                if(row[target_column_name]==1):\n",
    "                    tp+=1\n",
    "                else:\n",
    "                    fp+=1\n",
    "            else:\n",
    "                if(row[target_column_name]==0):\n",
    "                    tn+=1\n",
    "                else:\n",
    "                    fn+=1\n",
    "    else:\n",
    "        for index,row in df.iterrows():\n",
    "            if(row[column_name]==thresh):\n",
    "                if(row[target_column_name]==1):\n",
    "                    tp+=1\n",
    "                else:\n",
    "                    fp+=1\n",
    "            else:\n",
    "                if(row[target_column_name]==0):\n",
    "                    tn+=1\n",
    "                else:\n",
    "                    fn+=1\n",
    "\n",
    "    tpr=tp/(fn+tp)\n",
    "    fpr=fp/(fn+tp)\n",
    "    if fpr==0:\n",
    "        fpr=10000000\n",
    "    # print(\"TPR:\",tpr,\" Fpr:\",fpr)\n",
    "    return tpr/fpr\n",
    "\n",
    "        \n",
    "   \n",
    "def get_aib_for_feature(column_name,df,step,target_column_name):\n",
    "    myet=0\n",
    "    aib=-1\n",
    "    start_val=int(math.floor(df[column_name].min()))\n",
    "    end_val=int(math.ceil(df[column_name].max()))\n",
    "    step=max(1,int((end_val-start_val)/200))\n",
    "    for poss_thres in range(start_val,end_val,step):\n",
    "        val=get_tpr_to_fpr_ratio(df,column_name,poss_thres,target_column_name)\n",
    "        # print(\"for thresh:\",poss_thres,\" val:\",val,\"myet:\", myet)\n",
    "        if(myet<val):\n",
    "            aib=poss_thres\n",
    "            myet=val\n",
    "    return aib\n",
    "\n",
    "\n",
    "\n"
   ]
  },
  {
   "cell_type": "code",
   "execution_count": 237,
   "metadata": {},
   "outputs": [],
   "source": [
    "# def get_tpr_to_fpr_ratio(df,column_name,val,target_column_name):\n",
    "def get_aib_for_cat_feature(column_name,df,target_column_name):\n",
    "    local_dict={}\n",
    "    for value in df[column_name].unique():\n",
    "        local_dict[(column_name,value)]=get_tpr_to_fpr_ratio(df,column_name,value,target_column_name,iscategorical=1)\n",
    "    return local_dict  \n",
    "        \n",
    "        \n"
   ]
  },
  {
   "cell_type": "markdown",
   "metadata": {},
   "source": []
  },
  {
   "cell_type": "code",
   "execution_count": 238,
   "metadata": {},
   "outputs": [
    {
     "name": "stderr",
     "output_type": "stream",
     "text": [
      "100%|██████████| 9/9 [03:38<00:00, 24.29s/it]\n"
     ]
    }
   ],
   "source": [
    "from tqdm import tqdm\n",
    "# tempf=['Pregnancies']\n",
    "aib_dict_for_F={}\n",
    "aib_dict_for_cat_F={}\n",
    "best_tpr_by_fpr_for_feature={}\n",
    "for column_name in tqdm(F):\n",
    "    if column_name not in list_of_catagorical_vars:\n",
    "        aib_dict_for_F[column_name]=get_aib_for_feature(column_name,true_predictions,1,target_column_name)\n",
    "        best_tpr_by_fpr_for_feature[column_name]=get_tpr_to_fpr_ratio(true_predictions,column_name,aib_dict_for_F[column_name],target_column_name)\n",
    "    else :\n",
    "        temp_dict=get_aib_for_cat_feature(column_name,true_predictions,target_column_name)\n",
    "        aib_dict_for_cat_F.update(temp_dict)\n",
    "        best_tpr_by_fpr_for_feature.update(temp_dict)\n",
    "        "
   ]
  },
  {
   "cell_type": "code",
   "execution_count": 239,
   "metadata": {},
   "outputs": [
    {
     "data": {
      "text/plain": [
       "{('workclass', 4): 0.08312421580928482,\n",
       " ('workclass', 0): 0.040697674418604654,\n",
       " ('workclass', 6): 0.17206982543640897,\n",
       " ('workclass', 5): 0.6993865030674847,\n",
       " ('workclass', 2): 0.11584158415841586,\n",
       " ('workclass', 7): 0.1313755795981453,\n",
       " ('workclass', 8): 0.0,\n",
       " ('workclass', 1): 0.1937799043062201,\n",
       " ('workclass', 3): 0.0,\n",
       " ('education', 2): 0.02711864406779661,\n",
       " ('education', 11): 0.04956314535345513,\n",
       " ('education', 7): 0.08858603066439522,\n",
       " ('education', 9): 0.24640371229698377,\n",
       " ('education', 12): 0.5801217038539555,\n",
       " ('education', 1): 0.019753086419753086,\n",
       " ('education', 15): 0.061722600328561375,\n",
       " ('education', 0): 0.01282051282051282,\n",
       " ('education', 8): 0.08948863636363637,\n",
       " ('education', 3): 0.00806451612903226,\n",
       " ('education', 5): 0.011709601873536299,\n",
       " ('education', 14): 1.5504587155963303,\n",
       " ('education', 6): 0.005698005698005698,\n",
       " ('education', 4): 0.012875536480686695,\n",
       " ('education', 10): 1.588235294117647,\n",
       " ('education', 13): 0.0,\n",
       " ('marital.status', 4): 0.019451105782041036,\n",
       " ('marital.status', 0): 0.048543689320388356,\n",
       " ('marital.status', 2): 0.2604953451607237,\n",
       " ('marital.status', 1): 0.16666666666666669,\n",
       " ('marital.status', 6): 0.05263157894736841,\n",
       " ('marital.status', 3): 0.026119402985074626,\n",
       " ('marital.status', 5): 0.031746031746031744,\n",
       " ('occupation', 1): 0.03754855416486836,\n",
       " ('occupation', 0): 0.04052936311000827,\n",
       " ('occupation', 13): 0.11827956989247311,\n",
       " ('occupation', 10): 0.3176546391752577,\n",
       " ('occupation', 4): 0.3750860289057123,\n",
       " ('occupation', 12): 0.11993687532877433,\n",
       " ('occupation', 6): 0.014462809917355372,\n",
       " ('occupation', 3): 0.06766917293233082,\n",
       " ('occupation', 14): 0.07692307692307691,\n",
       " ('occupation', 7): 0.02857142857142857,\n",
       " ('occupation', 8): 0.00989247311827957,\n",
       " ('occupation', 11): 0.0981012658227848,\n",
       " ('occupation', 5): 0.07867132867132867,\n",
       " ('occupation', 9): 0.01,\n",
       " ('occupation', 2): 0.0,\n",
       " ('relationship', 3): 0.004600811907983762,\n",
       " ('relationship', 1): 0.047396028475084305,\n",
       " ('relationship', 0): 0.2696088264794383,\n",
       " ('relationship', 5): 0.22336769759450173,\n",
       " ('relationship', 2): 0.020588235294117647,\n",
       " ('relationship', 4): 0.03007846556233653,\n",
       " ('race', 4): 0.11372148450800136,\n",
       " ('race', 2): 0.035768261964735516,\n",
       " ('race', 1): 0.1270718232044199,\n",
       " ('race', 3): 0.041176470588235294,\n",
       " ('race', 0): 0.05235602094240838,\n",
       " ('sex', 0): 0.03838910618571635,\n",
       " ('sex', 1): 0.1463780339237185,\n",
       " ('native.country', 39): 0.10799537987679672,\n",
       " ('native.country', 2): 0.12727272727272726,\n",
       " ('native.country', 11): 0.14492753623188404,\n",
       " ('native.country', 26): 0.0087527352297593,\n",
       " ('native.country', 0): 0.1329113924050633,\n",
       " ('native.country', 27): 0.0,\n",
       " ('native.country', 30): 0.11764705882352941,\n",
       " ('native.country', 19): 0.275,\n",
       " ('native.country', 13): 0.0,\n",
       " ('native.country', 31): 0.02564102564102564,\n",
       " ('native.country', 6): 0.01851851851851852,\n",
       " ('native.country', 35): 0.1276595744680851,\n",
       " ('native.country', 33): 0.04477611940298507,\n",
       " ('native.country', 28): 0.0,\n",
       " ('native.country', 8): 0.04285714285714286,\n",
       " ('native.country', 12): 0.18181818181818182,\n",
       " ('native.country', 40): 0.05,\n",
       " ('native.country', 14): 0.0,\n",
       " ('native.country', 4): 0.0,\n",
       " ('native.country', 32): 0.04347826086956522,\n",
       " ('native.country', 37): 0.0,\n",
       " ('native.country', 22): 0.1142857142857143,\n",
       " ('native.country', 38): 0.09090909090909091,\n",
       " ('native.country', 36): 0.24,\n",
       " ('native.country', 23): 0.0392156862745098,\n",
       " ('native.country', 5): 0.03636363636363636,\n",
       " ('native.country', 3): 0.05555555555555556,\n",
       " ('native.country', 9): 0.0975609756097561,\n",
       " ('native.country', 25): 0.0,\n",
       " ('native.country', 16): 0.09090909090909091,\n",
       " ('native.country', 1): 0.1,\n",
       " ('native.country', 24): 0.19999999999999998,\n",
       " ('native.country', 20): 0.2105263157894737,\n",
       " ('native.country', 10): 0.125,\n",
       " ('native.country', 18): 0.16666666666666669,\n",
       " ('native.country', 29): 0.0,\n",
       " ('native.country', 17): 0.0,\n",
       " ('native.country', 21): 0.0,\n",
       " ('native.country', 7): 0.045454545454545456,\n",
       " ('native.country', 41): 0.11111111111111112,\n",
       " ('native.country', 34): 0.2}"
      ]
     },
     "execution_count": 239,
     "metadata": {},
     "output_type": "execute_result"
    }
   ],
   "source": [
    "aib_dict_for_cat_F"
   ]
  },
  {
   "cell_type": "code",
   "execution_count": 240,
   "metadata": {},
   "outputs": [
    {
     "data": {
      "text/plain": [
       "{'fnlwgt': 12285}"
      ]
     },
     "execution_count": 240,
     "metadata": {},
     "output_type": "execute_result"
    }
   ],
   "source": [
    "aib_dict_for_F"
   ]
  },
  {
   "cell_type": "code",
   "execution_count": 241,
   "metadata": {},
   "outputs": [
    {
     "data": {
      "text/plain": [
       "{('workclass', 4): 0.08312421580928482,\n",
       " ('workclass', 0): 0.040697674418604654,\n",
       " ('workclass', 6): 0.17206982543640897,\n",
       " ('workclass', 5): 0.6993865030674847,\n",
       " ('workclass', 2): 0.11584158415841586,\n",
       " ('workclass', 7): 0.1313755795981453,\n",
       " ('workclass', 8): 0.0,\n",
       " ('workclass', 1): 0.1937799043062201,\n",
       " ('workclass', 3): 0.0,\n",
       " 'fnlwgt': 0.10396039603960397,\n",
       " ('education', 2): 0.02711864406779661,\n",
       " ('education', 11): 0.04956314535345513,\n",
       " ('education', 7): 0.08858603066439522,\n",
       " ('education', 9): 0.24640371229698377,\n",
       " ('education', 12): 0.5801217038539555,\n",
       " ('education', 1): 0.019753086419753086,\n",
       " ('education', 15): 0.061722600328561375,\n",
       " ('education', 0): 0.01282051282051282,\n",
       " ('education', 8): 0.08948863636363637,\n",
       " ('education', 3): 0.00806451612903226,\n",
       " ('education', 5): 0.011709601873536299,\n",
       " ('education', 14): 1.5504587155963303,\n",
       " ('education', 6): 0.005698005698005698,\n",
       " ('education', 4): 0.012875536480686695,\n",
       " ('education', 10): 1.588235294117647,\n",
       " ('education', 13): 0.0,\n",
       " ('marital.status', 4): 0.019451105782041036,\n",
       " ('marital.status', 0): 0.048543689320388356,\n",
       " ('marital.status', 2): 0.2604953451607237,\n",
       " ('marital.status', 1): 0.16666666666666669,\n",
       " ('marital.status', 6): 0.05263157894736841,\n",
       " ('marital.status', 3): 0.026119402985074626,\n",
       " ('marital.status', 5): 0.031746031746031744,\n",
       " ('occupation', 1): 0.03754855416486836,\n",
       " ('occupation', 0): 0.04052936311000827,\n",
       " ('occupation', 13): 0.11827956989247311,\n",
       " ('occupation', 10): 0.3176546391752577,\n",
       " ('occupation', 4): 0.3750860289057123,\n",
       " ('occupation', 12): 0.11993687532877433,\n",
       " ('occupation', 6): 0.014462809917355372,\n",
       " ('occupation', 3): 0.06766917293233082,\n",
       " ('occupation', 14): 0.07692307692307691,\n",
       " ('occupation', 7): 0.02857142857142857,\n",
       " ('occupation', 8): 0.00989247311827957,\n",
       " ('occupation', 11): 0.0981012658227848,\n",
       " ('occupation', 5): 0.07867132867132867,\n",
       " ('occupation', 9): 0.01,\n",
       " ('occupation', 2): 0.0,\n",
       " ('relationship', 3): 0.004600811907983762,\n",
       " ('relationship', 1): 0.047396028475084305,\n",
       " ('relationship', 0): 0.2696088264794383,\n",
       " ('relationship', 5): 0.22336769759450173,\n",
       " ('relationship', 2): 0.020588235294117647,\n",
       " ('relationship', 4): 0.03007846556233653,\n",
       " ('race', 4): 0.11372148450800136,\n",
       " ('race', 2): 0.035768261964735516,\n",
       " ('race', 1): 0.1270718232044199,\n",
       " ('race', 3): 0.041176470588235294,\n",
       " ('race', 0): 0.05235602094240838,\n",
       " ('sex', 0): 0.03838910618571635,\n",
       " ('sex', 1): 0.1463780339237185,\n",
       " ('native.country', 39): 0.10799537987679672,\n",
       " ('native.country', 2): 0.12727272727272726,\n",
       " ('native.country', 11): 0.14492753623188404,\n",
       " ('native.country', 26): 0.0087527352297593,\n",
       " ('native.country', 0): 0.1329113924050633,\n",
       " ('native.country', 27): 0.0,\n",
       " ('native.country', 30): 0.11764705882352941,\n",
       " ('native.country', 19): 0.275,\n",
       " ('native.country', 13): 0.0,\n",
       " ('native.country', 31): 0.02564102564102564,\n",
       " ('native.country', 6): 0.01851851851851852,\n",
       " ('native.country', 35): 0.1276595744680851,\n",
       " ('native.country', 33): 0.04477611940298507,\n",
       " ('native.country', 28): 0.0,\n",
       " ('native.country', 8): 0.04285714285714286,\n",
       " ('native.country', 12): 0.18181818181818182,\n",
       " ('native.country', 40): 0.05,\n",
       " ('native.country', 14): 0.0,\n",
       " ('native.country', 4): 0.0,\n",
       " ('native.country', 32): 0.04347826086956522,\n",
       " ('native.country', 37): 0.0,\n",
       " ('native.country', 22): 0.1142857142857143,\n",
       " ('native.country', 38): 0.09090909090909091,\n",
       " ('native.country', 36): 0.24,\n",
       " ('native.country', 23): 0.0392156862745098,\n",
       " ('native.country', 5): 0.03636363636363636,\n",
       " ('native.country', 3): 0.05555555555555556,\n",
       " ('native.country', 9): 0.0975609756097561,\n",
       " ('native.country', 25): 0.0,\n",
       " ('native.country', 16): 0.09090909090909091,\n",
       " ('native.country', 1): 0.1,\n",
       " ('native.country', 24): 0.19999999999999998,\n",
       " ('native.country', 20): 0.2105263157894737,\n",
       " ('native.country', 10): 0.125,\n",
       " ('native.country', 18): 0.16666666666666669,\n",
       " ('native.country', 29): 0.0,\n",
       " ('native.country', 17): 0.0,\n",
       " ('native.country', 21): 0.0,\n",
       " ('native.country', 7): 0.045454545454545456,\n",
       " ('native.country', 41): 0.11111111111111112,\n",
       " ('native.country', 34): 0.2}"
      ]
     },
     "execution_count": 241,
     "metadata": {},
     "output_type": "execute_result"
    }
   ],
   "source": [
    "best_tpr_by_fpr_for_feature"
   ]
  },
  {
   "cell_type": "markdown",
   "metadata": {},
   "source": [
    "<h1>8.Rank the features based on the values of the TPR to FPR ratio computed in step 7.</h1>"
   ]
  },
  {
   "cell_type": "code",
   "execution_count": 242,
   "metadata": {},
   "outputs": [],
   "source": [
    "ranked_best_tpr_by_fpr_features=sorted(best_tpr_by_fpr_for_feature, key=lambda k: best_tpr_by_fpr_for_feature[k],reverse=True)"
   ]
  },
  {
   "cell_type": "code",
   "execution_count": 243,
   "metadata": {},
   "outputs": [
    {
     "data": {
      "text/plain": [
       "[('education', 10),\n",
       " ('education', 14),\n",
       " ('workclass', 5),\n",
       " ('education', 12),\n",
       " ('occupation', 4),\n",
       " ('occupation', 10),\n",
       " ('native.country', 19),\n",
       " ('relationship', 0),\n",
       " ('marital.status', 2),\n",
       " ('education', 9),\n",
       " ('native.country', 36),\n",
       " ('relationship', 5),\n",
       " ('native.country', 20),\n",
       " ('native.country', 34),\n",
       " ('native.country', 24),\n",
       " ('workclass', 1),\n",
       " ('native.country', 12),\n",
       " ('workclass', 6),\n",
       " ('marital.status', 1),\n",
       " ('native.country', 18),\n",
       " ('sex', 1),\n",
       " ('native.country', 11),\n",
       " ('native.country', 0),\n",
       " ('workclass', 7),\n",
       " ('native.country', 35),\n",
       " ('native.country', 2),\n",
       " ('race', 1),\n",
       " ('native.country', 10),\n",
       " ('occupation', 12),\n",
       " ('occupation', 13),\n",
       " ('native.country', 30),\n",
       " ('workclass', 2),\n",
       " ('native.country', 22),\n",
       " ('race', 4),\n",
       " ('native.country', 41),\n",
       " ('native.country', 39),\n",
       " 'fnlwgt',\n",
       " ('native.country', 1),\n",
       " ('occupation', 11),\n",
       " ('native.country', 9),\n",
       " ('native.country', 38),\n",
       " ('native.country', 16),\n",
       " ('education', 8),\n",
       " ('education', 7),\n",
       " ('workclass', 4),\n",
       " ('occupation', 5),\n",
       " ('occupation', 14),\n",
       " ('occupation', 3),\n",
       " ('education', 15),\n",
       " ('native.country', 3),\n",
       " ('marital.status', 6),\n",
       " ('race', 0),\n",
       " ('native.country', 40),\n",
       " ('education', 11),\n",
       " ('marital.status', 0),\n",
       " ('relationship', 1),\n",
       " ('native.country', 7),\n",
       " ('native.country', 33),\n",
       " ('native.country', 32),\n",
       " ('native.country', 8),\n",
       " ('race', 3),\n",
       " ('workclass', 0),\n",
       " ('occupation', 0),\n",
       " ('native.country', 23),\n",
       " ('sex', 0),\n",
       " ('occupation', 1),\n",
       " ('native.country', 5),\n",
       " ('race', 2),\n",
       " ('marital.status', 5),\n",
       " ('relationship', 4),\n",
       " ('occupation', 7),\n",
       " ('education', 2),\n",
       " ('marital.status', 3),\n",
       " ('native.country', 31),\n",
       " ('relationship', 2),\n",
       " ('education', 1),\n",
       " ('marital.status', 4),\n",
       " ('native.country', 6),\n",
       " ('occupation', 6),\n",
       " ('education', 4),\n",
       " ('education', 0),\n",
       " ('education', 5),\n",
       " ('occupation', 9),\n",
       " ('occupation', 8),\n",
       " ('native.country', 26),\n",
       " ('education', 3),\n",
       " ('education', 6),\n",
       " ('relationship', 3),\n",
       " ('workclass', 8),\n",
       " ('workclass', 3),\n",
       " ('education', 13),\n",
       " ('occupation', 2),\n",
       " ('native.country', 27),\n",
       " ('native.country', 13),\n",
       " ('native.country', 28),\n",
       " ('native.country', 14),\n",
       " ('native.country', 4),\n",
       " ('native.country', 37),\n",
       " ('native.country', 25),\n",
       " ('native.country', 29),\n",
       " ('native.country', 17),\n",
       " ('native.country', 21)]"
      ]
     },
     "execution_count": 243,
     "metadata": {},
     "output_type": "execute_result"
    }
   ],
   "source": [
    "ranked_best_tpr_by_fpr_features"
   ]
  },
  {
   "cell_type": "markdown",
   "metadata": {},
   "source": [
    "<h1>9.For each feature fi from the ranked list in step 8, formulate a rule ri with fi and the corresponding threshold aib in the same order as that determined in step 8.</h1>"
   ]
  },
  {
   "cell_type": "code",
   "execution_count": 244,
   "metadata": {},
   "outputs": [
    {
     "data": {
      "text/plain": [
       "[{'column_name': 'education', 'sign': '==', 'thresh': 10},\n",
       " {'column_name': 'education', 'sign': '==', 'thresh': 14},\n",
       " {'column_name': 'workclass', 'sign': '==', 'thresh': 5},\n",
       " {'column_name': 'education', 'sign': '==', 'thresh': 12},\n",
       " {'column_name': 'occupation', 'sign': '==', 'thresh': 4},\n",
       " {'column_name': 'occupation', 'sign': '==', 'thresh': 10},\n",
       " {'column_name': 'native.country', 'sign': '==', 'thresh': 19},\n",
       " {'column_name': 'relationship', 'sign': '==', 'thresh': 0},\n",
       " {'column_name': 'marital.status', 'sign': '==', 'thresh': 2},\n",
       " {'column_name': 'education', 'sign': '==', 'thresh': 9},\n",
       " {'column_name': 'native.country', 'sign': '==', 'thresh': 36},\n",
       " {'column_name': 'relationship', 'sign': '==', 'thresh': 5},\n",
       " {'column_name': 'native.country', 'sign': '==', 'thresh': 20},\n",
       " {'column_name': 'native.country', 'sign': '==', 'thresh': 34},\n",
       " {'column_name': 'native.country', 'sign': '==', 'thresh': 24},\n",
       " {'column_name': 'workclass', 'sign': '==', 'thresh': 1},\n",
       " {'column_name': 'native.country', 'sign': '==', 'thresh': 12},\n",
       " {'column_name': 'workclass', 'sign': '==', 'thresh': 6},\n",
       " {'column_name': 'marital.status', 'sign': '==', 'thresh': 1},\n",
       " {'column_name': 'native.country', 'sign': '==', 'thresh': 18},\n",
       " {'column_name': 'sex', 'sign': '==', 'thresh': 1},\n",
       " {'column_name': 'native.country', 'sign': '==', 'thresh': 11},\n",
       " {'column_name': 'native.country', 'sign': '==', 'thresh': 0},\n",
       " {'column_name': 'workclass', 'sign': '==', 'thresh': 7},\n",
       " {'column_name': 'native.country', 'sign': '==', 'thresh': 35},\n",
       " {'column_name': 'native.country', 'sign': '==', 'thresh': 2},\n",
       " {'column_name': 'race', 'sign': '==', 'thresh': 1},\n",
       " {'column_name': 'native.country', 'sign': '==', 'thresh': 10},\n",
       " {'column_name': 'occupation', 'sign': '==', 'thresh': 12},\n",
       " {'column_name': 'occupation', 'sign': '==', 'thresh': 13},\n",
       " {'column_name': 'native.country', 'sign': '==', 'thresh': 30},\n",
       " {'column_name': 'workclass', 'sign': '==', 'thresh': 2},\n",
       " {'column_name': 'native.country', 'sign': '==', 'thresh': 22},\n",
       " {'column_name': 'race', 'sign': '==', 'thresh': 4},\n",
       " {'column_name': 'native.country', 'sign': '==', 'thresh': 41},\n",
       " {'column_name': 'native.country', 'sign': '==', 'thresh': 39},\n",
       " {'column_name': 'fnlwgt', 'sign': '>', 'thresh': 12285},\n",
       " {'column_name': 'native.country', 'sign': '==', 'thresh': 1},\n",
       " {'column_name': 'occupation', 'sign': '==', 'thresh': 11},\n",
       " {'column_name': 'native.country', 'sign': '==', 'thresh': 9},\n",
       " {'column_name': 'native.country', 'sign': '==', 'thresh': 38},\n",
       " {'column_name': 'native.country', 'sign': '==', 'thresh': 16},\n",
       " {'column_name': 'education', 'sign': '==', 'thresh': 8},\n",
       " {'column_name': 'education', 'sign': '==', 'thresh': 7},\n",
       " {'column_name': 'workclass', 'sign': '==', 'thresh': 4},\n",
       " {'column_name': 'occupation', 'sign': '==', 'thresh': 5},\n",
       " {'column_name': 'occupation', 'sign': '==', 'thresh': 14},\n",
       " {'column_name': 'occupation', 'sign': '==', 'thresh': 3},\n",
       " {'column_name': 'education', 'sign': '==', 'thresh': 15},\n",
       " {'column_name': 'native.country', 'sign': '==', 'thresh': 3},\n",
       " {'column_name': 'marital.status', 'sign': '==', 'thresh': 6},\n",
       " {'column_name': 'race', 'sign': '==', 'thresh': 0},\n",
       " {'column_name': 'native.country', 'sign': '==', 'thresh': 40},\n",
       " {'column_name': 'education', 'sign': '==', 'thresh': 11},\n",
       " {'column_name': 'marital.status', 'sign': '==', 'thresh': 0},\n",
       " {'column_name': 'relationship', 'sign': '==', 'thresh': 1},\n",
       " {'column_name': 'native.country', 'sign': '==', 'thresh': 7},\n",
       " {'column_name': 'native.country', 'sign': '==', 'thresh': 33},\n",
       " {'column_name': 'native.country', 'sign': '==', 'thresh': 32},\n",
       " {'column_name': 'native.country', 'sign': '==', 'thresh': 8},\n",
       " {'column_name': 'race', 'sign': '==', 'thresh': 3},\n",
       " {'column_name': 'workclass', 'sign': '==', 'thresh': 0},\n",
       " {'column_name': 'occupation', 'sign': '==', 'thresh': 0},\n",
       " {'column_name': 'native.country', 'sign': '==', 'thresh': 23},\n",
       " {'column_name': 'sex', 'sign': '==', 'thresh': 0},\n",
       " {'column_name': 'occupation', 'sign': '==', 'thresh': 1},\n",
       " {'column_name': 'native.country', 'sign': '==', 'thresh': 5},\n",
       " {'column_name': 'race', 'sign': '==', 'thresh': 2},\n",
       " {'column_name': 'marital.status', 'sign': '==', 'thresh': 5},\n",
       " {'column_name': 'relationship', 'sign': '==', 'thresh': 4},\n",
       " {'column_name': 'occupation', 'sign': '==', 'thresh': 7},\n",
       " {'column_name': 'education', 'sign': '==', 'thresh': 2},\n",
       " {'column_name': 'marital.status', 'sign': '==', 'thresh': 3},\n",
       " {'column_name': 'native.country', 'sign': '==', 'thresh': 31},\n",
       " {'column_name': 'relationship', 'sign': '==', 'thresh': 2},\n",
       " {'column_name': 'education', 'sign': '==', 'thresh': 1},\n",
       " {'column_name': 'marital.status', 'sign': '==', 'thresh': 4},\n",
       " {'column_name': 'native.country', 'sign': '==', 'thresh': 6},\n",
       " {'column_name': 'occupation', 'sign': '==', 'thresh': 6},\n",
       " {'column_name': 'education', 'sign': '==', 'thresh': 4},\n",
       " {'column_name': 'education', 'sign': '==', 'thresh': 0},\n",
       " {'column_name': 'education', 'sign': '==', 'thresh': 5},\n",
       " {'column_name': 'occupation', 'sign': '==', 'thresh': 9},\n",
       " {'column_name': 'occupation', 'sign': '==', 'thresh': 8},\n",
       " {'column_name': 'native.country', 'sign': '==', 'thresh': 26},\n",
       " {'column_name': 'education', 'sign': '==', 'thresh': 3},\n",
       " {'column_name': 'education', 'sign': '==', 'thresh': 6},\n",
       " {'column_name': 'relationship', 'sign': '==', 'thresh': 3},\n",
       " {'column_name': 'workclass', 'sign': '==', 'thresh': 8},\n",
       " {'column_name': 'workclass', 'sign': '==', 'thresh': 3},\n",
       " {'column_name': 'education', 'sign': '==', 'thresh': 13},\n",
       " {'column_name': 'occupation', 'sign': '==', 'thresh': 2},\n",
       " {'column_name': 'native.country', 'sign': '==', 'thresh': 27},\n",
       " {'column_name': 'native.country', 'sign': '==', 'thresh': 13},\n",
       " {'column_name': 'native.country', 'sign': '==', 'thresh': 28},\n",
       " {'column_name': 'native.country', 'sign': '==', 'thresh': 14},\n",
       " {'column_name': 'native.country', 'sign': '==', 'thresh': 4},\n",
       " {'column_name': 'native.country', 'sign': '==', 'thresh': 37},\n",
       " {'column_name': 'native.country', 'sign': '==', 'thresh': 25},\n",
       " {'column_name': 'native.country', 'sign': '==', 'thresh': 29},\n",
       " {'column_name': 'native.country', 'sign': '==', 'thresh': 17},\n",
       " {'column_name': 'native.country', 'sign': '==', 'thresh': 21}]"
      ]
     },
     "execution_count": 244,
     "metadata": {},
     "output_type": "execute_result"
    }
   ],
   "source": [
    "all_rule_list=[]\n",
    "for value in ranked_best_tpr_by_fpr_features:\n",
    "    \n",
    "    if type(value) is not tuple:\n",
    "        temp_dict={\n",
    "            \"column_name\":value,\n",
    "            \"sign\":\">\",\n",
    "            \"thresh\":aib_dict_for_F[value]\n",
    "        }\n",
    "    else :\n",
    "        temp_dict={\n",
    "            \"column_name\":value[0],\n",
    "            \"sign\":\"==\",\n",
    "            \"thresh\":value[1]\n",
    "        }\n",
    "\n",
    "    all_rule_list.append(temp_dict)\n",
    "all_rule_list"
   ]
  },
  {
   "cell_type": "code",
   "execution_count": 245,
   "metadata": {},
   "outputs": [],
   "source": [
    "def isRuleSatisfied(rule_list,row):\n",
    "    for rule in rule_list:\n",
    "        cname=rule['column_name']\n",
    "        if rule['sign']=='>':\n",
    "            if row[cname]<=rule['thresh']:\n",
    "                return False\n",
    "        elif rule['sign']=='==':\n",
    "            if row[cname]!=rule['thresh']:\n",
    "                return False\n",
    "    return True"
   ]
  },
  {
   "cell_type": "markdown",
   "metadata": {},
   "source": [
    " <h1>10.Starting with the first rule, compute the TPR from all STP that are correctly classified by that rule, as well as the FPR from all STN covered by this rule.</h1>"
   ]
  },
  {
   "cell_type": "code",
   "execution_count": 246,
   "metadata": {},
   "outputs": [],
   "source": [
    "def get_tpr_by_fpr_for_rule_list(rule_list,df,target_column_name):\n",
    "    tp=0\n",
    "    tn=0\n",
    "    fp=0\n",
    "    fn=0\n",
    "    for index,row in df.iterrows():\n",
    "        \n",
    "        if(isRuleSatisfied(rule_list,row)):\n",
    "            if(row[target_column_name]==1):\n",
    "                tp+=1\n",
    "            else:\n",
    "                fp+=1\n",
    "        else:\n",
    "            if(row[target_column_name]==0):\n",
    "                tn+=1\n",
    "            else:\n",
    "                fn+=1\n",
    "    tpr=0\n",
    "    fpr=0\n",
    "    if tp+fp==0:\n",
    "        tpr=tp/0.1\n",
    "    else:\n",
    "        tpr=tp/(fn+tp)\n",
    "    if fn+tp==0:\n",
    "        fpr=fp/0.1\n",
    "    else:\n",
    "        fpr=fp/(fn+tp)\n",
    "    # print(\"tp:\",tp,\" fp:\",fp,\" tn:\",tn,\" fn:\",fn,\"TPR:\",tpr,\" Fpr:\",fpr)\n",
    "    if fpr==0:\n",
    "        return (tpr/2000000,0)\n",
    "   \n",
    "    return (tpr/fpr,fpr)\n",
    "    \n",
    "    \n",
    "    "
   ]
  },
  {
   "cell_type": "code",
   "execution_count": 247,
   "metadata": {},
   "outputs": [],
   "source": [
    "final_rule_list=[]"
   ]
  },
  {
   "cell_type": "code",
   "execution_count": 248,
   "metadata": {},
   "outputs": [],
   "source": [
    "# def add_rule_rec(df,all_rule_list,pres_ind,pres_rule_list,last_tpr_by_fpr_ratio,target_column_name):\n",
    "def delete_rows_satisfying_rule(df,rule_list,target_column_name):\n",
    "    list_of_ind_to_drop=[]\n",
    "    ind=0\n",
    "    for index,row in df.iterrows():\n",
    "        # print(\"ind:\",index)\n",
    "    \n",
    "        if(isRuleSatisfied(rule_list,row)):\n",
    "            if(row[target_column_name]==1):\n",
    "                list_of_ind_to_drop+=[ind]\n",
    "        else:\n",
    "            if(row[target_column_name]==0):\n",
    "                list_of_ind_to_drop+=[ind]\n",
    "        ind+=1\n",
    "    df.drop(df.index[[list_of_ind_to_drop]],inplace=True)\n",
    "    return df\n",
    "    \n",
    "\n"
   ]
  },
  {
   "cell_type": "code",
   "execution_count": 249,
   "metadata": {},
   "outputs": [
    {
     "name": "stderr",
     "output_type": "stream",
     "text": [
      "  0%|          | 0/102 [00:00<?, ?it/s]c:\\Users\\acer\\AppData\\Local\\Programs\\Python\\Python37\\lib\\site-packages\\pandas\\core\\indexes\\base.py:4616: FutureWarning: Using a non-tuple sequence for multidimensional indexing is deprecated; use `arr[tuple(seq)]` instead of `arr[seq]`. In the future this will be interpreted as an array index, `arr[np.array(seq)]`, which will result either in an error or a different result.\n",
      "  result = getitem(key)\n",
      "100%|██████████| 102/102 [10:45<00:00,  6.33s/it]  \n"
     ]
    }
   ],
   "source": [
    "result_rule_list=[]\n",
    "df=true_predictions.copy()\n",
    "for init_rule_ind in tqdm(range(0,len(all_rule_list))):\n",
    "    init_rule_list=[all_rule_list[init_rule_ind]]\n",
    "    (init_tpr_by_fpr,_)=get_tpr_by_fpr_for_rule_list(init_rule_list,df,target_column_name)\n",
    "    # print(\"rule list:\", init_rule_list)\n",
    "    # print(\"tpr/fppr:\",init_tpr_by_fpr)\n",
    "    # print(\"df shape::\",df.shape)\n",
    "    new_rule_list=init_rule_list.copy()\n",
    "    last_ratio=tpr_by_fpr_min_thresh\n",
    "    vis=[0]*len(all_rule_list)\n",
    "    vis[init_rule_ind]=1\n",
    "    max_tpr_fpr_ratio=init_tpr_by_fpr\n",
    "    max_tpr_fpr_ratio_ind=-1\n",
    "    while get_tpr_by_fpr_for_rule_list(new_rule_list,df,target_column_name)[0]> last_ratio:\n",
    "        init_rule_list=new_rule_list\n",
    "        max_tpr_fpr_ratio=0\n",
    "        max_tpr_fpr_ratio_ind=-1\n",
    "        for new_rule_ind in range(len(all_rule_list)):\n",
    "            if(vis[new_rule_ind]==1):\n",
    "                continue\n",
    "            temp_new_rule_list=new_rule_list.copy()\n",
    "            temp_new_rule_list+=[all_rule_list[new_rule_ind]]\n",
    "            (new_tpr_by_fpr,fpr_for_list)=get_tpr_by_fpr_for_rule_list(temp_new_rule_list,df,target_column_name)\n",
    "            # print(\"for ind:\",new_rule_ind, \"new rat:\",new_tpr_by_fpr,\" fpr_for_list:\",fpr_for_list)\n",
    "            if new_tpr_by_fpr>max_tpr_fpr_ratio and fpr_for_list!=0:\n",
    "                max_tpr_fpr_ratio=new_tpr_by_fpr\n",
    "                max_tpr_fpr_ratio_ind=new_rule_ind\n",
    "        # print(\"new tpr/fpr\",max_tpr_fpr_ratio)\n",
    "        if max_tpr_fpr_ratio_ind==-1:\n",
    "            break\n",
    "        # if max_tpr_fpr_ratio>tpr_by_fpr_min_thresh:\n",
    "        \n",
    "        vis[max_tpr_fpr_ratio_ind]=1\n",
    "        new_rule_list+=[all_rule_list[max_tpr_fpr_ratio_ind]]\n",
    "        \n",
    "    # print( \"init rule list:\",init_rule_list)\n",
    "    result_rule_list.append(init_rule_list)\n",
    "    #removing rows from df which are already classified\n",
    "    # if max_tpr_fpr_ratio_ind==-1:\n",
    "    #     continue\n",
    "    df=delete_rows_satisfying_rule(df,new_rule_list,target_column_name)\n",
    "    # print(\"df shape:\",df.shape)\n",
    "            \n",
    "        \n",
    "\n",
    "\n",
    "\n",
    "    \n",
    "\n"
   ]
  },
  {
   "cell_type": "code",
   "execution_count": 250,
   "metadata": {},
   "outputs": [
    {
     "data": {
      "text/plain": [
       "[[{'column_name': 'education', 'sign': '==', 'thresh': 10},\n",
       "  {'column_name': 'occupation', 'sign': '==', 'thresh': 4},\n",
       "  {'column_name': 'workclass', 'sign': '==', 'thresh': 4},\n",
       "  {'column_name': 'fnlwgt', 'sign': '>', 'thresh': 12285},\n",
       "  {'column_name': 'marital.status', 'sign': '==', 'thresh': 2},\n",
       "  {'column_name': 'race', 'sign': '==', 'thresh': 4},\n",
       "  {'column_name': 'native.country', 'sign': '==', 'thresh': 39},\n",
       "  {'column_name': 'relationship', 'sign': '==', 'thresh': 0},\n",
       "  {'column_name': 'sex', 'sign': '==', 'thresh': 1}],\n",
       " [{'column_name': 'education', 'sign': '==', 'thresh': 14}],\n",
       " [{'column_name': 'workclass', 'sign': '==', 'thresh': 5}],\n",
       " [{'column_name': 'education', 'sign': '==', 'thresh': 12}],\n",
       " [{'column_name': 'occupation', 'sign': '==', 'thresh': 4}],\n",
       " [{'column_name': 'occupation', 'sign': '==', 'thresh': 10}],\n",
       " [{'column_name': 'native.country', 'sign': '==', 'thresh': 19}],\n",
       " [{'column_name': 'relationship', 'sign': '==', 'thresh': 0}],\n",
       " [{'column_name': 'marital.status', 'sign': '==', 'thresh': 2}],\n",
       " [{'column_name': 'education', 'sign': '==', 'thresh': 9}],\n",
       " [{'column_name': 'native.country', 'sign': '==', 'thresh': 36}],\n",
       " [{'column_name': 'relationship', 'sign': '==', 'thresh': 5}],\n",
       " [{'column_name': 'native.country', 'sign': '==', 'thresh': 20}],\n",
       " [{'column_name': 'native.country', 'sign': '==', 'thresh': 34}],\n",
       " [{'column_name': 'native.country', 'sign': '==', 'thresh': 24}],\n",
       " [{'column_name': 'workclass', 'sign': '==', 'thresh': 1}],\n",
       " [{'column_name': 'native.country', 'sign': '==', 'thresh': 12}],\n",
       " [{'column_name': 'workclass', 'sign': '==', 'thresh': 6}],\n",
       " [{'column_name': 'marital.status', 'sign': '==', 'thresh': 1}],\n",
       " [{'column_name': 'native.country', 'sign': '==', 'thresh': 18}],\n",
       " [{'column_name': 'sex', 'sign': '==', 'thresh': 1}],\n",
       " [{'column_name': 'native.country', 'sign': '==', 'thresh': 11}],\n",
       " [{'column_name': 'native.country', 'sign': '==', 'thresh': 0}],\n",
       " [{'column_name': 'workclass', 'sign': '==', 'thresh': 7}],\n",
       " [{'column_name': 'native.country', 'sign': '==', 'thresh': 35}],\n",
       " [{'column_name': 'native.country', 'sign': '==', 'thresh': 2}],\n",
       " [{'column_name': 'race', 'sign': '==', 'thresh': 1}],\n",
       " [{'column_name': 'native.country', 'sign': '==', 'thresh': 10}],\n",
       " [{'column_name': 'occupation', 'sign': '==', 'thresh': 12}],\n",
       " [{'column_name': 'occupation', 'sign': '==', 'thresh': 13}],\n",
       " [{'column_name': 'native.country', 'sign': '==', 'thresh': 30}],\n",
       " [{'column_name': 'workclass', 'sign': '==', 'thresh': 2}],\n",
       " [{'column_name': 'native.country', 'sign': '==', 'thresh': 22}],\n",
       " [{'column_name': 'race', 'sign': '==', 'thresh': 4}],\n",
       " [{'column_name': 'native.country', 'sign': '==', 'thresh': 41}],\n",
       " [{'column_name': 'native.country', 'sign': '==', 'thresh': 39}],\n",
       " [{'column_name': 'fnlwgt', 'sign': '>', 'thresh': 12285}],\n",
       " [{'column_name': 'native.country', 'sign': '==', 'thresh': 1}],\n",
       " [{'column_name': 'occupation', 'sign': '==', 'thresh': 11}],\n",
       " [{'column_name': 'native.country', 'sign': '==', 'thresh': 9}],\n",
       " [{'column_name': 'native.country', 'sign': '==', 'thresh': 38}],\n",
       " [{'column_name': 'native.country', 'sign': '==', 'thresh': 16}],\n",
       " [{'column_name': 'education', 'sign': '==', 'thresh': 8}],\n",
       " [{'column_name': 'education', 'sign': '==', 'thresh': 7}],\n",
       " [{'column_name': 'workclass', 'sign': '==', 'thresh': 4}],\n",
       " [{'column_name': 'occupation', 'sign': '==', 'thresh': 5}],\n",
       " [{'column_name': 'occupation', 'sign': '==', 'thresh': 14}],\n",
       " [{'column_name': 'occupation', 'sign': '==', 'thresh': 3}],\n",
       " [{'column_name': 'education', 'sign': '==', 'thresh': 15}],\n",
       " [{'column_name': 'native.country', 'sign': '==', 'thresh': 3}],\n",
       " [{'column_name': 'marital.status', 'sign': '==', 'thresh': 6}],\n",
       " [{'column_name': 'race', 'sign': '==', 'thresh': 0}],\n",
       " [{'column_name': 'native.country', 'sign': '==', 'thresh': 40}],\n",
       " [{'column_name': 'education', 'sign': '==', 'thresh': 11}],\n",
       " [{'column_name': 'marital.status', 'sign': '==', 'thresh': 0}],\n",
       " [{'column_name': 'relationship', 'sign': '==', 'thresh': 1}],\n",
       " [{'column_name': 'native.country', 'sign': '==', 'thresh': 7}],\n",
       " [{'column_name': 'native.country', 'sign': '==', 'thresh': 33}],\n",
       " [{'column_name': 'native.country', 'sign': '==', 'thresh': 32}],\n",
       " [{'column_name': 'native.country', 'sign': '==', 'thresh': 8}],\n",
       " [{'column_name': 'race', 'sign': '==', 'thresh': 3}],\n",
       " [{'column_name': 'workclass', 'sign': '==', 'thresh': 0}],\n",
       " [{'column_name': 'occupation', 'sign': '==', 'thresh': 0}],\n",
       " [{'column_name': 'native.country', 'sign': '==', 'thresh': 23}],\n",
       " [{'column_name': 'sex', 'sign': '==', 'thresh': 0}],\n",
       " [{'column_name': 'occupation', 'sign': '==', 'thresh': 1}],\n",
       " [{'column_name': 'native.country', 'sign': '==', 'thresh': 5}],\n",
       " [{'column_name': 'race', 'sign': '==', 'thresh': 2}],\n",
       " [{'column_name': 'marital.status', 'sign': '==', 'thresh': 5}],\n",
       " [{'column_name': 'relationship', 'sign': '==', 'thresh': 4}],\n",
       " [{'column_name': 'occupation', 'sign': '==', 'thresh': 7}],\n",
       " [{'column_name': 'education', 'sign': '==', 'thresh': 2}],\n",
       " [{'column_name': 'marital.status', 'sign': '==', 'thresh': 3}],\n",
       " [{'column_name': 'native.country', 'sign': '==', 'thresh': 31}],\n",
       " [{'column_name': 'relationship', 'sign': '==', 'thresh': 2}],\n",
       " [{'column_name': 'education', 'sign': '==', 'thresh': 1}],\n",
       " [{'column_name': 'marital.status', 'sign': '==', 'thresh': 4}],\n",
       " [{'column_name': 'native.country', 'sign': '==', 'thresh': 6}],\n",
       " [{'column_name': 'occupation', 'sign': '==', 'thresh': 6}],\n",
       " [{'column_name': 'education', 'sign': '==', 'thresh': 4}],\n",
       " [{'column_name': 'education', 'sign': '==', 'thresh': 0}],\n",
       " [{'column_name': 'education', 'sign': '==', 'thresh': 5}],\n",
       " [{'column_name': 'occupation', 'sign': '==', 'thresh': 9}],\n",
       " [{'column_name': 'occupation', 'sign': '==', 'thresh': 8}],\n",
       " [{'column_name': 'native.country', 'sign': '==', 'thresh': 26}],\n",
       " [{'column_name': 'education', 'sign': '==', 'thresh': 3}],\n",
       " [{'column_name': 'education', 'sign': '==', 'thresh': 6}],\n",
       " [{'column_name': 'relationship', 'sign': '==', 'thresh': 3}],\n",
       " [{'column_name': 'workclass', 'sign': '==', 'thresh': 8}],\n",
       " [{'column_name': 'workclass', 'sign': '==', 'thresh': 3}],\n",
       " [{'column_name': 'education', 'sign': '==', 'thresh': 13}],\n",
       " [{'column_name': 'occupation', 'sign': '==', 'thresh': 2}],\n",
       " [{'column_name': 'native.country', 'sign': '==', 'thresh': 27}],\n",
       " [{'column_name': 'native.country', 'sign': '==', 'thresh': 13}],\n",
       " [{'column_name': 'native.country', 'sign': '==', 'thresh': 28}],\n",
       " [{'column_name': 'native.country', 'sign': '==', 'thresh': 14}],\n",
       " [{'column_name': 'native.country', 'sign': '==', 'thresh': 4}],\n",
       " [{'column_name': 'native.country', 'sign': '==', 'thresh': 37}],\n",
       " [{'column_name': 'native.country', 'sign': '==', 'thresh': 25}],\n",
       " [{'column_name': 'native.country', 'sign': '==', 'thresh': 29}],\n",
       " [{'column_name': 'native.country', 'sign': '==', 'thresh': 17}],\n",
       " [{'column_name': 'native.country', 'sign': '==', 'thresh': 21}]]"
      ]
     },
     "execution_count": 250,
     "metadata": {},
     "output_type": "execute_result"
    }
   ],
   "source": [
    "result_rule_list"
   ]
  },
  {
   "cell_type": "markdown",
   "metadata": {},
   "source": []
  },
  {
   "cell_type": "markdown",
   "metadata": {},
   "source": [
    "<h1> Post Pruning</h1>"
   ]
  },
  {
   "cell_type": "code",
   "execution_count": 251,
   "metadata": {},
   "outputs": [],
   "source": [
    "def get_rule_list_predictions(rule_list,df):\n",
    "    y_pred=[]\n",
    "    for index,row in df.iterrows():\n",
    "        for rule in rule_list:\n",
    "            if isRuleSatisfied(rule,row):\n",
    "                y_pred+=[1]\n",
    "                break\n",
    "        else:\n",
    "            y_pred+=[0]\n",
    "           \n",
    "    return y_pred\n",
    "\n",
    "                \n",
    "    "
   ]
  },
  {
   "cell_type": "code",
   "execution_count": 252,
   "metadata": {},
   "outputs": [],
   "source": [
    "from sklearn import metrics"
   ]
  },
  {
   "cell_type": "code",
   "execution_count": 253,
   "metadata": {},
   "outputs": [
    {
     "name": "stderr",
     "output_type": "stream",
     "text": [
      "100%|██████████| 102/102 [01:31<00:00,  1.11it/s]\n"
     ]
    }
   ],
   "source": [
    "post_pruned_rule_list=[]\n",
    "last_auc_area=0\n",
    "for rule in tqdm(result_rule_list):\n",
    "    temp_y_pred=get_rule_list_predictions(post_pruned_rule_list+[rule],true_predictions)\n",
    "    # print(temp_y_pred)\n",
    "    # print(true_predictions)\n",
    "    # print(\" pred len:\",len(temp_y_pred))\n",
    "    fpr, tpr, thresholds = metrics.roc_curve(true_predictions[target_column_name],temp_y_pred)\n",
    "    pres_auc=metrics.auc(fpr,tpr)\n",
    "    # print(\"pres auc\",pres_auc)\n",
    "    if(pres_auc-last_auc_area>=0.05):\n",
    "        post_pruned_rule_list.append(rule)\n",
    "        last_auc_area=pres_auc"
   ]
  },
  {
   "cell_type": "code",
   "execution_count": 254,
   "metadata": {},
   "outputs": [
    {
     "data": {
      "text/plain": [
       "[[{'column_name': 'education', 'sign': '==', 'thresh': 10},\n",
       "  {'column_name': 'occupation', 'sign': '==', 'thresh': 4},\n",
       "  {'column_name': 'workclass', 'sign': '==', 'thresh': 4},\n",
       "  {'column_name': 'fnlwgt', 'sign': '>', 'thresh': 12285},\n",
       "  {'column_name': 'marital.status', 'sign': '==', 'thresh': 2},\n",
       "  {'column_name': 'race', 'sign': '==', 'thresh': 4},\n",
       "  {'column_name': 'native.country', 'sign': '==', 'thresh': 39},\n",
       "  {'column_name': 'relationship', 'sign': '==', 'thresh': 0},\n",
       "  {'column_name': 'sex', 'sign': '==', 'thresh': 1}],\n",
       " [{'column_name': 'workclass', 'sign': '==', 'thresh': 5}],\n",
       " [{'column_name': 'education', 'sign': '==', 'thresh': 12}],\n",
       " [{'column_name': 'occupation', 'sign': '==', 'thresh': 4}],\n",
       " [{'column_name': 'occupation', 'sign': '==', 'thresh': 10}]]"
      ]
     },
     "execution_count": 254,
     "metadata": {},
     "output_type": "execute_result"
    }
   ],
   "source": [
    "post_pruned_rule_list"
   ]
  },
  {
   "cell_type": "code",
   "execution_count": 255,
   "metadata": {},
   "outputs": [],
   "source": [
    "def check_accuracy_of_rules_for_dataframe(rule_list,df,target_column_name):\n",
    "    fp=0\n",
    "    fn=0\n",
    "    tp=0\n",
    "    tn=0\n",
    "    for index,row in df.iterrows():\n",
    "        for rule in rule_list:\n",
    "            if isRuleSatisfied(rule,row):\n",
    "                if row[target_column_name]==1:\n",
    "                    tp+=1\n",
    "                else:\n",
    "                    fp+=1\n",
    "                break\n",
    "        else:\n",
    "            if row[target_column_name]==0:\n",
    "                tn+=1\n",
    "            else:\n",
    "                fn+=1\n",
    "    return (tp,tn,fp,fn)"
   ]
  },
  {
   "cell_type": "code",
   "execution_count": 256,
   "metadata": {},
   "outputs": [],
   "source": [
    "(tp,tn,fp,fn)=check_accuracy_of_rules_for_dataframe(post_pruned_rule_list,test_df_final,target_column_name)"
   ]
  },
  {
   "cell_type": "code",
   "execution_count": 257,
   "metadata": {},
   "outputs": [
    {
     "name": "stdout",
     "output_type": "stream",
     "text": [
      "Accuracy of the rules: 0.7437661220980224\n"
     ]
    }
   ],
   "source": [
    "print(\"Accuracy of the rules:\",(tp+tn)/(tp+tn+fp+fn))"
   ]
  },
  {
   "cell_type": "code",
   "execution_count": 258,
   "metadata": {},
   "outputs": [],
   "source": [
    "def print_rule_list(rule_list):\n",
    "    final_res=\"\\n\"\n",
    "    for rules in rule_list:\n",
    "        res=\"IF \"\n",
    "        # print(\"r:\",rules[0])\n",
    "        for i in range(0,len(rules)):\n",
    "            if i>0:\n",
    "                res+=\" AND \"\n",
    "            res+=rules[i]['column_name']\n",
    "            res+=\" \"\n",
    "            res+=rules[i]['sign']\n",
    "            res+=\" \"\n",
    "            if rules[i]['column_name'] in list_of_catagorical_vars:\n",
    "                val=rules[i]['thresh']\n",
    "                cname=rules[i]['column_name']    \n",
    "                res+=str(encoded_to_orig_dict[cname][val])\n",
    "            else:\n",
    "                res+=str(rules[i]['thresh'])\n",
    "        res+=\" THEN OUTCOME IS 1\"\n",
    "        # print(\"res:\",res)\n",
    "        final_res+=\"\\n\"\n",
    "        final_res+=res\n",
    "    print(final_res)        "
   ]
  },
  {
   "cell_type": "code",
   "execution_count": 259,
   "metadata": {},
   "outputs": [
    {
     "name": "stdout",
     "output_type": "stream",
     "text": [
      "\n",
      "\n",
      "IF education == Doctorate AND occupation == Exec-managerial AND workclass == Private AND fnlwgt > 12285 AND marital.status == Married-civ-spouse AND race == White AND native.country == United-States AND relationship == Husband AND sex == Male THEN OUTCOME IS 1\n",
      "IF workclass == Self-emp-inc THEN OUTCOME IS 1\n",
      "IF education == Masters THEN OUTCOME IS 1\n",
      "IF occupation == Exec-managerial THEN OUTCOME IS 1\n",
      "IF occupation == Prof-specialty THEN OUTCOME IS 1\n"
     ]
    }
   ],
   "source": [
    "print_rule_list(post_pruned_rule_list)\n"
   ]
  },
  {
   "cell_type": "code",
   "execution_count": null,
   "metadata": {},
   "outputs": [],
   "source": []
  }
 ],
 "metadata": {
  "kernelspec": {
   "display_name": "Python 3.7.9 64-bit",
   "language": "python",
   "name": "python3"
  },
  "language_info": {
   "codemirror_mode": {
    "name": "ipython",
    "version": 3
   },
   "file_extension": ".py",
   "mimetype": "text/x-python",
   "name": "python",
   "nbconvert_exporter": "python",
   "pygments_lexer": "ipython3",
   "version": "3.7.9"
  },
  "orig_nbformat": 4,
  "vscode": {
   "interpreter": {
    "hash": "e63ba49aebc988b646e1dbf99c75ebbbe79a20618136c52c827b2893e897d8ad"
   }
  }
 },
 "nbformat": 4,
 "nbformat_minor": 2
}
