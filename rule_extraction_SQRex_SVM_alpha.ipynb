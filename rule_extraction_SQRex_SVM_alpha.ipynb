{
 "cells": [
  {
   "cell_type": "code",
   "execution_count": 38,
   "metadata": {},
   "outputs": [],
   "source": [
    "import cvxpy as cp\n",
    "import numpy as np\n",
    "from sklearn.datasets import make_blobs\n",
    "from sklearn.model_selection  import train_test_split\n",
    "import matplotlib.pyplot as plt"
   ]
  },
  {
   "cell_type": "code",
   "execution_count": 141,
   "metadata": {},
   "outputs": [],
   "source": [
    "import numpy as np\n",
    "from tqdm import tqdm\n",
    "# from sklearn.metrics.pairwise import rbf_kernel\n",
    "class SVMCust:\n",
    "    def __init__(self) -> None:\n",
    "        theta=1\n",
    "        self.W=0\n",
    "        self.b=0\n",
    "        self.a=0\n",
    "        self.C=0\n",
    "        self.m=0\n",
    "        self.f=0\n",
    "    \n",
    "    def kg(self,a, b, sigma=1):\n",
    "        # return np.exp((-(np.linalg.norm(a-b)**2))/(2*sigma**2))\n",
    "        # print(\"dot:\",np.dot(a,b))\n",
    "        # # val=np.linalg.det(np.dot(a,b))\n",
    "        a=a.reshape((self.f,1))\n",
    "        b=b.reshape((self.f,1))\n",
    "        val=np.matmul(a.T,b)\n",
    "        # print(\"as\",a.shape, \"b:\",b.shape)\n",
    "        print(val.shape)\n",
    "        return val\n",
    "    # generating kernal matrix\n",
    "    def k_mat(self,x, k_func=kg):\n",
    "        m = x.shape[0]\n",
    "        mat = np.zeros((m, m))\n",
    "        for i in range(m):\n",
    "            for j in range(m):\n",
    "                mat[i, j] = self.kg(x[i, :], x[j, :])\n",
    "        return mat\n",
    "\n",
    "    def getAlphas(self):\n",
    "        return self.a\n",
    "    def getWeight(self):\n",
    "        return self.W\n",
    "    def getBias(self):\n",
    "        return self.b\n",
    "    def fit(self,X_train,y_train):\n",
    "        print(\"shape:\",X_train.shape)\n",
    "        y_train[y_train==0]=-1\n",
    "        (m,f)=X_train.shape\n",
    "        self.f=f\n",
    "        y_train=np.asarray(y_train)\n",
    "        self.m=m\n",
    "        X=np.array(X_train)\n",
    "        # k = rbf_kernel(X)\n",
    "        k=self.k_mat(X)\n",
    "        print(np.all(np.abs(k-k.T) < 1e-08))\n",
    "        # print(k)\n",
    "        G=np.zeros((m,m))\n",
    "        print(\"shaope:\",G.shape)\n",
    "        print(\"m:\",m)\n",
    "        for i in tqdm(range(0,m)):\n",
    "            for j in range(0,m-i):\n",
    "                # print(\"i:\",i,\"j:\",j)\n",
    "                # print(\"s:\",(y[i]*(np.inner(X[i],np.transpose(X[j])))*y[j]).shape)\n",
    "                G[i][j]=(y_train[i]*y_train[j]*(k[i][j]))\n",
    "                G[j][i]=G[i][j]\n",
    "        # G=y*k*np.transpose(y)\n",
    "       \n",
    "\n",
    "        self.a = cp.Variable(m)\n",
    "        self.C = cp.Parameter(nonneg=True)\n",
    "        self.C.value = 0.02\n",
    "        print(\"min eigne val:\",np.linalg.eigvals(G).min())\n",
    "        # G = cp.atoms.affine.wraps.psd_wrap(G)\n",
    "        obj = cp.Minimize( (0.5) * cp.quad_form(self.a,G)-np.ones((1,m))@ self.a)\n",
    "        constraints = [0<=self.a,self.a<=self.C ,np.transpose(y_train)@self.a==0]\n",
    "        prob = cp.Problem(obj, constraints)\n",
    "        print(\"Is prob dcp:\",prob.is_dcp())\n",
    "        result = prob.solve()\n",
    "        print(self.a.value)\n",
    "        self.W=np.zeros(f,dtype='float64')\n",
    "        tempa=np.array(self.a.value)\n",
    "\n",
    "        print(tempa)\n",
    "        for i in range(m):\n",
    "            if tempa[i]==self.C.value:\n",
    "                self.W+=y_train[i]* tempa[i]* X[i]\n",
    "        cnt_pos_vec=0\n",
    "        # print(\"W:\",type(W))\n",
    "        self.W=np.asarray(self.W,dtype='float64')\n",
    "        for i in range(m):\n",
    "            if tempa[i]==self.C.value:\n",
    "                # print(X[i].dtype)\n",
    "                \n",
    "                # print(\"y:\",self.W.dtype)\n",
    "                # print(\"h\",y.dtype)\n",
    "                # print((self.W* np.transpose(X[i])).shape)\n",
    "                self.b+=y_train[i]-np.matmul(self.W, np.transpose(X[i]))\n",
    "                cnt_pos_vec+=1\n",
    "        self.b/=max(1,cnt_pos_vec)\n",
    "    def predict(self,X):\n",
    "        # ycap=np.matmul(self.W,np.transpose(X))\n",
    "        matb=np.full((X.shape[0],1),self.b)\n",
    "        matw=np.full((X.shape[0],X.shape[1]),self.W)\n",
    "        # print(matb)\n",
    "        # print(matw)\n",
    "        # print(\"shapE,\",np.matmul(X,np.transpose(self.W)).shape)\n",
    "        print(np.matmul(X,np.transpose(self.W)))\n",
    "        # print(\"fnal:,\",np.add(matb,np.matmul(X,np.transpose(self.W))).shape)\n",
    "        y_cap=self.b+np.transpose(np.matmul(X,np.transpose(self.W)))\n",
    "        print(y_cap.shape)\n",
    "        y_cap[y_cap<=0]=-1\n",
    "        y_cap[y_cap>0]=1\n",
    "        return y_cap\n",
    "        \n",
    "        \n",
    "        \n",
    "\n",
    "        \n",
    "        \n",
    "        \n",
    "\n",
    "\n",
    "\n",
    "    \n",
    "    \n",
    "    \n",
    "    "
   ]
  },
  {
   "cell_type": "code",
   "execution_count": 142,
   "metadata": {},
   "outputs": [],
   "source": [
    "import pandas as pd\n",
    "import numpy as np\n",
    "from sklearn import svm\n",
    "import math"
   ]
  },
  {
   "cell_type": "code",
   "execution_count": 143,
   "metadata": {},
   "outputs": [],
   "source": [
    "##global variables\n",
    "tz=7\n",
    "tpr_by_fpr_min_thresh=0\n",
    "\n",
    "tc=400\n",
    "target_column_name='income'"
   ]
  },
  {
   "cell_type": "code",
   "execution_count": 144,
   "metadata": {},
   "outputs": [],
   "source": [
    "data=pd.read_csv(\"datasets/adult.csv\")"
   ]
  },
  {
   "cell_type": "code",
   "execution_count": 145,
   "metadata": {},
   "outputs": [],
   "source": [
    "data['income'].replace(['<=50K', '>50K'],\n",
    "                        [0, 1], inplace=True)"
   ]
  },
  {
   "cell_type": "code",
   "execution_count": 146,
   "metadata": {},
   "outputs": [],
   "source": [
    "list_of_catagorical_vars=['workclass','education',\n",
    "       'marital.status', 'occupation', 'relationship', 'race', 'sex', 'native.country',\n",
    "]\n"
   ]
  },
  {
   "cell_type": "code",
   "execution_count": 147,
   "metadata": {},
   "outputs": [],
   "source": [
    "from sklearn.preprocessing import LabelEncoder\n",
    "encoded_to_orig_dict={}\n",
    "for col_name in list_of_catagorical_vars:\n",
    "    le = LabelEncoder()\n",
    "    le.fit(data[col_name])\n",
    "    data[col_name]=le.transform(data[col_name])\n",
    "    \n",
    "\n",
    "    encoded_to_orig_dict[col_name]= dict((v,k) for k,v in dict(zip(le.classes_, le.transform(le.classes_))).items())"
   ]
  },
  {
   "cell_type": "code",
   "execution_count": 148,
   "metadata": {},
   "outputs": [],
   "source": [
    "traindt=data;\n",
    "test=data[target_column_name]\n",
    "traindt.drop(target_column_name,axis=1,inplace=True)\n"
   ]
  },
  {
   "cell_type": "code",
   "execution_count": 149,
   "metadata": {},
   "outputs": [],
   "source": [
    "from sklearn.model_selection import train_test_split\n",
    "\n",
    "# Split dataset into training set and test set\n",
    "X_train, X_test, y_train, y_test = train_test_split(traindt,test, test_size=0.25) # 70% training and 30% test"
   ]
  },
  {
   "cell_type": "code",
   "execution_count": 150,
   "metadata": {},
   "outputs": [],
   "source": [
    "clf=SVMCust()"
   ]
  },
  {
   "cell_type": "code",
   "execution_count": 151,
   "metadata": {},
   "outputs": [
    {
     "name": "stdout",
     "output_type": "stream",
     "text": [
      "shape: (5000, 14)\n",
      "(14, 14)\n"
     ]
    },
    {
     "ename": "ValueError",
     "evalue": "setting an array element with a sequence.",
     "output_type": "error",
     "traceback": [
      "\u001b[1;31m---------------------------------------------------------------------------\u001b[0m",
      "\u001b[1;31mTypeError\u001b[0m                                 Traceback (most recent call last)",
      "\u001b[1;31mTypeError\u001b[0m: only size-1 arrays can be converted to Python scalars",
      "\nThe above exception was the direct cause of the following exception:\n",
      "\u001b[1;31mValueError\u001b[0m                                Traceback (most recent call last)",
      "\u001b[1;32m~\\AppData\\Local\\Temp\\ipykernel_24236\\4264749446.py\u001b[0m in \u001b[0;36m<module>\u001b[1;34m\u001b[0m\n\u001b[1;32m----> 1\u001b[1;33m \u001b[0mclf\u001b[0m\u001b[1;33m.\u001b[0m\u001b[0mfit\u001b[0m\u001b[1;33m(\u001b[0m\u001b[0mX_train\u001b[0m\u001b[1;33m[\u001b[0m\u001b[1;33m:\u001b[0m\u001b[1;36m5000\u001b[0m\u001b[1;33m]\u001b[0m\u001b[1;33m,\u001b[0m \u001b[0my_train\u001b[0m\u001b[1;33m[\u001b[0m\u001b[1;33m:\u001b[0m\u001b[1;36m5000\u001b[0m\u001b[1;33m]\u001b[0m\u001b[1;33m)\u001b[0m\u001b[1;33m\u001b[0m\u001b[1;33m\u001b[0m\u001b[0m\n\u001b[0m",
      "\u001b[1;32m~\\AppData\\Local\\Temp\\ipykernel_24236\\2880200082.py\u001b[0m in \u001b[0;36mfit\u001b[1;34m(self, X_train, y_train)\u001b[0m\n\u001b[0;32m     46\u001b[0m         \u001b[0mX\u001b[0m\u001b[1;33m=\u001b[0m\u001b[0mnp\u001b[0m\u001b[1;33m.\u001b[0m\u001b[0marray\u001b[0m\u001b[1;33m(\u001b[0m\u001b[0mX_train\u001b[0m\u001b[1;33m)\u001b[0m\u001b[1;33m\u001b[0m\u001b[1;33m\u001b[0m\u001b[0m\n\u001b[0;32m     47\u001b[0m         \u001b[1;31m# k = rbf_kernel(X)\u001b[0m\u001b[1;33m\u001b[0m\u001b[1;33m\u001b[0m\u001b[1;33m\u001b[0m\u001b[0m\n\u001b[1;32m---> 48\u001b[1;33m         \u001b[0mk\u001b[0m\u001b[1;33m=\u001b[0m\u001b[0mself\u001b[0m\u001b[1;33m.\u001b[0m\u001b[0mk_mat\u001b[0m\u001b[1;33m(\u001b[0m\u001b[0mX\u001b[0m\u001b[1;33m)\u001b[0m\u001b[1;33m\u001b[0m\u001b[1;33m\u001b[0m\u001b[0m\n\u001b[0m\u001b[0;32m     49\u001b[0m         \u001b[0mprint\u001b[0m\u001b[1;33m(\u001b[0m\u001b[0mnp\u001b[0m\u001b[1;33m.\u001b[0m\u001b[0mall\u001b[0m\u001b[1;33m(\u001b[0m\u001b[0mnp\u001b[0m\u001b[1;33m.\u001b[0m\u001b[0mabs\u001b[0m\u001b[1;33m(\u001b[0m\u001b[0mk\u001b[0m\u001b[1;33m-\u001b[0m\u001b[0mk\u001b[0m\u001b[1;33m.\u001b[0m\u001b[0mT\u001b[0m\u001b[1;33m)\u001b[0m \u001b[1;33m<\u001b[0m \u001b[1;36m1e-08\u001b[0m\u001b[1;33m)\u001b[0m\u001b[1;33m)\u001b[0m\u001b[1;33m\u001b[0m\u001b[1;33m\u001b[0m\u001b[0m\n\u001b[0;32m     50\u001b[0m         \u001b[1;31m# print(k)\u001b[0m\u001b[1;33m\u001b[0m\u001b[1;33m\u001b[0m\u001b[1;33m\u001b[0m\u001b[0m\n",
      "\u001b[1;32m~\\AppData\\Local\\Temp\\ipykernel_24236\\2880200082.py\u001b[0m in \u001b[0;36mk_mat\u001b[1;34m(self, x, k_func)\u001b[0m\n\u001b[0;32m     28\u001b[0m         \u001b[1;32mfor\u001b[0m \u001b[0mi\u001b[0m \u001b[1;32min\u001b[0m \u001b[0mrange\u001b[0m\u001b[1;33m(\u001b[0m\u001b[0mm\u001b[0m\u001b[1;33m)\u001b[0m\u001b[1;33m:\u001b[0m\u001b[1;33m\u001b[0m\u001b[1;33m\u001b[0m\u001b[0m\n\u001b[0;32m     29\u001b[0m             \u001b[1;32mfor\u001b[0m \u001b[0mj\u001b[0m \u001b[1;32min\u001b[0m \u001b[0mrange\u001b[0m\u001b[1;33m(\u001b[0m\u001b[0mm\u001b[0m\u001b[1;33m)\u001b[0m\u001b[1;33m:\u001b[0m\u001b[1;33m\u001b[0m\u001b[1;33m\u001b[0m\u001b[0m\n\u001b[1;32m---> 30\u001b[1;33m                 \u001b[0mmat\u001b[0m\u001b[1;33m[\u001b[0m\u001b[0mi\u001b[0m\u001b[1;33m,\u001b[0m \u001b[0mj\u001b[0m\u001b[1;33m]\u001b[0m \u001b[1;33m=\u001b[0m \u001b[0mself\u001b[0m\u001b[1;33m.\u001b[0m\u001b[0mkg\u001b[0m\u001b[1;33m(\u001b[0m\u001b[0mx\u001b[0m\u001b[1;33m[\u001b[0m\u001b[0mi\u001b[0m\u001b[1;33m,\u001b[0m \u001b[1;33m:\u001b[0m\u001b[1;33m]\u001b[0m\u001b[1;33m,\u001b[0m \u001b[0mx\u001b[0m\u001b[1;33m[\u001b[0m\u001b[0mj\u001b[0m\u001b[1;33m,\u001b[0m \u001b[1;33m:\u001b[0m\u001b[1;33m]\u001b[0m\u001b[1;33m)\u001b[0m\u001b[1;33m\u001b[0m\u001b[1;33m\u001b[0m\u001b[0m\n\u001b[0m\u001b[0;32m     31\u001b[0m         \u001b[1;32mreturn\u001b[0m \u001b[0mmat\u001b[0m\u001b[1;33m\u001b[0m\u001b[1;33m\u001b[0m\u001b[0m\n\u001b[0;32m     32\u001b[0m \u001b[1;33m\u001b[0m\u001b[0m\n",
      "\u001b[1;31mValueError\u001b[0m: setting an array element with a sequence."
     ]
    }
   ],
   "source": [
    "clf.fit(X_train[:5000], y_train[:5000])"
   ]
  },
  {
   "cell_type": "code",
   "execution_count": null,
   "metadata": {},
   "outputs": [],
   "source": []
  }
 ],
 "metadata": {
  "kernelspec": {
   "display_name": "Python 3.7.9 64-bit",
   "language": "python",
   "name": "python3"
  },
  "language_info": {
   "codemirror_mode": {
    "name": "ipython",
    "version": 3
   },
   "file_extension": ".py",
   "mimetype": "text/x-python",
   "name": "python",
   "nbconvert_exporter": "python",
   "pygments_lexer": "ipython3",
   "version": "3.7.9"
  },
  "orig_nbformat": 4,
  "vscode": {
   "interpreter": {
    "hash": "e63ba49aebc988b646e1dbf99c75ebbbe79a20618136c52c827b2893e897d8ad"
   }
  }
 },
 "nbformat": 4,
 "nbformat_minor": 2
}
