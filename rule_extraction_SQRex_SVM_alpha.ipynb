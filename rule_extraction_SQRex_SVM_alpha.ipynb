{
 "cells": [
  {
   "cell_type": "code",
   "execution_count": 412,
   "metadata": {},
   "outputs": [],
   "source": [
    "import cvxpy as cp\n",
    "import numpy as np\n",
    "from sklearn.datasets import make_blobs\n",
    "from sklearn.model_selection  import train_test_split\n",
    "import matplotlib.pyplot as plt"
   ]
  },
  {
   "cell_type": "code",
   "execution_count": 650,
   "metadata": {},
   "outputs": [],
   "source": [
    "import numpy as np\n",
    "from tqdm import tqdm\n",
    "# from sklearn.metrics.pairwise import rbf_kernel\n",
    "class SVMCust:\n",
    "    def __init__(self) -> None:\n",
    "        theta=1\n",
    "        self.W=0\n",
    "        self.b=0\n",
    "        self.a=0\n",
    "        self.C=0\n",
    "        self.m=0\n",
    "        self.f=0\n",
    "    \n",
    "    def kg(self,a, b, sigma=1):\n",
    "        return np.exp((-(np.linalg.norm(a-b)**2))/(2*sigma**2))\n",
    "        # print(\"dot:\",np.dot(a,b))\n",
    "        # # val=np.linalg.det(np.dot(a,b))\n",
    "        # a=a.reshape((self.f,1))\n",
    "        # b=b.reshape((self.f,1))\n",
    "        # val=np.matmul(a.T,b)\n",
    "        # print(\"as\",a.shape, \"b:\",b.shape)\n",
    "        # print(val.shape)\n",
    "        return val\n",
    "    # generating kernal matrix\n",
    "    def k_mat(self,x, k_func=kg):\n",
    "        m = x.shape[0]\n",
    "        mat = np.zeros((m, m))\n",
    "        for i in tqdm(range(m)):\n",
    "            for j in range(m):\n",
    "                mat[i, j] = self.kg(x[i], x[j])\n",
    "        return mat\n",
    "\n",
    "    def getAlphas(self):\n",
    "        return self.a\n",
    "    def getWeight(self):\n",
    "        return self.W\n",
    "    def getBias(self):\n",
    "        return self.b\n",
    "    def fit(self,X_train,y_train):\n",
    "        print(\"shape:\",X_train.shape)\n",
    "        y_train[y_train==0]=-1\n",
    "        (m,f)=X_train.shape\n",
    "        self.f=f\n",
    "        y_train=np.asarray(y_train)\n",
    "        self.m=m\n",
    "        X=np.array(X_train)\n",
    "        # k = rbf_kernel(X)\n",
    "        k=self.k_mat(X)\n",
    "        # print(np.all(np.abs(k-k.T) < 1e-08))\n",
    "        # print(k)\n",
    "        G=np.zeros((m,m))\n",
    "        print(\"shaope:\",G.shape)\n",
    "        print(\"m:\",m)\n",
    "        for i in tqdm(range(0,m)):\n",
    "            # for j in range(0,i+1):\n",
    "                # print(\"i:\",i,\"j:\",j)\n",
    "                # print(\"s:\",(y[i]*(np.inner(X[i],np.transpose(X[j])))*y[j]).shape)\n",
    "                G[i]=(y_train[i]*np.multiply(y_train,(k[i])))\n",
    "                # G[j][i]=G[i][j]\n",
    "        # G=y*k*np.transpose(y)\n",
    "        # print(G)\n",
    "\n",
    "        self.a = cp.Variable(m)\n",
    "        self.C = cp.Parameter(nonneg=True)\n",
    "        self.C.value = 0.02\n",
    "        print(\"min eigne val:\",np.linalg.eigvals(G).min())\n",
    "        G = cp.atoms.affine.wraps.psd_wrap(G)\n",
    "        obj = cp.Minimize( (0.5) * cp.quad_form(self.a,G)-np.ones((1,m))@ self.a)\n",
    "        constraints = [0<=self.a,self.a<=self.C ,np.transpose(y_train)@self.a==0]\n",
    "        prob = cp.Problem(obj, constraints)\n",
    "        print(\"Is prob dcp:\",prob.is_dcp())\n",
    "        result = prob.solve()\n",
    "        print(self.a.value)\n",
    "        self.W=np.zeros(f,dtype='float64')\n",
    "        tempa=np.array(self.a.value)\n",
    "\n",
    "        print(tempa)\n",
    "        for i in range(m):\n",
    "            if tempa[i]>=0.0199:\n",
    "                self.W+=y_train[i]* tempa[i]* X[i]\n",
    "        cnt_pos_vec=0\n",
    "        # print(\"W:\",type(W))\n",
    "        self.W=np.asarray(self.W,dtype='float64')\n",
    "        for i in range(m):\n",
    "            if tempa[i]>=0.0199:\n",
    "                # print(X[i].dtype)\n",
    "                \n",
    "                # print(\"y:\",self.W.dtype)\n",
    "                # print(\"h\",y.dtype)\n",
    "                # print((self.W* np.transpose(X[i])).shape)\n",
    "                self.b+=y_train[i]-np.matmul(self.W, np.transpose(X[i]))\n",
    "                cnt_pos_vec+=1\n",
    "        y_train[y_train==-1]=0\n",
    "        self.b/=max(1,cnt_pos_vec)\n",
    "    def predict(self,X):\n",
    "        # ycap=np.matmul(self.W,np.transpose(X))\n",
    "        matb=np.full((X.shape[0],1),self.b)\n",
    "        matw=np.full((X.shape[0],X.shape[1]),self.W)\n",
    "        # print(matb)\n",
    "        # print(matw)\n",
    "        # print(\"shapE,\",np.matmul(X,np.transpose(self.W)).shape)\n",
    "        print(np.matmul(X,np.transpose(self.W)))\n",
    "        # print(\"fnal:,\",np.add(matb,np.matmul(X,np.transpose(self.W))).shape)\n",
    "        y_cap=self.b+np.transpose(np.matmul(X,np.transpose(self.W)))\n",
    "        print(y_cap.shape)\n",
    "        y_cap[y_cap<=0]=0\n",
    "        y_cap[y_cap>0]=1\n",
    "        return y_cap\n",
    "        \n",
    "        \n",
    "        \n",
    "\n",
    "        \n",
    "        \n",
    "        \n",
    "\n",
    "\n",
    "\n",
    "    \n",
    "    \n",
    "    \n",
    "    "
   ]
  },
  {
   "cell_type": "code",
   "execution_count": 651,
   "metadata": {},
   "outputs": [],
   "source": [
    "import pandas as pd\n",
    "import numpy as np\n",
    "from sklearn import svm\n",
    "import math"
   ]
  },
  {
   "cell_type": "code",
   "execution_count": 652,
   "metadata": {},
   "outputs": [],
   "source": [
    "##global variables\n",
    "tz=0\n",
    "tpr_by_fpr_min_thresh=0\n",
    "\n",
    "tc=0\n",
    "target_column_name='income'"
   ]
  },
  {
   "cell_type": "code",
   "execution_count": 653,
   "metadata": {},
   "outputs": [],
   "source": [
    "data=pd.read_csv(\"datasets/adult.csv\")"
   ]
  },
  {
   "cell_type": "code",
   "execution_count": 654,
   "metadata": {},
   "outputs": [],
   "source": [
    "data['income'].replace(['<=50K', '>50K'],\n",
    "                        [0, 1], inplace=True)"
   ]
  },
  {
   "cell_type": "code",
   "execution_count": 655,
   "metadata": {},
   "outputs": [],
   "source": [
    "list_of_catagorical_vars=['workclass','education',\n",
    "       'marital.status', 'occupation', 'relationship', 'race', 'sex', 'native.country',\n",
    "]\n"
   ]
  },
  {
   "cell_type": "code",
   "execution_count": 656,
   "metadata": {},
   "outputs": [],
   "source": [
    "from sklearn.preprocessing import LabelEncoder\n",
    "encoded_to_orig_dict={}\n",
    "for col_name in list_of_catagorical_vars:\n",
    "    le = LabelEncoder()\n",
    "    le.fit(data[col_name])\n",
    "    data[col_name]=le.transform(data[col_name])\n",
    "    \n",
    "\n",
    "    encoded_to_orig_dict[col_name]= dict((v,k) for k,v in dict(zip(le.classes_, le.transform(le.classes_))).items())"
   ]
  },
  {
   "cell_type": "code",
   "execution_count": 657,
   "metadata": {},
   "outputs": [],
   "source": [
    "traindt=data;\n",
    "test=data[target_column_name]\n",
    "traindt.drop(target_column_name,axis=1,inplace=True)\n"
   ]
  },
  {
   "cell_type": "code",
   "execution_count": 658,
   "metadata": {},
   "outputs": [],
   "source": [
    "from sklearn.model_selection import train_test_split\n",
    "\n",
    "# Split dataset into training set and test set\n",
    "X_train, X_test, y_train, y_test = train_test_split(traindt,test, test_size=0.25) # 70% training and 30% test"
   ]
  },
  {
   "cell_type": "code",
   "execution_count": 659,
   "metadata": {},
   "outputs": [],
   "source": [
    "clf=SVMCust()"
   ]
  },
  {
   "cell_type": "code",
   "execution_count": 660,
   "metadata": {},
   "outputs": [],
   "source": [
    "# X_train.shape\n",
    "# y_test=y_test[:500]\n",
    "# X_test=X_test[:500]\n",
    "# X_train=X_train[:1000]\n",
    "# y_train=y_train[:1000]"
   ]
  },
  {
   "cell_type": "code",
   "execution_count": 661,
   "metadata": {},
   "outputs": [],
   "source": [
    "from sklearn import preprocessing\n",
    "x = X_train.values #returns a numpy array\n",
    "min_max_scaler = preprocessing.MinMaxScaler()\n",
    "X_train_norm= min_max_scaler.fit_transform(x)\n",
    "X_test_norm=min_max_scaler.transform(X_test.values)\n",
    "# df = pd.DataFrame(x_scaled)\n"
   ]
  },
  {
   "cell_type": "code",
   "execution_count": null,
   "metadata": {},
   "outputs": [],
   "source": []
  },
  {
   "cell_type": "code",
   "execution_count": 662,
   "metadata": {},
   "outputs": [
    {
     "data": {
      "text/plain": [
       "income\n",
       "0         6209\n",
       "1         1932\n",
       "dtype: int64"
      ]
     },
     "execution_count": 662,
     "metadata": {},
     "output_type": "execute_result"
    }
   ],
   "source": [
    "pd.DataFrame( y_test).value_counts()"
   ]
  },
  {
   "cell_type": "code",
   "execution_count": 663,
   "metadata": {},
   "outputs": [
    {
     "name": "stdout",
     "output_type": "stream",
     "text": [
      "shape: (5000, 14)\n"
     ]
    },
    {
     "name": "stderr",
     "output_type": "stream",
     "text": [
      " 33%|███▎      | 1638/5000 [01:12<03:11, 17.55it/s]"
     ]
    }
   ],
   "source": [
    "clf.fit(X_train_norm[:5000], y_train[:5000])"
   ]
  },
  {
   "cell_type": "markdown",
   "metadata": {},
   "source": []
  },
  {
   "cell_type": "code",
   "execution_count": 621,
   "metadata": {},
   "outputs": [],
   "source": [
    "alphas=clf.getAlphas().value"
   ]
  },
  {
   "cell_type": "code",
   "execution_count": 636,
   "metadata": {},
   "outputs": [
    {
     "data": {
      "text/plain": [
       "array([0.  , 0.  , 0.  , ..., 0.02, 0.02, 0.  ])"
      ]
     },
     "execution_count": 636,
     "metadata": {},
     "output_type": "execute_result"
    }
   ],
   "source": [
    "alphas"
   ]
  },
  {
   "cell_type": "code",
   "execution_count": 638,
   "metadata": {},
   "outputs": [],
   "source": [
    "alphas[alphas>=0.01999]=1\n",
    "alphas[alphas<0.02]=0"
   ]
  },
  {
   "cell_type": "code",
   "execution_count": 639,
   "metadata": {},
   "outputs": [
    {
     "data": {
      "text/plain": [
       "array([0., 0., 0., ..., 1., 1., 0.])"
      ]
     },
     "execution_count": 639,
     "metadata": {},
     "output_type": "execute_result"
    }
   ],
   "source": [
    "alphas"
   ]
  },
  {
   "cell_type": "code",
   "execution_count": 640,
   "metadata": {},
   "outputs": [
    {
     "data": {
      "text/plain": [
       "0.0    3861\n",
       "1.0    1139\n",
       "dtype: int64"
      ]
     },
     "execution_count": 640,
     "metadata": {},
     "output_type": "execute_result"
    }
   ],
   "source": [
    "pd.DataFrame(alphas).value_counts()"
   ]
  },
  {
   "cell_type": "code",
   "execution_count": 641,
   "metadata": {},
   "outputs": [
    {
     "data": {
      "text/plain": [
       "0    18610\n",
       "1     5810\n",
       "Name: income, dtype: int64"
      ]
     },
     "execution_count": 641,
     "metadata": {},
     "output_type": "execute_result"
    }
   ],
   "source": [
    "y_train.value_counts()"
   ]
  },
  {
   "cell_type": "code",
   "execution_count": 642,
   "metadata": {},
   "outputs": [
    {
     "name": "stdout",
     "output_type": "stream",
     "text": [
      "[0. 0. 0. ... 0. 0. 0.]\n",
      "(8141,)\n"
     ]
    }
   ],
   "source": [
    "y_pred=clf.predict(X_test_norm)"
   ]
  },
  {
   "cell_type": "code",
   "execution_count": 643,
   "metadata": {},
   "outputs": [
    {
     "name": "stdout",
     "output_type": "stream",
     "text": [
      "Accuracy: 0.750522048888343\n"
     ]
    }
   ],
   "source": [
    "from sklearn import metrics\n",
    "print(\"Accuracy:\",metrics.accuracy_score(y_test, y_pred))"
   ]
  },
  {
   "cell_type": "code",
   "execution_count": 644,
   "metadata": {},
   "outputs": [],
   "source": [
    "from sklearn.metrics import confusion_matrix"
   ]
  },
  {
   "cell_type": "code",
   "execution_count": 645,
   "metadata": {},
   "outputs": [
    {
     "data": {
      "text/plain": [
       "array([[6110,    0],\n",
       "       [2031,    0]], dtype=int64)"
      ]
     },
     "execution_count": 645,
     "metadata": {},
     "output_type": "execute_result"
    }
   ],
   "source": [
    "confusion_matrix(y_test,y_pred)"
   ]
  },
  {
   "cell_type": "code",
   "execution_count": 646,
   "metadata": {},
   "outputs": [],
   "source": [
    "test_df_final=pd.concat([X_test,y_test],axis=1)"
   ]
  },
  {
   "cell_type": "code",
   "execution_count": 647,
   "metadata": {},
   "outputs": [],
   "source": [
    "all_test=pd.concat([X_train,y_train],axis=1)"
   ]
  },
  {
   "cell_type": "code",
   "execution_count": 648,
   "metadata": {},
   "outputs": [
    {
     "ename": "ValueError",
     "evalue": "Length of values (5000) does not match length of index (24420)",
     "output_type": "error",
     "traceback": [
      "\u001b[1;31m---------------------------------------------------------------------------\u001b[0m",
      "\u001b[1;31mValueError\u001b[0m                                Traceback (most recent call last)",
      "\u001b[1;32m~\\AppData\\Local\\Temp\\ipykernel_19804\\3691606843.py\u001b[0m in \u001b[0;36m<module>\u001b[1;34m\u001b[0m\n\u001b[1;32m----> 1\u001b[1;33m \u001b[0mall_test\u001b[0m\u001b[1;33m[\u001b[0m\u001b[1;34m'Pred'\u001b[0m\u001b[1;33m]\u001b[0m\u001b[1;33m=\u001b[0m\u001b[0malphas\u001b[0m\u001b[1;33m\u001b[0m\u001b[1;33m\u001b[0m\u001b[0m\n\u001b[0m",
      "\u001b[1;32mc:\\Users\\acer\\AppData\\Local\\Programs\\Python\\Python37\\lib\\site-packages\\pandas\\core\\frame.py\u001b[0m in \u001b[0;36m__setitem__\u001b[1;34m(self, key, value)\u001b[0m\n\u001b[0;32m   3610\u001b[0m         \u001b[1;32melse\u001b[0m\u001b[1;33m:\u001b[0m\u001b[1;33m\u001b[0m\u001b[1;33m\u001b[0m\u001b[0m\n\u001b[0;32m   3611\u001b[0m             \u001b[1;31m# set column\u001b[0m\u001b[1;33m\u001b[0m\u001b[1;33m\u001b[0m\u001b[1;33m\u001b[0m\u001b[0m\n\u001b[1;32m-> 3612\u001b[1;33m             \u001b[0mself\u001b[0m\u001b[1;33m.\u001b[0m\u001b[0m_set_item\u001b[0m\u001b[1;33m(\u001b[0m\u001b[0mkey\u001b[0m\u001b[1;33m,\u001b[0m \u001b[0mvalue\u001b[0m\u001b[1;33m)\u001b[0m\u001b[1;33m\u001b[0m\u001b[1;33m\u001b[0m\u001b[0m\n\u001b[0m\u001b[0;32m   3613\u001b[0m \u001b[1;33m\u001b[0m\u001b[0m\n\u001b[0;32m   3614\u001b[0m     \u001b[1;32mdef\u001b[0m \u001b[0m_setitem_slice\u001b[0m\u001b[1;33m(\u001b[0m\u001b[0mself\u001b[0m\u001b[1;33m,\u001b[0m \u001b[0mkey\u001b[0m\u001b[1;33m:\u001b[0m \u001b[0mslice\u001b[0m\u001b[1;33m,\u001b[0m \u001b[0mvalue\u001b[0m\u001b[1;33m)\u001b[0m\u001b[1;33m:\u001b[0m\u001b[1;33m\u001b[0m\u001b[1;33m\u001b[0m\u001b[0m\n",
      "\u001b[1;32mc:\\Users\\acer\\AppData\\Local\\Programs\\Python\\Python37\\lib\\site-packages\\pandas\\core\\frame.py\u001b[0m in \u001b[0;36m_set_item\u001b[1;34m(self, key, value)\u001b[0m\n\u001b[0;32m   3782\u001b[0m         \u001b[0mensure\u001b[0m \u001b[0mhomogeneity\u001b[0m\u001b[1;33m.\u001b[0m\u001b[1;33m\u001b[0m\u001b[1;33m\u001b[0m\u001b[0m\n\u001b[0;32m   3783\u001b[0m         \"\"\"\n\u001b[1;32m-> 3784\u001b[1;33m         \u001b[0mvalue\u001b[0m \u001b[1;33m=\u001b[0m \u001b[0mself\u001b[0m\u001b[1;33m.\u001b[0m\u001b[0m_sanitize_column\u001b[0m\u001b[1;33m(\u001b[0m\u001b[0mvalue\u001b[0m\u001b[1;33m)\u001b[0m\u001b[1;33m\u001b[0m\u001b[1;33m\u001b[0m\u001b[0m\n\u001b[0m\u001b[0;32m   3785\u001b[0m \u001b[1;33m\u001b[0m\u001b[0m\n\u001b[0;32m   3786\u001b[0m         if (\n",
      "\u001b[1;32mc:\\Users\\acer\\AppData\\Local\\Programs\\Python\\Python37\\lib\\site-packages\\pandas\\core\\frame.py\u001b[0m in \u001b[0;36m_sanitize_column\u001b[1;34m(self, value)\u001b[0m\n\u001b[0;32m   4507\u001b[0m \u001b[1;33m\u001b[0m\u001b[0m\n\u001b[0;32m   4508\u001b[0m         \u001b[1;32mif\u001b[0m \u001b[0mis_list_like\u001b[0m\u001b[1;33m(\u001b[0m\u001b[0mvalue\u001b[0m\u001b[1;33m)\u001b[0m\u001b[1;33m:\u001b[0m\u001b[1;33m\u001b[0m\u001b[1;33m\u001b[0m\u001b[0m\n\u001b[1;32m-> 4509\u001b[1;33m             \u001b[0mcom\u001b[0m\u001b[1;33m.\u001b[0m\u001b[0mrequire_length_match\u001b[0m\u001b[1;33m(\u001b[0m\u001b[0mvalue\u001b[0m\u001b[1;33m,\u001b[0m \u001b[0mself\u001b[0m\u001b[1;33m.\u001b[0m\u001b[0mindex\u001b[0m\u001b[1;33m)\u001b[0m\u001b[1;33m\u001b[0m\u001b[1;33m\u001b[0m\u001b[0m\n\u001b[0m\u001b[0;32m   4510\u001b[0m         \u001b[1;32mreturn\u001b[0m \u001b[0msanitize_array\u001b[0m\u001b[1;33m(\u001b[0m\u001b[0mvalue\u001b[0m\u001b[1;33m,\u001b[0m \u001b[0mself\u001b[0m\u001b[1;33m.\u001b[0m\u001b[0mindex\u001b[0m\u001b[1;33m,\u001b[0m \u001b[0mcopy\u001b[0m\u001b[1;33m=\u001b[0m\u001b[1;32mTrue\u001b[0m\u001b[1;33m,\u001b[0m \u001b[0mallow_2d\u001b[0m\u001b[1;33m=\u001b[0m\u001b[1;32mTrue\u001b[0m\u001b[1;33m)\u001b[0m\u001b[1;33m\u001b[0m\u001b[1;33m\u001b[0m\u001b[0m\n\u001b[0;32m   4511\u001b[0m \u001b[1;33m\u001b[0m\u001b[0m\n",
      "\u001b[1;32mc:\\Users\\acer\\AppData\\Local\\Programs\\Python\\Python37\\lib\\site-packages\\pandas\\core\\common.py\u001b[0m in \u001b[0;36mrequire_length_match\u001b[1;34m(data, index)\u001b[0m\n\u001b[0;32m    530\u001b[0m     \u001b[1;32mif\u001b[0m \u001b[0mlen\u001b[0m\u001b[1;33m(\u001b[0m\u001b[0mdata\u001b[0m\u001b[1;33m)\u001b[0m \u001b[1;33m!=\u001b[0m \u001b[0mlen\u001b[0m\u001b[1;33m(\u001b[0m\u001b[0mindex\u001b[0m\u001b[1;33m)\u001b[0m\u001b[1;33m:\u001b[0m\u001b[1;33m\u001b[0m\u001b[1;33m\u001b[0m\u001b[0m\n\u001b[0;32m    531\u001b[0m         raise ValueError(\n\u001b[1;32m--> 532\u001b[1;33m             \u001b[1;34m\"Length of values \"\u001b[0m\u001b[1;33m\u001b[0m\u001b[1;33m\u001b[0m\u001b[0m\n\u001b[0m\u001b[0;32m    533\u001b[0m             \u001b[1;34mf\"({len(data)}) \"\u001b[0m\u001b[1;33m\u001b[0m\u001b[1;33m\u001b[0m\u001b[0m\n\u001b[0;32m    534\u001b[0m             \u001b[1;34m\"does not match length of index \"\u001b[0m\u001b[1;33m\u001b[0m\u001b[1;33m\u001b[0m\u001b[0m\n",
      "\u001b[1;31mValueError\u001b[0m: Length of values (5000) does not match length of index (24420)"
     ]
    }
   ],
   "source": [
    "all_test['Pred']=alphas"
   ]
  },
  {
   "cell_type": "code",
   "execution_count": 436,
   "metadata": {},
   "outputs": [],
   "source": [
    "true_predictions=all_test.loc[all_test[target_column_name]==all_test['Pred']]\n",
    "true_positive_predictions=true_predictions.loc[true_predictions['Pred']==1]\n",
    "# true_positive_predictions\n",
    "true_negative_predictons=true_predictions.loc[true_predictions['Pred']==0]"
   ]
  },
  {
   "cell_type": "code",
   "execution_count": 437,
   "metadata": {},
   "outputs": [
    {
     "data": {
      "text/plain": [
       "0    18514\n",
       "1     5906\n",
       "Name: income, dtype: int64"
      ]
     },
     "execution_count": 437,
     "metadata": {},
     "output_type": "execute_result"
    }
   ],
   "source": [
    "all_test[target_column_name].value_counts()"
   ]
  },
  {
   "cell_type": "code",
   "execution_count": 438,
   "metadata": {},
   "outputs": [
    {
     "data": {
      "text/plain": [
       "0    18514\n",
       "1     5906\n",
       "Name: income, dtype: int64"
      ]
     },
     "execution_count": 438,
     "metadata": {},
     "output_type": "execute_result"
    }
   ],
   "source": [
    "true_predictions[target_column_name].value_counts()"
   ]
  },
  {
   "cell_type": "code",
   "execution_count": 439,
   "metadata": {},
   "outputs": [
    {
     "name": "stderr",
     "output_type": "stream",
     "text": [
      "c:\\Users\\acer\\AppData\\Local\\Programs\\Python\\Python37\\lib\\site-packages\\pandas\\core\\frame.py:4913: SettingWithCopyWarning: \n",
      "A value is trying to be set on a copy of a slice from a DataFrame\n",
      "\n",
      "See the caveats in the documentation: https://pandas.pydata.org/pandas-docs/stable/user_guide/indexing.html#returning-a-view-versus-a-copy\n",
      "  errors=errors,\n"
     ]
    }
   ],
   "source": [
    "true_positive_predictions.drop('Pred',axis=1,inplace=True)\n",
    "true_negative_predictons.drop('Pred',axis=1,inplace=True)"
   ]
  },
  {
   "cell_type": "code",
   "execution_count": 440,
   "metadata": {},
   "outputs": [],
   "source": [
    "true_predictions_x=true_predictions.drop([target_column_name,'Pred'],axis=1)\n",
    "true_predictions_y=true_predictions[target_column_name]"
   ]
  },
  {
   "cell_type": "code",
   "execution_count": 441,
   "metadata": {},
   "outputs": [],
   "source": [
    "true_predictions_x= true_predictions_x.loc[:, (true_predictions_x != true_predictions_x.iloc[0]).any()] "
   ]
  },
  {
   "cell_type": "code",
   "execution_count": 442,
   "metadata": {},
   "outputs": [
    {
     "data": {
      "text/plain": [
       "['age',\n",
       " 'workclass',\n",
       " 'fnlwgt',\n",
       " 'education',\n",
       " 'education.num',\n",
       " 'marital.status',\n",
       " 'occupation',\n",
       " 'relationship',\n",
       " 'race',\n",
       " 'sex',\n",
       " 'capital.gain',\n",
       " 'capital.loss',\n",
       " 'hours.per.week',\n",
       " 'native.country']"
      ]
     },
     "execution_count": 442,
     "metadata": {},
     "output_type": "execute_result"
    }
   ],
   "source": [
    "list_of_features_with_non_0_var=list(true_predictions_x.columns)\n",
    "list_of_features_with_non_0_var"
   ]
  },
  {
   "cell_type": "code",
   "execution_count": 443,
   "metadata": {},
   "outputs": [
    {
     "data": {
      "text/plain": [
       "Index(['age', 'workclass', 'fnlwgt', 'education', 'education.num',\n",
       "       'marital.status', 'occupation', 'relationship', 'race', 'sex',\n",
       "       'capital.gain', 'capital.loss', 'hours.per.week', 'native.country',\n",
       "       'income'],\n",
       "      dtype='object')"
      ]
     },
     "execution_count": 443,
     "metadata": {},
     "output_type": "execute_result"
    }
   ],
   "source": [
    "true_negative_predictons.columns"
   ]
  },
  {
   "cell_type": "code",
   "execution_count": 444,
   "metadata": {},
   "outputs": [
    {
     "data": {
      "text/plain": [
       "['age',\n",
       " 'workclass',\n",
       " 'fnlwgt',\n",
       " 'education',\n",
       " 'education.num',\n",
       " 'marital.status',\n",
       " 'occupation',\n",
       " 'relationship',\n",
       " 'race',\n",
       " 'sex',\n",
       " 'capital.gain',\n",
       " 'capital.loss',\n",
       " 'hours.per.week',\n",
       " 'native.country']"
      ]
     },
     "execution_count": 444,
     "metadata": {},
     "output_type": "execute_result"
    }
   ],
   "source": [
    "list_of_features_with_non_0_var"
   ]
  },
  {
   "cell_type": "code",
   "execution_count": 445,
   "metadata": {},
   "outputs": [],
   "source": [
    "true_negative_predictons=true_negative_predictons[list_of_features_with_non_0_var+[target_column_name]]\n",
    "true_positive_predictions=true_positive_predictions[list_of_features_with_non_0_var+[target_column_name]]"
   ]
  },
  {
   "cell_type": "code",
   "execution_count": 446,
   "metadata": {},
   "outputs": [
    {
     "name": "stdout",
     "output_type": "stream",
     "text": [
      "age\n",
      "fnlwgt\n",
      "education.num\n",
      "capital.gain\n",
      "capital.loss\n",
      "hours.per.week\n"
     ]
    }
   ],
   "source": [
    "\n",
    "column_mean_for_STP_dict={}\n",
    "column_mean_for_STN_dict={}\n",
    "column_std_for_STP_dict={}\n",
    "column_std_for_STN_dict={}\n",
    "for column_name in list_of_features_with_non_0_var:\n",
    "    if column_name not in list_of_catagorical_vars:\n",
    "        print(column_name)\n",
    "        column_mean_for_STP_dict[column_name]=true_positive_predictions[column_name].mean()\n",
    "        column_mean_for_STN_dict[column_name]=true_negative_predictons[column_name].mean()\n",
    "        column_std_for_STN_dict[column_name]=true_positive_predictions[column_name].std()\n",
    "        column_std_for_STP_dict[column_name]=true_negative_predictons[column_name].std()"
   ]
  },
  {
   "cell_type": "code",
   "execution_count": 447,
   "metadata": {},
   "outputs": [
    {
     "data": {
      "text/plain": [
       "{'age': 36.74813654531706,\n",
       " 'fnlwgt': 190128.38813870584,\n",
       " 'education.num': 9.580155557956141,\n",
       " 'capital.gain': 149.1267149184401,\n",
       " 'capital.loss': 54.011828886248246,\n",
       " 'hours.per.week': 38.81365453170574}"
      ]
     },
     "execution_count": 447,
     "metadata": {},
     "output_type": "execute_result"
    }
   ],
   "source": [
    "column_mean_for_STN_dict"
   ]
  },
  {
   "cell_type": "code",
   "execution_count": 448,
   "metadata": {},
   "outputs": [
    {
     "data": {
      "text/plain": [
       "{'age': 44.099729089061974,\n",
       " 'fnlwgt': 189128.2414493735,\n",
       " 'education.num': 11.622925838130714,\n",
       " 'capital.gain': 4149.221977649848,\n",
       " 'capital.loss': 199.26413816457838,\n",
       " 'hours.per.week': 45.48272942770064}"
      ]
     },
     "execution_count": 448,
     "metadata": {},
     "output_type": "execute_result"
    }
   ],
   "source": [
    "column_mean_for_STP_dict"
   ]
  },
  {
   "cell_type": "code",
   "execution_count": null,
   "metadata": {},
   "outputs": [],
   "source": []
  },
  {
   "cell_type": "code",
   "execution_count": 449,
   "metadata": {},
   "outputs": [],
   "source": [
    "num_of_samples_in_STP=len(true_positive_predictions.columns)\n",
    "num_of_samples_in_STN=len(true_negative_predictons.columns)"
   ]
  },
  {
   "cell_type": "code",
   "execution_count": 450,
   "metadata": {},
   "outputs": [],
   "source": [
    "def getZmeanDiff(columnName):\n",
    "    num=column_mean_for_STN_dict[column_name]+column_mean_for_STP_dict[column_name]\n",
    "    dnum=((column_std_for_STN_dict[column_name]**2)/num_of_samples_in_STN)+((column_mean_for_STP_dict[column_name]**2)/num_of_samples_in_STP)\n",
    "    dnum=math.sqrt(dnum)\n",
    "    return num/dnum"
   ]
  },
  {
   "cell_type": "code",
   "execution_count": 451,
   "metadata": {},
   "outputs": [],
   "source": [
    "from math import exp\n",
    "from sklearn.utils import resample\n",
    "\n",
    "\n",
    "def getChiSquaredTest(columnName):\n",
    "    expected_dict={}\n",
    "    obs_dict={}\n",
    "    unique_val_in_stp=list(true_positive_predictions[column_name].unique())\n",
    "    unique_val_in_stn=list(true_negative_predictons[col_name].unique())\n",
    "    # print(unique_val_in_stp,\" \",unique_val_in_stn)\n",
    "    obs_freq={}\n",
    "    exp_freq={}\n",
    "    for val in (unique_val_in_stn+ unique_val_in_stp) :\n",
    "        obs_freq[val]=0\n",
    "        exp_freq[val]=0\n",
    "    # print(obs_freq)\n",
    "    # print(exp_freq)\n",
    "    tndict=pd.value_counts(true_negative_predictons[col_name]).to_dict()\n",
    "    tpdict=pd.value_counts(true_positive_predictions[col_name]).to_dict()\n",
    "    res=0\n",
    "    # print(\"Res:\",res)\n",
    "    # print(obs_freq.keys())\n",
    "    # print(exp_freq.keys())\n",
    "    for val in (unique_val_in_stn+unique_val_in_stp):\n",
    "        if val in tpdict.keys():\n",
    "            obs_freq[val]=(tpdict[val]/ true_positive_predictions.shape[1])\n",
    "        if val in tndict.keys():\n",
    "            exp_freq[val]=(tndict[val]/ true_negative_predictons.shape[1])\n",
    "        # print(obs_dic/t[val])\n",
    "        # print(exp_)\n",
    "        if exp_freq[val]==0:\n",
    "            exp_freq[val]=0.2\n",
    "        res+=((obs_freq[val]-exp_freq[val])**2)/exp_freq[val]\n",
    "    return res\n",
    "    \n",
    "    \n",
    "    \n",
    "\n",
    "\n",
    "    "
   ]
  },
  {
   "cell_type": "code",
   "execution_count": 452,
   "metadata": {},
   "outputs": [
    {
     "data": {
      "text/plain": [
       "['age',\n",
       " 'workclass',\n",
       " 'fnlwgt',\n",
       " 'education',\n",
       " 'education.num',\n",
       " 'marital.status',\n",
       " 'occupation',\n",
       " 'relationship',\n",
       " 'race',\n",
       " 'sex',\n",
       " 'capital.gain',\n",
       " 'capital.loss',\n",
       " 'hours.per.week',\n",
       " 'native.country']"
      ]
     },
     "execution_count": 452,
     "metadata": {},
     "output_type": "execute_result"
    }
   ],
   "source": [
    "list_of_features_with_non_0_var"
   ]
  },
  {
   "cell_type": "code",
   "execution_count": 453,
   "metadata": {},
   "outputs": [],
   "source": [
    "Z_diff_btw_two_means_dict={}\n",
    "chi_squared_dict={}\n",
    "for column_name in list_of_features_with_non_0_var:\n",
    "    # print(\"cn:\",column_name)\n",
    "    if column_name not in list_of_catagorical_vars:\n",
    "        Z_diff_btw_two_means_dict[column_name]=getZmeanDiff(column_name)\n",
    "    else:\n",
    "        chi_squared_dict[column_name]=getChiSquaredTest(column_name)"
   ]
  },
  {
   "cell_type": "code",
   "execution_count": 454,
   "metadata": {},
   "outputs": [
    {
     "data": {
      "text/plain": [
       "{'age': 6.906652428324939,\n",
       " 'fnlwgt': 6.815417950008579,\n",
       " 'education.num': 6.920176811301177,\n",
       " 'capital.gain': 1.072349558212845,\n",
       " 'capital.loss': 1.5481407792603785,\n",
       " 'hours.per.week': 6.976513777007731}"
      ]
     },
     "execution_count": 454,
     "metadata": {},
     "output_type": "execute_result"
    }
   ],
   "source": [
    "Z_diff_btw_two_means_dict"
   ]
  },
  {
   "cell_type": "code",
   "execution_count": 455,
   "metadata": {},
   "outputs": [
    {
     "data": {
      "text/plain": [
       "{'workclass': 597.1544492539992,\n",
       " 'education': 606.199924455903,\n",
       " 'marital.status': 597.3941317936818,\n",
       " 'occupation': 608.6802274862059,\n",
       " 'relationship': 594.5217913681499,\n",
       " 'race': 593.2973015722316,\n",
       " 'sex': 587.8984732937334,\n",
       " 'native.country': 1155.4932428837628}"
      ]
     },
     "execution_count": 455,
     "metadata": {},
     "output_type": "execute_result"
    }
   ],
   "source": [
    "chi_squared_dict"
   ]
  },
  {
   "cell_type": "code",
   "execution_count": 456,
   "metadata": {},
   "outputs": [],
   "source": [
    "F=[]#\n",
    "for column_name in list_of_features_with_non_0_var:\n",
    "    if( column_name not in list_of_catagorical_vars and  Z_diff_btw_two_means_dict[column_name]>=tz):\n",
    "        F+=[column_name]\n",
    "    elif (column_name in list_of_catagorical_vars and chi_squared_dict[col_name]>=tc):\n",
    "        F+=[column_name]"
   ]
  },
  {
   "cell_type": "code",
   "execution_count": 457,
   "metadata": {},
   "outputs": [
    {
     "data": {
      "text/plain": [
       "['age',\n",
       " 'workclass',\n",
       " 'fnlwgt',\n",
       " 'education',\n",
       " 'education.num',\n",
       " 'marital.status',\n",
       " 'occupation',\n",
       " 'relationship',\n",
       " 'race',\n",
       " 'sex',\n",
       " 'capital.gain',\n",
       " 'capital.loss',\n",
       " 'hours.per.week',\n",
       " 'native.country']"
      ]
     },
     "execution_count": 457,
     "metadata": {},
     "output_type": "execute_result"
    }
   ],
   "source": [
    "F"
   ]
  },
  {
   "cell_type": "code",
   "execution_count": 458,
   "metadata": {},
   "outputs": [],
   "source": [
    "def get_tpr_to_fpr_ratio(df,column_name,thresh,target_column_name, iscategorical=0):\n",
    "    tp=0\n",
    "    fp=0\n",
    "    fn=0\n",
    "    tn=0\n",
    "    if iscategorical==0:\n",
    "        for index,row in df.iterrows():\n",
    "            if(row[column_name]>=thresh):\n",
    "                if(row[target_column_name]==1):\n",
    "                    tp+=1\n",
    "                else:\n",
    "                    fp+=1\n",
    "            else:\n",
    "                if(row[target_column_name]==0):\n",
    "                    tn+=1\n",
    "                else:\n",
    "                    fn+=1\n",
    "    else:\n",
    "        for index,row in df.iterrows():\n",
    "            if(row[column_name]==thresh):\n",
    "                if(row[target_column_name]==1):\n",
    "                    tp+=1\n",
    "                else:\n",
    "                    fp+=1\n",
    "            else:\n",
    "                if(row[target_column_name]==0):\n",
    "                    tn+=1\n",
    "                else:\n",
    "                    fn+=1\n",
    "\n",
    "    tpr=tp/(fn+tp)\n",
    "    fpr=fp/(fn+tp)\n",
    "    if fpr==0:\n",
    "        fpr=10000000\n",
    "    # print(\"TPR:\",tpr,\" Fpr:\",fpr)\n",
    "    return tpr/fpr\n",
    "\n",
    "        \n",
    "   \n",
    "def get_aib_for_feature(column_name,df,step,target_column_name):\n",
    "    myet=0\n",
    "    aib=-1\n",
    "    start_val=int(math.floor(df[column_name].min()))\n",
    "    end_val=int(math.ceil(df[column_name].max()))\n",
    "    step=max(1,int((end_val-start_val)/200))\n",
    "    for poss_thres in range(start_val,end_val,step):\n",
    "        val=get_tpr_to_fpr_ratio(df,column_name,poss_thres,target_column_name)\n",
    "        # print(\"for thresh:\",poss_thres,\" val:\",val,\"myet:\", myet)\n",
    "        if(myet<val):\n",
    "            aib=poss_thres\n",
    "            myet=val\n",
    "    return aib\n",
    "\n",
    "\n",
    "\n"
   ]
  },
  {
   "cell_type": "code",
   "execution_count": 459,
   "metadata": {},
   "outputs": [],
   "source": [
    "# def get_tpr_to_fpr_ratio(df,column_name,val,target_column_name):\n",
    "def get_aib_for_cat_feature(column_name,df,target_column_name):\n",
    "    local_dict={}\n",
    "    for value in df[column_name].unique():\n",
    "        local_dict[(column_name,value)]=get_tpr_to_fpr_ratio(df,column_name,value,target_column_name,iscategorical=1)\n",
    "    return local_dict  \n",
    "        \n",
    "        \n"
   ]
  },
  {
   "cell_type": "code",
   "execution_count": 460,
   "metadata": {},
   "outputs": [
    {
     "name": "stderr",
     "output_type": "stream",
     "text": [
      "100%|██████████| 14/14 [15:49<00:00, 67.82s/it] \n"
     ]
    }
   ],
   "source": [
    "from tqdm import tqdm\n",
    "# tempf=['Pregnancies']\n",
    "aib_dict_for_F={}\n",
    "aib_dict_for_cat_F={}\n",
    "best_tpr_by_fpr_for_feature={}\n",
    "for column_name in tqdm(F):\n",
    "    if column_name not in list_of_catagorical_vars:\n",
    "        aib_dict_for_F[column_name]=get_aib_for_feature(column_name,true_predictions,1,target_column_name)\n",
    "        best_tpr_by_fpr_for_feature[column_name]=get_tpr_to_fpr_ratio(true_predictions,column_name,aib_dict_for_F[column_name],target_column_name)\n",
    "    else :\n",
    "        temp_dict=get_aib_for_cat_feature(column_name,true_predictions,target_column_name)\n",
    "        aib_dict_for_cat_F.update(temp_dict)\n",
    "        best_tpr_by_fpr_for_feature.update(temp_dict)\n",
    "        "
   ]
  },
  {
   "cell_type": "code",
   "execution_count": 461,
   "metadata": {},
   "outputs": [],
   "source": [
    "ranked_best_tpr_by_fpr_features=sorted(best_tpr_by_fpr_for_feature, key=lambda k: best_tpr_by_fpr_for_feature[k],reverse=True)"
   ]
  },
  {
   "cell_type": "code",
   "execution_count": 462,
   "metadata": {},
   "outputs": [
    {
     "data": {
      "text/plain": [
       "[{'column_name': 'capital.gain', 'sign': '>', 'thresh': 34431},\n",
       " {'column_name': 'capital.loss', 'sign': '>', 'thresh': 2394},\n",
       " {'column_name': 'education', 'sign': '==', 'thresh': 10},\n",
       " {'column_name': 'education.num', 'sign': '>', 'thresh': 15},\n",
       " {'column_name': 'education', 'sign': '==', 'thresh': 14},\n",
       " {'column_name': 'education', 'sign': '==', 'thresh': 12},\n",
       " {'column_name': 'workclass', 'sign': '==', 'thresh': 5},\n",
       " {'column_name': 'occupation', 'sign': '==', 'thresh': 4},\n",
       " {'column_name': 'relationship', 'sign': '==', 'thresh': 5},\n",
       " {'column_name': 'native.country', 'sign': '==', 'thresh': 10},\n",
       " {'column_name': 'occupation', 'sign': '==', 'thresh': 10},\n",
       " {'column_name': 'relationship', 'sign': '==', 'thresh': 0},\n",
       " {'column_name': 'marital.status', 'sign': '==', 'thresh': 2},\n",
       " {'column_name': 'native.country', 'sign': '==', 'thresh': 24},\n",
       " {'column_name': 'hours.per.week', 'sign': '>', 'thresh': 50},\n",
       " {'column_name': 'education', 'sign': '==', 'thresh': 9},\n",
       " {'column_name': 'native.country', 'sign': '==', 'thresh': 20},\n",
       " {'column_name': 'native.country', 'sign': '==', 'thresh': 36},\n",
       " {'column_name': 'workclass', 'sign': '==', 'thresh': 1},\n",
       " {'column_name': 'native.country', 'sign': '==', 'thresh': 41},\n",
       " {'column_name': 'native.country', 'sign': '==', 'thresh': 9},\n",
       " {'column_name': 'age', 'sign': '>', 'thresh': 42},\n",
       " {'column_name': 'native.country', 'sign': '==', 'thresh': 19},\n",
       " {'column_name': 'fnlwgt', 'sign': '>', 'thresh': 932535},\n",
       " {'column_name': 'native.country', 'sign': '==', 'thresh': 12},\n",
       " {'column_name': 'native.country', 'sign': '==', 'thresh': 17},\n",
       " {'column_name': 'native.country', 'sign': '==', 'thresh': 11},\n",
       " {'column_name': 'occupation', 'sign': '==', 'thresh': 13},\n",
       " {'column_name': 'native.country', 'sign': '==', 'thresh': 1},\n",
       " {'column_name': 'sex', 'sign': '==', 'thresh': 1},\n",
       " {'column_name': 'native.country', 'sign': '==', 'thresh': 30},\n",
       " {'column_name': 'occupation', 'sign': '==', 'thresh': 11},\n",
       " {'column_name': 'workclass', 'sign': '==', 'thresh': 6},\n",
       " {'column_name': 'native.country', 'sign': '==', 'thresh': 21},\n",
       " {'column_name': 'workclass', 'sign': '==', 'thresh': 2},\n",
       " {'column_name': 'native.country', 'sign': '==', 'thresh': 5},\n",
       " {'column_name': 'occupation', 'sign': '==', 'thresh': 12},\n",
       " {'column_name': 'native.country', 'sign': '==', 'thresh': 18},\n",
       " {'column_name': 'native.country', 'sign': '==', 'thresh': 2},\n",
       " {'column_name': 'workclass', 'sign': '==', 'thresh': 7},\n",
       " {'column_name': 'education', 'sign': '==', 'thresh': 8},\n",
       " {'column_name': 'native.country', 'sign': '==', 'thresh': 3},\n",
       " {'column_name': 'race', 'sign': '==', 'thresh': 4},\n",
       " {'column_name': 'race', 'sign': '==', 'thresh': 1},\n",
       " {'column_name': 'native.country', 'sign': '==', 'thresh': 0},\n",
       " {'column_name': 'native.country', 'sign': '==', 'thresh': 39},\n",
       " {'column_name': 'education', 'sign': '==', 'thresh': 7},\n",
       " {'column_name': 'occupation', 'sign': '==', 'thresh': 3},\n",
       " {'column_name': 'workclass', 'sign': '==', 'thresh': 4},\n",
       " {'column_name': 'marital.status', 'sign': '==', 'thresh': 1},\n",
       " {'column_name': 'native.country', 'sign': '==', 'thresh': 22},\n",
       " {'column_name': 'native.country', 'sign': '==', 'thresh': 34},\n",
       " {'column_name': 'occupation', 'sign': '==', 'thresh': 14},\n",
       " {'column_name': 'education', 'sign': '==', 'thresh': 15},\n",
       " {'column_name': 'native.country', 'sign': '==', 'thresh': 35},\n",
       " {'column_name': 'native.country', 'sign': '==', 'thresh': 31},\n",
       " {'column_name': 'native.country', 'sign': '==', 'thresh': 37},\n",
       " {'column_name': 'native.country', 'sign': '==', 'thresh': 7},\n",
       " {'column_name': 'education', 'sign': '==', 'thresh': 11},\n",
       " {'column_name': 'native.country', 'sign': '==', 'thresh': 32},\n",
       " {'column_name': 'native.country', 'sign': '==', 'thresh': 25},\n",
       " {'column_name': 'occupation', 'sign': '==', 'thresh': 7},\n",
       " {'column_name': 'occupation', 'sign': '==', 'thresh': 1},\n",
       " {'column_name': 'native.country', 'sign': '==', 'thresh': 23},\n",
       " {'column_name': 'native.country', 'sign': '==', 'thresh': 16},\n",
       " {'column_name': 'race', 'sign': '==', 'thresh': 2},\n",
       " {'column_name': 'native.country', 'sign': '==', 'thresh': 38},\n",
       " {'column_name': 'occupation', 'sign': '==', 'thresh': 5},\n",
       " {'column_name': 'race', 'sign': '==', 'thresh': 0},\n",
       " {'column_name': 'occupation', 'sign': '==', 'thresh': 2},\n",
       " {'column_name': 'sex', 'sign': '==', 'thresh': 0},\n",
       " {'column_name': 'native.country', 'sign': '==', 'thresh': 33},\n",
       " {'column_name': 'relationship', 'sign': '==', 'thresh': 1},\n",
       " {'column_name': 'marital.status', 'sign': '==', 'thresh': 0},\n",
       " {'column_name': 'workclass', 'sign': '==', 'thresh': 0},\n",
       " {'column_name': 'occupation', 'sign': '==', 'thresh': 0},\n",
       " {'column_name': 'race', 'sign': '==', 'thresh': 3},\n",
       " {'column_name': 'native.country', 'sign': '==', 'thresh': 14},\n",
       " {'column_name': 'marital.status', 'sign': '==', 'thresh': 3},\n",
       " {'column_name': 'native.country', 'sign': '==', 'thresh': 29},\n",
       " {'column_name': 'marital.status', 'sign': '==', 'thresh': 6},\n",
       " {'column_name': 'education', 'sign': '==', 'thresh': 2},\n",
       " {'column_name': 'native.country', 'sign': '==', 'thresh': 27},\n",
       " {'column_name': 'native.country', 'sign': '==', 'thresh': 40},\n",
       " {'column_name': 'marital.status', 'sign': '==', 'thresh': 5},\n",
       " {'column_name': 'occupation', 'sign': '==', 'thresh': 6},\n",
       " {'column_name': 'education', 'sign': '==', 'thresh': 0},\n",
       " {'column_name': 'relationship', 'sign': '==', 'thresh': 4},\n",
       " {'column_name': 'native.country', 'sign': '==', 'thresh': 13},\n",
       " {'column_name': 'education', 'sign': '==', 'thresh': 1},\n",
       " {'column_name': 'education', 'sign': '==', 'thresh': 5},\n",
       " {'column_name': 'education', 'sign': '==', 'thresh': 4},\n",
       " {'column_name': 'native.country', 'sign': '==', 'thresh': 8},\n",
       " {'column_name': 'native.country', 'sign': '==', 'thresh': 26},\n",
       " {'column_name': 'marital.status', 'sign': '==', 'thresh': 4},\n",
       " {'column_name': 'education', 'sign': '==', 'thresh': 6},\n",
       " {'column_name': 'native.country', 'sign': '==', 'thresh': 4},\n",
       " {'column_name': 'occupation', 'sign': '==', 'thresh': 8},\n",
       " {'column_name': 'native.country', 'sign': '==', 'thresh': 6},\n",
       " {'column_name': 'relationship', 'sign': '==', 'thresh': 2},\n",
       " {'column_name': 'education', 'sign': '==', 'thresh': 3},\n",
       " {'column_name': 'relationship', 'sign': '==', 'thresh': 3},\n",
       " {'column_name': 'occupation', 'sign': '==', 'thresh': 9},\n",
       " {'column_name': 'workclass', 'sign': '==', 'thresh': 8},\n",
       " {'column_name': 'workclass', 'sign': '==', 'thresh': 3},\n",
       " {'column_name': 'education', 'sign': '==', 'thresh': 13},\n",
       " {'column_name': 'native.country', 'sign': '==', 'thresh': 28},\n",
       " {'column_name': 'native.country', 'sign': '==', 'thresh': 15}]"
      ]
     },
     "execution_count": 462,
     "metadata": {},
     "output_type": "execute_result"
    }
   ],
   "source": [
    "all_rule_list=[]\n",
    "for value in ranked_best_tpr_by_fpr_features:\n",
    "    \n",
    "    if type(value) is not tuple:\n",
    "        temp_dict={\n",
    "            \"column_name\":value,\n",
    "            \"sign\":\">\",\n",
    "            \"thresh\":aib_dict_for_F[value]\n",
    "        }\n",
    "    else :\n",
    "        temp_dict={\n",
    "            \"column_name\":value[0],\n",
    "            \"sign\":\"==\",\n",
    "            \"thresh\":value[1]\n",
    "        }\n",
    "\n",
    "    all_rule_list.append(temp_dict)\n",
    "all_rule_list"
   ]
  },
  {
   "cell_type": "code",
   "execution_count": 463,
   "metadata": {},
   "outputs": [],
   "source": [
    "def isRuleSatisfied(rule_list,row):\n",
    "    for rule in rule_list:\n",
    "        cname=rule['column_name']\n",
    "        if rule['sign']=='>':\n",
    "            if row[cname]<=rule['thresh']:\n",
    "                return False\n",
    "        elif rule['sign']=='==':\n",
    "            if row[cname]!=rule['thresh']:\n",
    "                return False\n",
    "    return True"
   ]
  },
  {
   "cell_type": "code",
   "execution_count": 464,
   "metadata": {},
   "outputs": [],
   "source": [
    "def get_tpr_by_fpr_for_rule_list(rule_list,df,target_column_name):\n",
    "    tp=0\n",
    "    tn=0\n",
    "    fp=0\n",
    "    fn=0\n",
    "    for index,row in df.iterrows():\n",
    "        \n",
    "        if(isRuleSatisfied(rule_list,row)):\n",
    "            if(row[target_column_name]==1):\n",
    "                tp+=1\n",
    "            else:\n",
    "                fp+=1\n",
    "        else:\n",
    "            if(row[target_column_name]==0):\n",
    "                tn+=1\n",
    "            else:\n",
    "                fn+=1\n",
    "    tpr=0\n",
    "    fpr=0\n",
    "    if tp+fp==0:\n",
    "        tpr=tp/0.1\n",
    "    else:\n",
    "        tpr=tp/(fn+tp)\n",
    "    if fn+tp==0:\n",
    "        fpr=fp/0.1\n",
    "    else:\n",
    "        fpr=fp/(fn+tp)\n",
    "    # print(\"tp:\",tp,\" fp:\",fp,\" tn:\",tn,\" fn:\",fn,\"TPR:\",tpr,\" Fpr:\",fpr)\n",
    "    if fpr==0:\n",
    "        return (tpr/2000000,0)\n",
    "   \n",
    "    return (tpr/fpr,fpr)\n",
    "    \n",
    "    \n",
    "    "
   ]
  },
  {
   "cell_type": "code",
   "execution_count": 465,
   "metadata": {},
   "outputs": [],
   "source": [
    "final_rule_list=[]"
   ]
  },
  {
   "cell_type": "code",
   "execution_count": 466,
   "metadata": {},
   "outputs": [],
   "source": [
    "# def add_rule_rec(df,all_rule_list,pres_ind,pres_rule_list,last_tpr_by_fpr_ratio,target_column_name):\n",
    "def delete_rows_satisfying_rule(df,rule_list,target_column_name):\n",
    "    list_of_ind_to_drop=[]\n",
    "    ind=0\n",
    "    for index,row in df.iterrows():\n",
    "        # print(\"ind:\",index)\n",
    "    \n",
    "        if(isRuleSatisfied(rule_list,row)):\n",
    "            if(row[target_column_name]==1):\n",
    "                list_of_ind_to_drop+=[ind]\n",
    "        else:\n",
    "            if(row[target_column_name]==0):\n",
    "                list_of_ind_to_drop+=[ind]\n",
    "        ind+=1\n",
    "    df.drop(df.index[[list_of_ind_to_drop]],inplace=True)\n",
    "    return df\n",
    "    \n",
    "\n"
   ]
  },
  {
   "cell_type": "code",
   "execution_count": 467,
   "metadata": {},
   "outputs": [
    {
     "name": "stderr",
     "output_type": "stream",
     "text": [
      "  0%|          | 0/108 [00:00<?, ?it/s]c:\\Users\\acer\\AppData\\Local\\Programs\\Python\\Python37\\lib\\site-packages\\pandas\\core\\indexes\\base.py:4616: FutureWarning: Using a non-tuple sequence for multidimensional indexing is deprecated; use `arr[tuple(seq)]` instead of `arr[seq]`. In the future this will be interpreted as an array index, `arr[np.array(seq)]`, which will result either in an error or a different result.\n",
      "  result = getitem(key)\n",
      "100%|██████████| 108/108 [17:07<00:00,  9.51s/it]  \n"
     ]
    }
   ],
   "source": [
    "result_rule_list=[]\n",
    "df=true_predictions.copy()\n",
    "for init_rule_ind in tqdm(range(0,len(all_rule_list))):\n",
    "    init_rule_list=[all_rule_list[init_rule_ind]]\n",
    "    (init_tpr_by_fpr,_)=get_tpr_by_fpr_for_rule_list(init_rule_list,df,target_column_name)\n",
    "    # print(\"rule list:\", init_rule_list)\n",
    "    # print(\"tpr/fppr:\",init_tpr_by_fpr)\n",
    "    # print(\"df shape::\",df.shape)\n",
    "    new_rule_list=init_rule_list.copy()\n",
    "    last_ratio=tpr_by_fpr_min_thresh\n",
    "    vis=[0]*len(all_rule_list)\n",
    "    vis[init_rule_ind]=1\n",
    "    max_tpr_fpr_ratio=init_tpr_by_fpr\n",
    "    max_tpr_fpr_ratio_ind=-1\n",
    "    while get_tpr_by_fpr_for_rule_list(new_rule_list,df,target_column_name)[0]> last_ratio:\n",
    "        init_rule_list=new_rule_list\n",
    "        max_tpr_fpr_ratio=0\n",
    "        max_tpr_fpr_ratio_ind=-1\n",
    "        for new_rule_ind in range(len(all_rule_list)):\n",
    "            if(vis[new_rule_ind]==1):\n",
    "                continue\n",
    "            temp_new_rule_list=new_rule_list.copy()\n",
    "            temp_new_rule_list+=[all_rule_list[new_rule_ind]]\n",
    "            (new_tpr_by_fpr,fpr_for_list)=get_tpr_by_fpr_for_rule_list(temp_new_rule_list,df,target_column_name)\n",
    "            # print(\"for ind:\",new_rule_ind, \"new rat:\",new_tpr_by_fpr,\" fpr_for_list:\",fpr_for_list)\n",
    "            if new_tpr_by_fpr>max_tpr_fpr_ratio and fpr_for_list!=0:\n",
    "                max_tpr_fpr_ratio=new_tpr_by_fpr\n",
    "                max_tpr_fpr_ratio_ind=new_rule_ind\n",
    "        # print(\"new tpr/fpr\",max_tpr_fpr_ratio)\n",
    "        if max_tpr_fpr_ratio_ind==-1:\n",
    "            break\n",
    "        # if max_tpr_fpr_ratio>tpr_by_fpr_min_thresh:\n",
    "        \n",
    "        vis[max_tpr_fpr_ratio_ind]=1\n",
    "        new_rule_list+=[all_rule_list[max_tpr_fpr_ratio_ind]]\n",
    "        \n",
    "    # print( \"init rule list:\",init_rule_list)\n",
    "    result_rule_list.append(init_rule_list)\n",
    "    #removing rows from df which are already classified\n",
    "    # if max_tpr_fpr_ratio_ind==-1:\n",
    "    #     continue\n",
    "    df=delete_rows_satisfying_rule(df,new_rule_list,target_column_name)\n",
    "    # print(\"df shape:\",df.shape)\n",
    "            \n",
    "        \n",
    "\n",
    "\n",
    "\n",
    "    \n",
    "\n"
   ]
  },
  {
   "cell_type": "code",
   "execution_count": 468,
   "metadata": {},
   "outputs": [
    {
     "data": {
      "text/plain": [
       "[[{'column_name': 'capital.gain', 'sign': '>', 'thresh': 34431},\n",
       "  {'column_name': 'native.country', 'sign': '==', 'thresh': 39},\n",
       "  {'column_name': 'race', 'sign': '==', 'thresh': 4},\n",
       "  {'column_name': 'sex', 'sign': '==', 'thresh': 1},\n",
       "  {'column_name': 'relationship', 'sign': '==', 'thresh': 0},\n",
       "  {'column_name': 'marital.status', 'sign': '==', 'thresh': 2},\n",
       "  {'column_name': 'age', 'sign': '>', 'thresh': 42},\n",
       "  {'column_name': 'workclass', 'sign': '==', 'thresh': 6}],\n",
       " [{'column_name': 'capital.loss', 'sign': '>', 'thresh': 2394}],\n",
       " [{'column_name': 'education', 'sign': '==', 'thresh': 10}],\n",
       " [{'column_name': 'education.num', 'sign': '>', 'thresh': 15}],\n",
       " [{'column_name': 'education', 'sign': '==', 'thresh': 14}],\n",
       " [{'column_name': 'education', 'sign': '==', 'thresh': 12}],\n",
       " [{'column_name': 'workclass', 'sign': '==', 'thresh': 5}],\n",
       " [{'column_name': 'occupation', 'sign': '==', 'thresh': 4}],\n",
       " [{'column_name': 'relationship', 'sign': '==', 'thresh': 5}],\n",
       " [{'column_name': 'native.country', 'sign': '==', 'thresh': 10}],\n",
       " [{'column_name': 'occupation', 'sign': '==', 'thresh': 10}],\n",
       " [{'column_name': 'relationship', 'sign': '==', 'thresh': 0}],\n",
       " [{'column_name': 'marital.status', 'sign': '==', 'thresh': 2}],\n",
       " [{'column_name': 'native.country', 'sign': '==', 'thresh': 24}],\n",
       " [{'column_name': 'hours.per.week', 'sign': '>', 'thresh': 50}],\n",
       " [{'column_name': 'education', 'sign': '==', 'thresh': 9}],\n",
       " [{'column_name': 'native.country', 'sign': '==', 'thresh': 20}],\n",
       " [{'column_name': 'native.country', 'sign': '==', 'thresh': 36}],\n",
       " [{'column_name': 'workclass', 'sign': '==', 'thresh': 1}],\n",
       " [{'column_name': 'native.country', 'sign': '==', 'thresh': 41}],\n",
       " [{'column_name': 'native.country', 'sign': '==', 'thresh': 9}],\n",
       " [{'column_name': 'age', 'sign': '>', 'thresh': 42}],\n",
       " [{'column_name': 'native.country', 'sign': '==', 'thresh': 19}],\n",
       " [{'column_name': 'fnlwgt', 'sign': '>', 'thresh': 932535}],\n",
       " [{'column_name': 'native.country', 'sign': '==', 'thresh': 12}],\n",
       " [{'column_name': 'native.country', 'sign': '==', 'thresh': 17}],\n",
       " [{'column_name': 'native.country', 'sign': '==', 'thresh': 11}],\n",
       " [{'column_name': 'occupation', 'sign': '==', 'thresh': 13}],\n",
       " [{'column_name': 'native.country', 'sign': '==', 'thresh': 1}],\n",
       " [{'column_name': 'sex', 'sign': '==', 'thresh': 1}],\n",
       " [{'column_name': 'native.country', 'sign': '==', 'thresh': 30}],\n",
       " [{'column_name': 'occupation', 'sign': '==', 'thresh': 11}],\n",
       " [{'column_name': 'workclass', 'sign': '==', 'thresh': 6}],\n",
       " [{'column_name': 'native.country', 'sign': '==', 'thresh': 21}],\n",
       " [{'column_name': 'workclass', 'sign': '==', 'thresh': 2}],\n",
       " [{'column_name': 'native.country', 'sign': '==', 'thresh': 5}],\n",
       " [{'column_name': 'occupation', 'sign': '==', 'thresh': 12}],\n",
       " [{'column_name': 'native.country', 'sign': '==', 'thresh': 18}],\n",
       " [{'column_name': 'native.country', 'sign': '==', 'thresh': 2}],\n",
       " [{'column_name': 'workclass', 'sign': '==', 'thresh': 7}],\n",
       " [{'column_name': 'education', 'sign': '==', 'thresh': 8}],\n",
       " [{'column_name': 'native.country', 'sign': '==', 'thresh': 3}],\n",
       " [{'column_name': 'race', 'sign': '==', 'thresh': 4}],\n",
       " [{'column_name': 'race', 'sign': '==', 'thresh': 1}],\n",
       " [{'column_name': 'native.country', 'sign': '==', 'thresh': 0}],\n",
       " [{'column_name': 'native.country', 'sign': '==', 'thresh': 39}],\n",
       " [{'column_name': 'education', 'sign': '==', 'thresh': 7}],\n",
       " [{'column_name': 'occupation', 'sign': '==', 'thresh': 3}],\n",
       " [{'column_name': 'workclass', 'sign': '==', 'thresh': 4}],\n",
       " [{'column_name': 'marital.status', 'sign': '==', 'thresh': 1}],\n",
       " [{'column_name': 'native.country', 'sign': '==', 'thresh': 22}],\n",
       " [{'column_name': 'native.country', 'sign': '==', 'thresh': 34}],\n",
       " [{'column_name': 'occupation', 'sign': '==', 'thresh': 14}],\n",
       " [{'column_name': 'education', 'sign': '==', 'thresh': 15}],\n",
       " [{'column_name': 'native.country', 'sign': '==', 'thresh': 35}],\n",
       " [{'column_name': 'native.country', 'sign': '==', 'thresh': 31}],\n",
       " [{'column_name': 'native.country', 'sign': '==', 'thresh': 37}],\n",
       " [{'column_name': 'native.country', 'sign': '==', 'thresh': 7}],\n",
       " [{'column_name': 'education', 'sign': '==', 'thresh': 11}],\n",
       " [{'column_name': 'native.country', 'sign': '==', 'thresh': 32}],\n",
       " [{'column_name': 'native.country', 'sign': '==', 'thresh': 25}],\n",
       " [{'column_name': 'occupation', 'sign': '==', 'thresh': 7}],\n",
       " [{'column_name': 'occupation', 'sign': '==', 'thresh': 1}],\n",
       " [{'column_name': 'native.country', 'sign': '==', 'thresh': 23}],\n",
       " [{'column_name': 'native.country', 'sign': '==', 'thresh': 16}],\n",
       " [{'column_name': 'race', 'sign': '==', 'thresh': 2}],\n",
       " [{'column_name': 'native.country', 'sign': '==', 'thresh': 38}],\n",
       " [{'column_name': 'occupation', 'sign': '==', 'thresh': 5}],\n",
       " [{'column_name': 'race', 'sign': '==', 'thresh': 0}],\n",
       " [{'column_name': 'occupation', 'sign': '==', 'thresh': 2}],\n",
       " [{'column_name': 'sex', 'sign': '==', 'thresh': 0}],\n",
       " [{'column_name': 'native.country', 'sign': '==', 'thresh': 33}],\n",
       " [{'column_name': 'relationship', 'sign': '==', 'thresh': 1}],\n",
       " [{'column_name': 'marital.status', 'sign': '==', 'thresh': 0}],\n",
       " [{'column_name': 'workclass', 'sign': '==', 'thresh': 0}],\n",
       " [{'column_name': 'occupation', 'sign': '==', 'thresh': 0}],\n",
       " [{'column_name': 'race', 'sign': '==', 'thresh': 3}],\n",
       " [{'column_name': 'native.country', 'sign': '==', 'thresh': 14}],\n",
       " [{'column_name': 'marital.status', 'sign': '==', 'thresh': 3}],\n",
       " [{'column_name': 'native.country', 'sign': '==', 'thresh': 29}],\n",
       " [{'column_name': 'marital.status', 'sign': '==', 'thresh': 6}],\n",
       " [{'column_name': 'education', 'sign': '==', 'thresh': 2}],\n",
       " [{'column_name': 'native.country', 'sign': '==', 'thresh': 27}],\n",
       " [{'column_name': 'native.country', 'sign': '==', 'thresh': 40}],\n",
       " [{'column_name': 'marital.status', 'sign': '==', 'thresh': 5}],\n",
       " [{'column_name': 'occupation', 'sign': '==', 'thresh': 6}],\n",
       " [{'column_name': 'education', 'sign': '==', 'thresh': 0}],\n",
       " [{'column_name': 'relationship', 'sign': '==', 'thresh': 4}],\n",
       " [{'column_name': 'native.country', 'sign': '==', 'thresh': 13}],\n",
       " [{'column_name': 'education', 'sign': '==', 'thresh': 1}],\n",
       " [{'column_name': 'education', 'sign': '==', 'thresh': 5}],\n",
       " [{'column_name': 'education', 'sign': '==', 'thresh': 4}],\n",
       " [{'column_name': 'native.country', 'sign': '==', 'thresh': 8}],\n",
       " [{'column_name': 'native.country', 'sign': '==', 'thresh': 26}],\n",
       " [{'column_name': 'marital.status', 'sign': '==', 'thresh': 4}],\n",
       " [{'column_name': 'education', 'sign': '==', 'thresh': 6}],\n",
       " [{'column_name': 'native.country', 'sign': '==', 'thresh': 4}],\n",
       " [{'column_name': 'occupation', 'sign': '==', 'thresh': 8}],\n",
       " [{'column_name': 'native.country', 'sign': '==', 'thresh': 6}],\n",
       " [{'column_name': 'relationship', 'sign': '==', 'thresh': 2}],\n",
       " [{'column_name': 'education', 'sign': '==', 'thresh': 3}],\n",
       " [{'column_name': 'relationship', 'sign': '==', 'thresh': 3}],\n",
       " [{'column_name': 'occupation', 'sign': '==', 'thresh': 9}],\n",
       " [{'column_name': 'workclass', 'sign': '==', 'thresh': 8}],\n",
       " [{'column_name': 'workclass', 'sign': '==', 'thresh': 3}],\n",
       " [{'column_name': 'education', 'sign': '==', 'thresh': 13}],\n",
       " [{'column_name': 'native.country', 'sign': '==', 'thresh': 28}],\n",
       " [{'column_name': 'native.country', 'sign': '==', 'thresh': 15}]]"
      ]
     },
     "execution_count": 468,
     "metadata": {},
     "output_type": "execute_result"
    }
   ],
   "source": [
    "result_rule_list"
   ]
  },
  {
   "cell_type": "code",
   "execution_count": 469,
   "metadata": {},
   "outputs": [],
   "source": [
    "def get_rule_list_predictions(rule_list,df):\n",
    "    y_pred=[]\n",
    "    for index,row in df.iterrows():\n",
    "        for rule in rule_list:\n",
    "            if isRuleSatisfied(rule,row):\n",
    "                y_pred+=[1]\n",
    "                break\n",
    "        else:\n",
    "            y_pred+=[0]\n",
    "           \n",
    "    return y_pred\n",
    "\n",
    "                \n",
    "    "
   ]
  },
  {
   "cell_type": "code",
   "execution_count": 470,
   "metadata": {},
   "outputs": [],
   "source": [
    "from sklearn import metrics"
   ]
  },
  {
   "cell_type": "code",
   "execution_count": 471,
   "metadata": {},
   "outputs": [
    {
     "data": {
      "text/plain": [
       "0    18514\n",
       "1     5906\n",
       "Name: income, dtype: int64"
      ]
     },
     "execution_count": 471,
     "metadata": {},
     "output_type": "execute_result"
    }
   ],
   "source": [
    "true_predictions[target_column_name].value_counts()"
   ]
  },
  {
   "cell_type": "code",
   "execution_count": 472,
   "metadata": {},
   "outputs": [
    {
     "name": "stderr",
     "output_type": "stream",
     "text": [
      "100%|██████████| 108/108 [02:06<00:00,  1.17s/it]\n"
     ]
    }
   ],
   "source": [
    "post_pruned_rule_list=[]\n",
    "last_auc_area=0\n",
    "for rule in tqdm(result_rule_list):\n",
    "    temp_y_pred=get_rule_list_predictions(post_pruned_rule_list+[rule],true_predictions)\n",
    "    # print(temp_y_pred)\n",
    "    # print(true_predictions)\n",
    "    # print(\" pred len:\",len(temp_y_pred))\n",
    "    fpr, tpr, thresholds = metrics.roc_curve(true_predictions[target_column_name],temp_y_pred)\n",
    "    # pres_auc=metrics.auc(fpr,tpr)\n",
    "    # print(\"pres auc\",pres_auc)\n",
    "    if(pres_auc-last_auc_area>=0.05):\n",
    "        post_pruned_rule_list.append(rule)\n",
    "        last_auc_area=pres_auc"
   ]
  },
  {
   "cell_type": "code",
   "execution_count": 473,
   "metadata": {},
   "outputs": [
    {
     "data": {
      "text/plain": [
       "[[{'column_name': 'capital.gain', 'sign': '>', 'thresh': 34431},\n",
       "  {'column_name': 'native.country', 'sign': '==', 'thresh': 39},\n",
       "  {'column_name': 'race', 'sign': '==', 'thresh': 4},\n",
       "  {'column_name': 'sex', 'sign': '==', 'thresh': 1},\n",
       "  {'column_name': 'relationship', 'sign': '==', 'thresh': 0},\n",
       "  {'column_name': 'marital.status', 'sign': '==', 'thresh': 2},\n",
       "  {'column_name': 'age', 'sign': '>', 'thresh': 42},\n",
       "  {'column_name': 'workclass', 'sign': '==', 'thresh': 6}]]"
      ]
     },
     "execution_count": 473,
     "metadata": {},
     "output_type": "execute_result"
    }
   ],
   "source": [
    "post_pruned_rule_list"
   ]
  },
  {
   "cell_type": "code",
   "execution_count": 474,
   "metadata": {},
   "outputs": [],
   "source": [
    "def check_accuracy_of_rules_for_dataframe(rule_list,df,target_column_name):\n",
    "    fp=0\n",
    "    fn=0\n",
    "    tp=0\n",
    "    tn=0\n",
    "    for index,row in df.iterrows():\n",
    "        for rule in rule_list:\n",
    "            if isRuleSatisfied(rule,row):\n",
    "                if row[target_column_name]==1:\n",
    "                    tp+=1\n",
    "                else:\n",
    "                    fp+=1\n",
    "                break\n",
    "        else:\n",
    "            if row[target_column_name]==0:\n",
    "                tn+=1\n",
    "            else:\n",
    "                fn+=1\n",
    "    return (tp,tn,fp,fn)"
   ]
  },
  {
   "cell_type": "code",
   "execution_count": 475,
   "metadata": {},
   "outputs": [],
   "source": [
    "(tp,tn,fp,fn)=check_accuracy_of_rules_for_dataframe(post_pruned_rule_list,test_df_final,target_column_name)"
   ]
  },
  {
   "cell_type": "code",
   "execution_count": 476,
   "metadata": {},
   "outputs": [
    {
     "name": "stdout",
     "output_type": "stream",
     "text": [
      "Accuracy of the rules: 0.7623142120132662\n"
     ]
    }
   ],
   "source": [
    "print(\"Accuracy of the rules:\",(tp+tn)/(tp+tn+fp+fn))"
   ]
  },
  {
   "cell_type": "code",
   "execution_count": 477,
   "metadata": {},
   "outputs": [],
   "source": [
    "def print_rule_list(rule_list):\n",
    "    final_res=\"\\n\"\n",
    "    for rules in rule_list:\n",
    "        res=\"IF \"\n",
    "        # print(\"r:\",rules[0])\n",
    "        for i in range(0,len(rules)):\n",
    "            if i>0:\n",
    "                res+=\" AND \"\n",
    "            res+=rules[i]['column_name']\n",
    "            res+=\" \"\n",
    "            res+=rules[i]['sign']\n",
    "            res+=\" \"\n",
    "            if rules[i]['column_name'] in list_of_catagorical_vars:\n",
    "                val=rules[i]['thresh']\n",
    "                cname=rules[i]['column_name']    \n",
    "                res+=str(encoded_to_orig_dict[cname][val])\n",
    "            else:\n",
    "                res+=str(rules[i]['thresh'])\n",
    "        res+=\" THEN OUTCOME IS 1\"\n",
    "        # print(\"res:\",res)\n",
    "        final_res+=\"\\n\"\n",
    "        final_res+=res\n",
    "    print(final_res)        "
   ]
  },
  {
   "cell_type": "code",
   "execution_count": 478,
   "metadata": {},
   "outputs": [
    {
     "name": "stdout",
     "output_type": "stream",
     "text": [
      "\n",
      "\n",
      "IF capital.gain > 34431 AND native.country == United-States AND race == White AND sex == Male AND relationship == Husband AND marital.status == Married-civ-spouse AND age > 42 AND workclass == Self-emp-not-inc THEN OUTCOME IS 1\n"
     ]
    }
   ],
   "source": [
    "print_rule_list(post_pruned_rule_list)\n"
   ]
  },
  {
   "cell_type": "code",
   "execution_count": null,
   "metadata": {},
   "outputs": [],
   "source": []
  },
  {
   "cell_type": "code",
   "execution_count": null,
   "metadata": {},
   "outputs": [],
   "source": []
  },
  {
   "cell_type": "code",
   "execution_count": null,
   "metadata": {},
   "outputs": [],
   "source": []
  },
  {
   "cell_type": "code",
   "execution_count": null,
   "metadata": {},
   "outputs": [],
   "source": []
  },
  {
   "cell_type": "code",
   "execution_count": null,
   "metadata": {},
   "outputs": [],
   "source": []
  },
  {
   "cell_type": "code",
   "execution_count": null,
   "metadata": {},
   "outputs": [],
   "source": []
  },
  {
   "cell_type": "code",
   "execution_count": null,
   "metadata": {},
   "outputs": [],
   "source": []
  },
  {
   "cell_type": "code",
   "execution_count": null,
   "metadata": {},
   "outputs": [],
   "source": []
  }
 ],
 "metadata": {
  "kernelspec": {
   "display_name": "Python 3.7.9 64-bit",
   "language": "python",
   "name": "python3"
  },
  "language_info": {
   "codemirror_mode": {
    "name": "ipython",
    "version": 3
   },
   "file_extension": ".py",
   "mimetype": "text/x-python",
   "name": "python",
   "nbconvert_exporter": "python",
   "pygments_lexer": "ipython3",
   "version": "3.7.9"
  },
  "orig_nbformat": 4,
  "vscode": {
   "interpreter": {
    "hash": "e63ba49aebc988b646e1dbf99c75ebbbe79a20618136c52c827b2893e897d8ad"
   }
  }
 },
 "nbformat": 4,
 "nbformat_minor": 2
}
